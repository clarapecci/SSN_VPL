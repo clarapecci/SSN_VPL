{
 "cells": [
  {
   "cell_type": "markdown",
   "id": "6f705ccc",
   "metadata": {},
   "source": [
    "## Analysis"
   ]
  },
  {
   "cell_type": "markdown",
   "id": "9e9d6db9",
   "metadata": {},
   "source": [
    "Imports"
   ]
  },
  {
   "cell_type": "code",
   "execution_count": 1,
   "id": "23f68656",
   "metadata": {},
   "outputs": [],
   "source": [
    "import os\n",
    "import matplotlib.pyplot as plt\n",
    "import time, os, json\n",
    "import pandas as pd\n",
    "from scipy import stats \n",
    "from tqdm import tqdm\n",
    "import seaborn as sns\n",
    "import jax\n",
    "\n",
    "from jax import random\n",
    "from jax.config import config \n",
    "import jax.numpy as np\n",
    "from jax import vmap\n",
    "import pdb\n",
    "import optax\n",
    "from functools import partial\n",
    "\n",
    "import math\n",
    "import csv\n",
    "import time\n",
    "#from sklearn.model_selection import train_test_split\n",
    "from torch.utils.data import DataLoader\n",
    "import numpy\n",
    "from util import create_gratings\n",
    "from SSN_classes_jax_jit import SSN2DTopoV1_AMPAGABA_ONOFF"
   ]
  },
  {
   "cell_type": "markdown",
   "id": "a94a3900",
   "metadata": {},
   "source": [
    "Parameters"
   ]
  },
  {
   "cell_type": "code",
   "execution_count": 24,
   "id": "67d514c4",
   "metadata": {},
   "outputs": [
    {
     "name": "stdout",
     "output_type": "stream",
     "text": [
      "[[ 4.4413204 -1.6582118]\n",
      " [ 5.0289063 -1.2416493]]\n"
     ]
    }
   ],
   "source": [
    "######################### STIMULI PARAMETERS ########################\n",
    "sigma_g= 0.5\n",
    "k = np.pi/(6*sigma_g)\n",
    "\n",
    "#Stimuli parameters\n",
    "ref_ori = 55\n",
    "\n",
    "#Assemble parameters in dictionary\n",
    "general_pars = dict(k=k , edge_deg=3.2,  degree_per_pixel=0.05)\n",
    "stimuli_pars = dict(outer_radius=3, inner_radius=2.5, grating_contrast=0.8, std = 0, jitter_val = 5)\n",
    "stimuli_pars.update(general_pars)\n",
    "\n",
    "\n",
    "\n",
    "######################### NETWORK PARAMETERS ########################\n",
    "class ssn_pars():\n",
    "    n = 2\n",
    "    k = 0.04\n",
    "    tauE = 30 # in ms\n",
    "    tauI = 10 # in ms~\n",
    "    psi = 0.774\n",
    "    A=None\n",
    "    tau_s = np.array([5, 7, 100]) #in ms, AMPA, GABA, NMDA current decay time constants\n",
    "    \n",
    "\n",
    "#Grid parameters\n",
    "class grid_pars():\n",
    "    gridsize_Nx = 9 # grid-points across each edge # gives rise to dx = 0.8 mm\n",
    "    gridsize_deg = 2 * 1.6 # edge length in degrees\n",
    "    magnif_factor = 2  # mm/deg\n",
    "    hyper_col = 0.8 # mm   \n",
    "    sigma_RF = 0.4 # deg (visual angle)\n",
    "    \n",
    "    \n",
    "class conn_pars():\n",
    "    PERIODIC = False\n",
    "    p_local = [0.4, 0.7]\n",
    "    sigma_oris = 1000\n",
    "    \n",
    "class filter_pars():\n",
    "    sigma_g = numpy.array(0.5)\n",
    "    conv_factor = numpy.array(2)\n",
    "    k = numpy.array(1.0471975511965976)\n",
    "    edge_deg = numpy.array( 3.2)\n",
    "    degree_per_pixel = numpy.array(0.05)\n",
    "    \n",
    "\n",
    "\n",
    "#########################OPTIMIZATION PARAMETERS ########################\n",
    "\n",
    "# Caleb's params for the full (with local) model:\n",
    "Js0 = [1.82650658, 0.68194475, 2.06815311, 0.5106321]\n",
    "gE, gI = 0.57328625, 0.26144141\n",
    "\n",
    "sigEE, sigIE = 0.2, 0.40\n",
    "sigEI, sigII = .09, .09\n",
    "\n",
    "\n",
    "\n",
    "make_J2x2 = lambda Jee, Jei, Jie, Jii: np.array([[Jee, -Jei], [Jie,  -Jii]]) * np.pi * ssn_pars.psi\n",
    "J_2x2 = make_J2x2(*Js0)\n",
    "s_2x2 = np.array([[sigEE, sigEI],[sigIE, sigII]])\n",
    "\n",
    "print(J_2x2)\n",
    "\n",
    "#Positive reparameterization\n",
    "signs=np.array([[1, -1], [1, -1]])\n",
    "logJ_2x2 =np.log(J_2x2*signs)\n",
    "logs_2x2 = np.log(s_2x2)\n",
    "\n",
    "#Excitatory and inhibitory constants for extra synaptic GABA\n",
    "c_E = 5.0\n",
    "c_I = 5.0\n",
    "\n",
    "#Sigmoid parameters\n",
    "N_neurons = 25\n",
    "\n",
    "#key, _ = random.split(key)\n",
    "#w_sig = random.normal(key, shape = (N_neurons,)) / np.sqrt(N_neurons)\n",
    "w_sig = numpy.random.normal(size=(N_neurons,)) / np.sqrt(N_neurons)\n",
    "#w_sig = np.zeros((N_neurons))\n",
    "b_sig = 0.0\n",
    "\n",
    "#Optimization pars\n",
    "opt_pars = dict(logJ_2x2 = logJ_2x2, logs_2x2 = logs_2x2, w_sig = w_sig, b_sig=b_sig, c_E = c_E, c_I = c_I)\n",
    "\n",
    "class conv_pars:\n",
    "    dt = 1\n",
    "    xtol = 1e-05\n",
    "    Tmax = 1000\n",
    "    verbose = False\n",
    "    silent = True\n",
    "\n",
    "class loss_pars:\n",
    "    lambda_1 = 1\n",
    "    lambda_2 = 1\n",
    "    lambda_w = 1\n",
    "    lambda_b = 1\n",
    "    \n",
    "\n",
    "ssn=SSN2DTopoV1_AMPAGABA_ONOFF(ssn_pars=ssn_pars, grid_pars=grid_pars, conn_pars=conn_pars, filter_pars=filter_pars, J_2x2=J_2x2, s_2x2=s_2x2)\n",
    "ssn_pars.A=ssn.A"
   ]
  },
  {
   "cell_type": "code",
   "execution_count": 3,
   "id": "edc6f626",
   "metadata": {},
   "outputs": [],
   "source": [
    "def plot_losses(training_losses, validation_losses, epochs_to_save):\n",
    "    plt.plot(training_losses.T, label = ['Binary cross entropy', 'Avg_dx', 'R_max', 'w', 'b', 'Training total'] )\n",
    "    plt.plot(epochs_to_save, validation_losses, label='Validation')\n",
    "    plt.legend()\n",
    "    plt.title('Training losses')\n",
    "    plt.show()\n",
    "    \n",
    "    \n",
    "def create_data(stimuli_pars, number=100, offset = 5, ref_ori=55):\n",
    "    \n",
    "    '''\n",
    "    Create data for given jitter and noise value for testing (not dataloader)\n",
    "    '''\n",
    "    data = create_gratings(ref_ori=ref_ori, number=number, offset=offset, **stimuli_pars)\n",
    "    train_data = next(iter(DataLoader(data, batch_size=len(data), shuffle=False)))\n",
    "    train_data['ref'] = train_data['ref'].numpy()\n",
    "    train_data['target'] = train_data['target'].numpy()\n",
    "    train_data['label'] = train_data['label'].numpy()\n",
    "    \n",
    "    return train_data\n",
    "\n",
    "\n",
    "\n",
    "def constant_to_vec(c_E, c_I):\n",
    "    \n",
    "    matrix_E = np.zeros((9,9))\n",
    "    matrix_E = matrix_E.at[2:7, 2:7].set(c_E)\n",
    "    vec_E = np.ravel(matrix_E)\n",
    "    \n",
    "    matrix_I = np.zeros((9,9))\n",
    "    matrix_I = matrix_I.at[2:7, 2:7].set(c_I)\n",
    "    vec_I = np.ravel(matrix_I)\n",
    "    \n",
    "    constant_vec = np.hstack((vec_E, vec_E, vec_I, vec_I))\n",
    "    return constant_vec\n",
    "\n",
    "def sigmoid(x, epsilon = 0.001):\n",
    "    \n",
    "    '''\n",
    "    Introduction of epsilon stops asymptote from reaching 1 (avoids NaN)\n",
    "    '''\n",
    "   \n",
    "    sig = 1/(1+np.exp(x))\n",
    "    \n",
    "    return (1 - 2*epsilon)*sig + epsilon\n",
    "\n",
    "\n",
    "def binary_loss(n, x):\n",
    "    return - (n*np.log(x) + (1-n)*np.log(1-x))\n",
    "\n",
    "def exponentiate(opt_pars):\n",
    "    signs=np.array([[1, -1], [1, -1]]) \n",
    "    \n",
    "    J_2x2 =np.exp(opt_pars['logJ_2x2'])*signs\n",
    "    s_2x2 = np.exp(opt_pars['logs_2x2'])\n",
    "    \n",
    "    return J_2x2, s_2x2\n",
    "\n",
    "def our_max(x, beta=1):\n",
    "    max_val = np.log(np.sum(np.exp(x*beta)))/beta\n",
    "    return max_val\n",
    "\n",
    "#@partial(jax.jit, static_argnums=(1, 2, 3, 5, 6 , 7 , 8 ))#, device = jax.devices()[1]) + ADD 9 FOR TRAINING\n",
    "def model(opt_pars, ssn_pars, grid_pars, conn_pars, train_data, filter_pars,  conv_pars, loss_pars, bernoulli, sig_noise):\n",
    "    \n",
    "    J_2x2, s_2x2 = exponentiate(opt_pars)\n",
    "    \n",
    "    #Initialise network\n",
    "    ssn=SSN2DTopoV1_AMPAGABA_ONOFF(ssn_pars=ssn_pars, grid_pars=grid_pars, conn_pars=conn_pars, filter_pars=filter_pars, J_2x2=J_2x2, s_2x2=s_2x2)\n",
    "    \n",
    "    #Create vector using extrasynaptic constants\n",
    "    constant_vector = constant_to_vec(opt_pars['c_E'], opt_pars['c_I'])\n",
    "    \n",
    "    #Apply Gabor filters to stimuli\n",
    "    output_ref=np.matmul(ssn.gabor_filters, train_data['ref']) + constant_vector\n",
    "    output_target=np.matmul(ssn.gabor_filters, train_data['target']) + constant_vector\n",
    "    \n",
    "    #Rectify output\n",
    "    SSN_input_ref=np.maximum(0, output_ref)\n",
    "    SSN_input_target=np.maximum(0, output_target)\n",
    "\n",
    "    #Find the fixed point \n",
    "    x_ref, r_max_ref, avg_dx_ref = obtain_fixed_point(ssn, SSN_input_ref, conv_pars)\n",
    "    x_target, r_max_target, avg_dx_target = obtain_fixed_point(ssn, SSN_input_target, conv_pars)\n",
    "    \n",
    "    #Add additional noise before sigmoid layer\n",
    "    #if sig_noise:\n",
    "    delta_x = x_ref.ravel() - x_target.ravel() \n",
    "    external_noise = sig_noise*numpy.random.normal(size=((x_target.ravel()).shape))\n",
    "    delta_x = delta_x + external_noise\n",
    "    #else:\n",
    "        #delta_x = x_ref.ravel() - x_target.ravel() \n",
    "    \n",
    "    #Apply sigmoid function - combine ref and target\n",
    "    x = sigmoid( np.dot(opt_pars['w_sig'], (delta_x)) + opt_pars['b_sig'])\n",
    "\n",
    "    #Calculate losses\n",
    "    loss_binary=binary_loss(train_data['label'], x)\n",
    "    loss_avg_dx = loss_pars.lambda_1*(avg_dx_ref + avg_dx_target)/2\n",
    "    loss_r_max =  loss_pars.lambda_2*(r_max_ref + r_max_target)/2\n",
    "    loss_w = loss_pars.lambda_w*(np.linalg.norm(opt_pars['w_sig'])**2)\n",
    "    loss_b = loss_pars.lambda_b*(opt_pars['b_sig']**2)\n",
    "    \n",
    "    #Combine all losses\n",
    "    loss = loss_binary +  loss_avg_dx + loss_r_max  + loss_w + loss_b\n",
    "    all_losses = np.vstack((loss_binary, loss_avg_dx, loss_r_max, loss_w, loss_b, loss))\n",
    "    \n",
    "    pred_label = np.round(x) \n",
    "    \n",
    "    #Calculate predicted label using Bernoulli distribution\n",
    "    if bernoulli==True:\n",
    "        key_int = numpy.random.randint(low = 0, high =  10000)\n",
    "        key = random.PRNGKey(key_int)\n",
    "        pred_label_b = np.sum(jax.random.bernoulli(key, p=x, shape=None))\n",
    "        pred_label = [pred_label, pred_label_b]\n",
    "    \n",
    "    return loss, all_losses, pred_label\n",
    "\n",
    "\n",
    "def obtain_fixed_point(ssn, ssn_input, conv_pars,  Rmax_E = 50, Rmax_I = 100):\n",
    "    \n",
    "    r_init = np.zeros(ssn_input.shape[0])\n",
    "    \n",
    "    dt = conv_pars.dt\n",
    "    xtol = conv_pars.xtol\n",
    "    Tmax = conv_pars.Tmax\n",
    "    verbose = conv_pars.verbose\n",
    "    silent = conv_pars.silent\n",
    "    \n",
    "    #Find fixed point  \n",
    "   \n",
    "    fp, _, avg_dx = ssn.fixed_point_r(ssn_input, r_init=r_init, dt=dt, xtol=xtol, Tmax=Tmax, verbose = verbose, silent=silent)\n",
    "    avg_dx = np.maximum(0, (avg_dx -1))\n",
    "    \n",
    "    #Apply bounding box to data\n",
    "    x_box = ssn.apply_bounding_box(fp, size=3.2)\n",
    "    r_max = np.maximum(0, (our_max(fp[:ssn.Ne])/Rmax_E - 1)) + np.maximum(0, (our_max(fp[ssn.Ne:-1])/Rmax_I - 1))\n",
    "    \n",
    "    return x_box, r_max, avg_dx\n",
    "\n",
    "\n",
    "\n",
    "\n",
    "def vmap_eval(opt_pars, ssn_pars, grid_pars, conn_pars, test_data, filter_pars,  conv_pars, loss_pars, bernoulli, sig_noise):\n",
    "    \n",
    "    eval_vmap = vmap(model, in_axes = ({'b_sig': None,  'c_E':None, 'c_I': None,  'logJ_2x2': None, 'logs_2x2': None, 'w_sig': None}, None, None, None,  {'ref':0, 'target':0, 'label':0}, None, None, None, None, None) )\n",
    "    losses, _, pred_labels = eval_vmap(opt_pars, ssn_pars, grid_pars, conn_pars, test_data, filter_pars, conv_pars, loss_pars, bernoulli, sig_noise) \n",
    "\n",
    "    #Find accuracy based on predicted labels\n",
    "    true_accuracy = np.sum(test_data['label'] == pred_labels[0])/len(test_data['label']) \n",
    "    ber_accuracy = np.sum(test_data['label'] == pred_labels[1])/len(test_data['label']) \n",
    "    \n",
    "    vmap_loss= np.mean(losses)\n",
    "    \n",
    "    return vmap_loss, true_accuracy, ber_accuracy\n",
    "\n",
    "\n"
   ]
  },
  {
   "cell_type": "markdown",
   "id": "05b6f24c",
   "metadata": {},
   "source": [
    "## Post training analysis"
   ]
  },
  {
   "cell_type": "markdown",
   "id": "b5b07ae7",
   "metadata": {},
   "source": [
    "Value interpolation"
   ]
  },
  {
   "cell_type": "code",
   "execution_count": 4,
   "id": "9f5fedc5",
   "metadata": {},
   "outputs": [],
   "source": [
    "def assemble_pars(all_pars, matrix = True):\n",
    "    '''\n",
    "    Take parameters from csv file and \n",
    "    \n",
    "    '''\n",
    "    pre_train = np.asarray(all_pars.iloc[0].tolist())\n",
    "    post_train =  np.asarray(all_pars.iloc[-1].tolist())\n",
    "\n",
    "    if matrix == True:\n",
    "        matrix_pars = lambda Jee, Jei, Jie, Jii: np.array([[Jee, Jei], [Jie,  Jii]])\n",
    "\n",
    "        pre_train = matrix_pars(*pre_train)\n",
    "        post_train = matrix_pars(*post_train)\n",
    "    \n",
    "    \n",
    "    return pre_train, post_train\n",
    "\n",
    "\n",
    "\n",
    "\n",
    "def plot_acc_vs_param(to_plot, param = None):\n",
    "    '''\n",
    "    Input:\n",
    "        Matrix with shape (N+1, length of lambda) - each row corresponds to a different value of lambda, params at that value and \n",
    "        the accuracy obtained\n",
    "    Output:\n",
    "        Plot of the desired param against the accuracy \n",
    "    '''\n",
    "    \n",
    "    plt.plot(to_plot[:, param].T, to_plot[:, 0].T)\n",
    "    plt.ylabel('Accuracy')\n",
    "    \n",
    "    if param ==1:\n",
    "        plt.xlabel('J_EE')\n",
    "    if param ==2:\n",
    "        plt.xlabel('J_EI')\n",
    "    if param ==3:\n",
    "        plt.xlabel('J_IE')\n",
    "    if param ==4:\n",
    "        plt.xlabel('J_II')\n",
    "    plt.show()\n",
    "\n",
    "\n",
    "    \n",
    "def case_1(pre_J, post_J, opt_pars, test_data):\n",
    "    '''\n",
    "    Interpolate all parameters and evaluate accuracy at each value.\n",
    "    Input:\n",
    "        list of pre and post values of J\n",
    "        opt_pars for other optimisation parameters\n",
    "        test_data\n",
    "    Output:\n",
    "        Matrix with shape (N+1, length of lambda) - each row corresponds to a different value of lambda, params at that value and \n",
    "        the accuracy obtained   \n",
    "    '''\n",
    "    \n",
    "    Js = []\n",
    "    accuracy = []\n",
    "    lambdas = np.linspace(0,1,10)\n",
    "    for lamb in lambdas:\n",
    "        J_2x2 = (1-lamb)*pre_J + lamb * post_J\n",
    "        opt_pars['logJ_2x2'] = np.log(J_2x2*signs)\n",
    "\n",
    "        val_loss, true_acc, ber_acc= vmap_eval(opt_pars, ssn_pars, grid_pars, conn_pars, test_data, filter_pars,  conv_pars, loss_pars, bernoulli=True, sig_noise=2.5)\n",
    "        print('lambda ', lamb, ', accuracy', true_acc)\n",
    "        Js.append([J for J in J_2x2.ravel()])\n",
    "        accuracy.append(true_acc)\n",
    "\n",
    "    return np.column_stack([np.vstack(accuracy), np.vstack(Js)])\n",
    "    \n",
    "\n",
    "def case_2(pre_J, post_J, opt_pars, test_data, param=None):\n",
    "    '''\n",
    "    Interpolate a single trained parameter and evaluate accuracy at each value. Produce plot of param against accuracy\n",
    "    Input:\n",
    "        list of pre and post values of J\n",
    "        opt_pars for other optimisation parameters\n",
    "        test_data\n",
    "        desired param from the matrix (0,0) - J_EE ¦ (0,1) - J_EI, ¦ (1,0) - J_IE ¦ (1,1) - J_II\n",
    "    Output:\n",
    "        Matrix with shape (N+1, length of lambda) - each row corresponds to a different value of lambda, params at that value and \n",
    "        the accuracy obtained\n",
    "        Plot of the changing parameter against accuracy\n",
    "        \n",
    "    '''\n",
    "    Js = []\n",
    "    accuracy = []\n",
    "    lambdas = np.linspace(0,1,10)\n",
    "    parameter_matrix = np.asarray([[1,2],[3,4]]) \n",
    "    \n",
    "    #Create evenly spaced parameters to interpolate\n",
    "    lambdas = np.linspace(0,1,10)\n",
    "    \n",
    "    for lamb in lambdas:\n",
    "        \n",
    "        #Update values of J according to interpolation\n",
    "        new_post_J = np.copy(post_J)\n",
    "        new_post_J = new_post_J.at[param].set((1-lamb)*pre_J[param] + lamb*post_J[param])\n",
    "        \n",
    "        #Take logs before passing through model\n",
    "        opt_pars['logJ_2x2'] = np.log(new_post_J*signs)\n",
    "        \n",
    "        #Evaluate accuracy\n",
    "        val_loss, true_acc, ber_acc= vmap_eval(opt_pars, ssn_pars, grid_pars, conn_pars, test_data, filter_pars,  conv_pars, loss_pars, bernoulli=True, sig_noise=2.5)\n",
    "        print('lambda ', lamb, ', accuracy', true_acc)\n",
    "        \n",
    "        #Store values of J and accuracy\n",
    "        Js.append([J for J in new_post_J.ravel()])\n",
    "        accuracy.append(true_acc)\n",
    "\n",
    "    to_plot = np.column_stack([np.vstack(accuracy), np.vstack(Js)])\n",
    "    \n",
    "    #Plot parameters\n",
    "    plot_param = parameter_matrix[param]\n",
    "    plot_acc_vs_param(to_plot, param= plot_param)\n",
    "    \n",
    "    return to_plot\n",
    "\n",
    "\n",
    "\n"
   ]
  },
  {
   "cell_type": "code",
   "execution_count": 5,
   "id": "78e17ac1",
   "metadata": {},
   "outputs": [],
   "source": [
    "opt_pars['w_sig'] = np.asarray([ 0.12605566,  0.1273912,   0.18054508, -0.27392012, -0.01211993, -0.03041697,\n",
    "  0.0826202,   0.41804752,  0.1202573,  -0.03632501,  0.18295377,  0.30918923,\n",
    " -0.1940052,   0.20544377, -0.2499748,  -0.08071887,  0.19058336,  0.03633068,\n",
    " -0.02569352, -0.16947141, -0.2595211,  -0.04320447,  0.13482924, -0.05088398,\n",
    "  0.1140677 ])\n",
    "opt_pars['b_sig'] = -0.06537655"
   ]
  },
  {
   "cell_type": "code",
   "execution_count": 6,
   "id": "95d09be6",
   "metadata": {},
   "outputs": [],
   "source": [
    "results_file = '/mnt/d/ABG_Projects_Backup/ssn_modelling/ssn-simulator/results/jitted_function/fixed_w_ssn_train70.csv'\n",
    "results = pd.read_csv(results_file, header = 0)\n",
    "all_J = results[['J_EE', 'J_EI', 'J_IE', 'J_II' ]]\n",
    "all_s = results[['s_EE', 's_EI', 's_IE', 's_II' ]]\n",
    "all_c = results[['c_E', 'c_I']]\n",
    "\n",
    "pre_c, post_c = assemble_pars(all_c, matrix=False)\n",
    "pre_s, post_s = assemble_pars(all_s)\n",
    "pre_J, post_J = assemble_pars(all_J)\n",
    "\n",
    "#Initialise opt_pars as post training values\n",
    "opt_pars['logs_2x2'] = np.log(post_s)\n",
    "opt_pars['c_E'] = post_c[0]\n",
    "opt_pars['c_I'] = post_c[1]\n",
    "opt_pars['logJ_2x2'] = np.log(post_J*signs)"
   ]
  },
  {
   "cell_type": "markdown",
   "id": "3edd2f01",
   "metadata": {},
   "source": [
    "CASE 1"
   ]
  },
  {
   "cell_type": "code",
   "execution_count": 25,
   "id": "decd670b",
   "metadata": {},
   "outputs": [],
   "source": [
    "test_data = create_data(stimuli_pars, number = 200, offset = 2, ref_ori = 55)"
   ]
  },
  {
   "cell_type": "code",
   "execution_count": 26,
   "id": "c2b597c3",
   "metadata": {},
   "outputs": [
    {
     "name": "stdout",
     "output_type": "stream",
     "text": [
      "lambda  0.0 , accuracy 0.44\n",
      "lambda  0.11111111 , accuracy 0.525\n",
      "lambda  0.22222222 , accuracy 0.475\n",
      "lambda  0.33333334 , accuracy 0.525\n",
      "lambda  0.44444445 , accuracy 0.525\n",
      "lambda  0.5555556 , accuracy 0.525\n",
      "lambda  0.6666667 , accuracy 0.475\n",
      "lambda  0.7777778 , accuracy 0.475\n",
      "lambda  0.8888889 , accuracy 0.89\n",
      "lambda  1.0 , accuracy 0.855\n"
     ]
    }
   ],
   "source": [
    "case_1_matrix = case_1(pre_J, post_J, opt_pars, test_data)"
   ]
  },
  {
   "cell_type": "code",
   "execution_count": 27,
   "id": "b7cd40fe",
   "metadata": {
    "scrolled": true
   },
   "outputs": [
    {
     "data": {
      "image/png": "[encoded data removed]",
      "text/plain": [
       "<Figure size 640x480 with 1 Axes>"
      ]
     },
     "metadata": {},
     "output_type": "display_data"
    }
   ],
   "source": [
    "plot_acc_vs_param(case_1_matrix, param =2)"
   ]
  },
  {
   "cell_type": "markdown",
   "id": "9c1b735a",
   "metadata": {},
   "source": [
    "CASE 2"
   ]
  },
  {
   "cell_type": "code",
   "execution_count": 28,
   "id": "ce7ec581",
   "metadata": {
    "scrolled": false
   },
   "outputs": [
    {
     "name": "stdout",
     "output_type": "stream",
     "text": [
      "lambda  0.0 , accuracy 0.0\n",
      "lambda  0.11111111 , accuracy 0.0\n",
      "lambda  0.22222222 , accuracy 0.0\n",
      "lambda  0.33333334 , accuracy 0.0\n",
      "lambda  0.44444445 , accuracy 0.965\n",
      "lambda  0.5555556 , accuracy 0.94\n",
      "lambda  0.6666667 , accuracy 0.525\n",
      "lambda  0.7777778 , accuracy 0.845\n",
      "lambda  0.8888889 , accuracy 0.525\n",
      "lambda  1.0 , accuracy 0.475\n"
     ]
    },
    {
     "data": {
      "image/png": "[encoded data removed]",
      "text/plain": [
       "<Figure size 640x480 with 1 Axes>"
      ]
     },
     "metadata": {},
     "output_type": "display_data"
    },
    {
     "data": {
      "text/plain": [
       "DeviceArray([[ 0.       ,  4.4413204, -2.1914783,  4.076988 , -2.0541077],\n",
       "             [ 0.       ,  4.3037496, -2.1914783,  4.076988 , -2.0541077],\n",
       "             [ 0.       ,  4.1661787, -2.1914783,  4.076988 , -2.0541077],\n",
       "             [ 0.       ,  4.0286074, -2.1914783,  4.076988 , -2.0541077],\n",
       "             [ 0.965    ,  3.891037 , -2.1914783,  4.076988 , -2.0541077],\n",
       "             [ 0.94     ,  3.753466 , -2.1914783,  4.076988 , -2.0541077],\n",
       "             [ 0.525    ,  3.6158948, -2.1914783,  4.076988 , -2.0541077],\n",
       "             [ 0.845    ,  3.478324 , -2.1914783,  4.076988 , -2.0541077],\n",
       "             [ 0.525    ,  3.340753 , -2.1914783,  4.076988 , -2.0541077],\n",
       "             [ 0.475    ,  3.2031822, -2.1914783,  4.076988 , -2.0541077]],            dtype=float32)"
      ]
     },
     "execution_count": 28,
     "metadata": {},
     "output_type": "execute_result"
    }
   ],
   "source": [
    "case_2(pre_J, post_J, opt_pars, test_data, param = (0,0))"
   ]
  },
  {
   "cell_type": "code",
   "execution_count": 29,
   "id": "76ee010d",
   "metadata": {
    "scrolled": true
   },
   "outputs": [
    {
     "name": "stdout",
     "output_type": "stream",
     "text": [
      "lambda  0.0 , accuracy 0.0\n",
      "lambda  0.11111111 , accuracy 0.0\n",
      "lambda  0.22222222 , accuracy 0.05\n",
      "lambda  0.33333334 , accuracy 0.96\n",
      "lambda  0.44444445 , accuracy 1.0\n",
      "lambda  0.5555556 , accuracy 0.845\n",
      "lambda  0.6666667 , accuracy 0.855\n",
      "lambda  0.7777778 , accuracy 0.475\n",
      "lambda  0.8888889 , accuracy 0.77\n",
      "lambda  1.0 , accuracy 0.755\n"
     ]
    },
    {
     "data": {
      "image/png": "[encoded data removed]",
      "text/plain": [
       "<Figure size 640x480 with 1 Axes>"
      ]
     },
     "metadata": {},
     "output_type": "display_data"
    },
    {
     "data": {
      "text/plain": [
       "DeviceArray([[ 0.       ,  3.2031822, -1.6582118,  4.076988 , -2.0541077],\n",
       "             [ 0.       ,  3.2031822, -1.7174637,  4.076988 , -2.0541077],\n",
       "             [ 0.05     ,  3.2031822, -1.7767155,  4.076988 , -2.0541077],\n",
       "             [ 0.96     ,  3.2031822, -1.8359673,  4.076988 , -2.0541077],\n",
       "             [ 1.       ,  3.2031822, -1.8952191,  4.076988 , -2.0541077],\n",
       "             [ 0.845    ,  3.2031822, -1.9544709,  4.076988 , -2.0541077],\n",
       "             [ 0.855    ,  3.2031822, -2.013723 ,  4.076988 , -2.0541077],\n",
       "             [ 0.475    ,  3.2031822, -2.0729747,  4.076988 , -2.0541077],\n",
       "             [ 0.77     ,  3.2031822, -2.1322265,  4.076988 , -2.0541077],\n",
       "             [ 0.755    ,  3.2031822, -2.1914783,  4.076988 , -2.0541077]],            dtype=float32)"
      ]
     },
     "execution_count": 29,
     "metadata": {},
     "output_type": "execute_result"
    }
   ],
   "source": [
    "case_2(pre_J, post_J, opt_pars, test_data, param = (0,1))"
   ]
  },
  {
   "cell_type": "code",
   "execution_count": 30,
   "id": "95daad9d",
   "metadata": {},
   "outputs": [
    {
     "name": "stdout",
     "output_type": "stream",
     "text": [
      "lambda  0.0 , accuracy 0.475\n",
      "lambda  0.11111111 , accuracy 0.475\n",
      "lambda  0.22222222 , accuracy 0.475\n",
      "lambda  0.33333334 , accuracy 0.525\n",
      "lambda  0.44444445 , accuracy 0.475\n",
      "lambda  0.5555556 , accuracy 0.665\n",
      "lambda  0.6666667 , accuracy 0.525\n",
      "lambda  0.7777778 , accuracy 0.525\n",
      "lambda  0.8888889 , accuracy 0.475\n",
      "lambda  1.0 , accuracy 0.665\n"
     ]
    },
    {
     "data": {
      "image/png": "[encoded data removed]",
      "text/plain": [
       "<Figure size 640x480 with 1 Axes>"
      ]
     },
     "metadata": {},
     "output_type": "display_data"
    },
    {
     "data": {
      "text/plain": [
       "DeviceArray([[ 0.475    ,  3.2031822, -2.1914783,  5.0289063, -2.0541077],\n",
       "             [ 0.475    ,  3.2031822, -2.1914783,  4.9231377, -2.0541077],\n",
       "             [ 0.475    ,  3.2031822, -2.1914783,  4.817369 , -2.0541077],\n",
       "             [ 0.525    ,  3.2031822, -2.1914783,  4.7116003, -2.0541077],\n",
       "             [ 0.475    ,  3.2031822, -2.1914783,  4.605832 , -2.0541077],\n",
       "             [ 0.665    ,  3.2031822, -2.1914783,  4.500063 , -2.0541077],\n",
       "             [ 0.525    ,  3.2031822, -2.1914783,  4.3942943, -2.0541077],\n",
       "             [ 0.525    ,  3.2031822, -2.1914783,  4.2885256, -2.0541077],\n",
       "             [ 0.475    ,  3.2031822, -2.1914783,  4.182757 , -2.0541077],\n",
       "             [ 0.665    ,  3.2031822, -2.1914783,  4.076988 , -2.0541077]],            dtype=float32)"
      ]
     },
     "execution_count": 30,
     "metadata": {},
     "output_type": "execute_result"
    }
   ],
   "source": [
    "case_2(pre_J, post_J, opt_pars, test_data, param = (1,0))"
   ]
  },
  {
   "cell_type": "code",
   "execution_count": 31,
   "id": "aaceefbe",
   "metadata": {
    "scrolled": true
   },
   "outputs": [
    {
     "name": "stdout",
     "output_type": "stream",
     "text": [
      "lambda  0.0 , accuracy 0.525\n",
      "lambda  0.11111111 , accuracy 0.525\n",
      "lambda  0.22222222 , accuracy 0.525\n",
      "lambda  0.33333334 , accuracy 0.525\n",
      "lambda  0.44444445 , accuracy 0.475\n",
      "lambda  0.5555556 , accuracy 0.525\n",
      "lambda  0.6666667 , accuracy 0.525\n",
      "lambda  0.7777778 , accuracy 0.525\n",
      "lambda  0.8888889 , accuracy 0.61\n",
      "lambda  1.0 , accuracy 0.475\n"
     ]
    },
    {
     "data": {
      "image/png": "[encoded data removed]",
      "text/plain": [
       "<Figure size 640x480 with 1 Axes>"
      ]
     },
     "metadata": {},
     "output_type": "display_data"
    },
    {
     "data": {
      "text/plain": [
       "DeviceArray([[ 0.525    ,  3.2031822, -2.1914783,  4.076988 , -1.2416493],\n",
       "             [ 0.525    ,  3.2031822, -2.1914783,  4.076988 , -1.3319224],\n",
       "             [ 0.525    ,  3.2031822, -2.1914783,  4.076988 , -1.4221956],\n",
       "             [ 0.525    ,  3.2031822, -2.1914783,  4.076988 , -1.5124687],\n",
       "             [ 0.475    ,  3.2031822, -2.1914783,  4.076988 , -1.602742 ],\n",
       "             [ 0.525    ,  3.2031822, -2.1914783,  4.076988 , -1.6930151],\n",
       "             [ 0.525    ,  3.2031822, -2.1914783,  4.076988 , -1.7832882],\n",
       "             [ 0.525    ,  3.2031822, -2.1914783,  4.076988 , -1.8735614],\n",
       "             [ 0.61     ,  3.2031822, -2.1914783,  4.076988 , -1.9638345],\n",
       "             [ 0.475    ,  3.2031822, -2.1914783,  4.076988 , -2.0541077]],            dtype=float32)"
      ]
     },
     "execution_count": 31,
     "metadata": {},
     "output_type": "execute_result"
    }
   ],
   "source": [
    "case_2(pre_J, post_J, opt_pars, test_data, param = (1,1))"
   ]
  },
  {
   "cell_type": "markdown",
   "id": "4c503522",
   "metadata": {},
   "source": [
    "## Surround suppression"
   ]
  },
  {
   "cell_type": "code",
   "execution_count": 16,
   "id": "26945413",
   "metadata": {},
   "outputs": [],
   "source": [
    "stimulis = []\n",
    "for radius in radii:\n",
    "        stimuli_pars['outer_radius'] = radius\n",
    "        stimuli_pars['inner_radius'] = radius\n",
    "        \n",
    "        test_data = create_data(stimuli_pars, number = 1, offset = 2, ref_ori = 55)\n",
    "        stimulis.append(test_data['ref'][0])"
   ]
  },
  {
   "cell_type": "code",
   "execution_count": 47,
   "id": "120da67e",
   "metadata": {},
   "outputs": [
    {
     "data": {
      "text/plain": [
       "<matplotlib.image.AxesImage at 0x7fbab1b156d0>"
      ]
     },
     "execution_count": 47,
     "metadata": {},
     "output_type": "execute_result"
    },
    {
     "data": {
      "image/png": "[encoded data removed]",
      "text/plain": [
       "<Figure size 640x480 with 1 Axes>"
      ]
     },
     "metadata": {},
     "output_type": "display_data"
    }
   ],
   "source": [
    "plt.imshow(stimulis[0].reshape(129,129))"
   ]
  },
  {
   "cell_type": "code",
   "execution_count": 18,
   "id": "3b6b3fb8",
   "metadata": {},
   "outputs": [],
   "source": [
    "def surround_suppresion(ssn_pars, grid_pars, conn_pars, filter_pars, stimulis, J_2x2, s_2x2, radii, constant_vector):\n",
    "    \n",
    "    all_responses = []\n",
    "    ssn=SSN2DTopoV1_AMPAGABA_ONOFF(ssn_pars=ssn_pars, grid_pars=grid_pars, conn_pars=conn_pars, filter_pars=filter_pars, J_2x2=pre_J, s_2x2=pre_J)\n",
    "    centre_ori = ssn.ori_map[5,5]\n",
    "    print(centre_ori)\n",
    "    for stimuli in stimulis:\n",
    "\n",
    "        output_ref=np.matmul(ssn.gabor_filters, stimuli) + constant_vector\n",
    "        SSN_input_ref=np.maximum(0, output_ref)\n",
    "\n",
    "        #Find the fixed point \n",
    "        x_ref, _, _ = obtain_fixed_point(ssn, SSN_input_ref, conv_pars)\n",
    "\n",
    "        response = x_ref[2,2]\n",
    "\n",
    "        all_responses.append(response)\n",
    "\n",
    "    plt.plot(radii, np.asarray(all_responses))\n",
    "    \n",
    "    return all_responses"
   ]
  },
  {
   "cell_type": "code",
   "execution_count": 20,
   "id": "01fc4da8",
   "metadata": {},
   "outputs": [
    {
     "name": "stdout",
     "output_type": "stream",
     "text": [
      "79.09537\n"
     ]
    },
    {
     "data": {
      "text/plain": [
       "[DeviceArray(9.772198e-15, dtype=float32),\n",
       " DeviceArray(30.834986, dtype=float32),\n",
       " DeviceArray(6.2638795e-19, dtype=float32),\n",
       " DeviceArray(4.175634e-16, dtype=float32),\n",
       " DeviceArray(1.1321289e-16, dtype=float32),\n",
       " DeviceArray(1.6946793e-16, dtype=float32),\n",
       " DeviceArray(1.268216e-16, dtype=float32),\n",
       " DeviceArray(1.5749434e-16, dtype=float32),\n",
       " DeviceArray(1.598552e-16, dtype=float32),\n",
       " DeviceArray(1.4241913e-16, dtype=float32)]"
      ]
     },
     "execution_count": 20,
     "metadata": {},
     "output_type": "execute_result"
    },
    {
     "data": {
      "image/png": "[encoded data removed]",
      "text/plain": [
       "<Figure size 640x480 with 1 Axes>"
      ]
     },
     "metadata": {},
     "output_type": "display_data"
    }
   ],
   "source": [
    "constant_vector = constant_to_vec(opt_pars['c_E'], opt_pars['c_I'])\n",
    "radii = np.linspace(0, 3.2, 10)\n",
    "surround_suppresion(ssn_pars, grid_pars, conn_pars, filter_pars, stimulis, post_J, post_s, radii, constant_vector)"
   ]
  },
  {
   "cell_type": "code",
   "execution_count": 21,
   "id": "45f1c225",
   "metadata": {},
   "outputs": [
    {
     "name": "stdout",
     "output_type": "stream",
     "text": [
      "79.09537\n"
     ]
    },
    {
     "data": {
      "text/plain": [
       "[DeviceArray(9.772198e-15, dtype=float32),\n",
       " DeviceArray(30.834986, dtype=float32),\n",
       " DeviceArray(6.2638795e-19, dtype=float32),\n",
       " DeviceArray(4.175634e-16, dtype=float32),\n",
       " DeviceArray(1.1321289e-16, dtype=float32),\n",
       " DeviceArray(1.6946793e-16, dtype=float32),\n",
       " DeviceArray(1.268216e-16, dtype=float32),\n",
       " DeviceArray(1.5749434e-16, dtype=float32),\n",
       " DeviceArray(1.598552e-16, dtype=float32),\n",
       " DeviceArray(1.4241913e-16, dtype=float32)]"
      ]
     },
     "execution_count": 21,
     "metadata": {},
     "output_type": "execute_result"
    },
    {
     "data": {
      "image/png": "[encoded data removed]",
      "text/plain": [
       "<Figure size 640x480 with 1 Axes>"
      ]
     },
     "metadata": {},
     "output_type": "display_data"
    }
   ],
   "source": [
    "surround_suppresion(ssn_pars, grid_pars, conn_pars, filter_pars, stimulis, pre_J, pre_s, radii, constant_vector)"
   ]
  },
  {
   "cell_type": "code",
   "execution_count": 22,
   "id": "36c13c2c",
   "metadata": {},
   "outputs": [
    {
     "data": {
      "text/plain": [
       "DeviceArray([[ 3.2031822, -2.1914783],\n",
       "             [ 4.076988 , -2.0541077]], dtype=float32)"
      ]
     },
     "execution_count": 22,
     "metadata": {},
     "output_type": "execute_result"
    }
   ],
   "source": [
    "post_J"
   ]
  },
  {
   "cell_type": "code",
   "execution_count": 23,
   "id": "93469f67",
   "metadata": {},
   "outputs": [
    {
     "data": {
      "text/plain": [
       "DeviceArray([[ 4.4413204, -1.6582118],\n",
       "             [ 5.0289063, -1.2416493]], dtype=float32)"
      ]
     },
     "execution_count": 23,
     "metadata": {},
     "output_type": "execute_result"
    }
   ],
   "source": [
    "pre_J"
   ]
  },
  {
   "cell_type": "code",
   "execution_count": null,
   "id": "df2a2830",
   "metadata": {},
   "outputs": [],
   "source": []
  }
 ],
 "metadata": {
  "kernelspec": {
   "display_name": "Python 3",
   "language": "python",
   "name": "python3"
  },
  "language_info": {
   "codemirror_mode": {
    "name": "ipython",
    "version": 3
   },
   "file_extension": ".py",
   "mimetype": "text/x-python",
   "name": "python",
   "nbconvert_exporter": "python",
   "pygments_lexer": "ipython3",
   "version": "3.8.10"
  }
 },
 "nbformat": 4,
 "nbformat_minor": 5
}
