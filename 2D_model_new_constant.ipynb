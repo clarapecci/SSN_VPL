{
 "cells": [
  {
   "cell_type": "markdown",
   "id": "5d354ebc",
   "metadata": {},
   "source": [
    "# 2D SSN Model"
   ]
  },
  {
   "cell_type": "markdown",
   "id": "518b38e3",
   "metadata": {},
   "source": [
    "In this notebook:\n",
    "- training script for SSN model\n",
    "- implementation of vmap\n",
    "- new parameter added for extra synaptic GABA\n",
    "- storing accuracy and params in csv file\n",
    "- function to plot csv file data"
   ]
  },
  {
   "cell_type": "markdown",
   "id": "5402589a",
   "metadata": {},
   "source": [
    "GPU jax issues\n",
    "- https://github.com/google/jax/issues/5231\n",
    "- https://catid.io/posts/jax/"
   ]
  },
  {
   "cell_type": "markdown",
   "id": "8adb6de8",
   "metadata": {},
   "source": [
    "Imports"
   ]
  },
  {
   "cell_type": "code",
   "execution_count": 1,
   "id": "4d27bfd4",
   "metadata": {},
   "outputs": [
    {
     "name": "stderr",
     "output_type": "stream",
     "text": [
      "WARNING:absl:No GPU/TPU found, falling back to CPU. (Set TF_CPP_MIN_LOG_LEVEL=0 and rerun for more info.)\n"
     ]
    },
    {
     "name": "stdout",
     "output_type": "stream",
     "text": [
      "jax backend cpu\n"
     ]
    }
   ],
   "source": [
    "import matplotlib.pyplot as plt\n",
    "import time, os, json\n",
    "import pandas as pd\n",
    "from scipy import stats \n",
    "from tqdm import tqdm\n",
    "import seaborn as sns\n",
    "import jax\n",
    "from jax import random\n",
    "from jax.config import config \n",
    "import jax.numpy as np\n",
    "from jax import vmap\n",
    "import pdb\n",
    "import optax\n",
    "import csv\n",
    "import time\n",
    "#from sklearn.model_selection import train_test_split\n",
    "from torch.utils.data import DataLoader\n",
    "import numpy\n",
    "\n",
    "from jax.lib import xla_bridge\n",
    "print(\"jax backend {}\".format(xla_bridge.get_backend().platform))\n",
    "#config.update('jax_debug_nans', True)\n",
    "from SSN_classes_jax import SSN2DTopoV1_AMPAGABA_ONOFF\n",
    "from util import GaborFilter, BW_Grating, find_A, create_gabor_filters, create_gratings\n",
    "\n",
    "#initialize key\n",
    "key = random.PRNGKey(9)"
   ]
  },
  {
   "cell_type": "code",
   "execution_count": 2,
   "id": "c1e1f5af",
   "metadata": {},
   "outputs": [
    {
     "name": "stdout",
     "output_type": "stream",
     "text": [
      "3.8.10\n"
     ]
    }
   ],
   "source": [
    "from platform import python_version\n",
    "print(python_version())"
   ]
  },
  {
   "cell_type": "markdown",
   "id": "7874579f",
   "metadata": {},
   "source": [
    "### Parameters to define"
   ]
  },
  {
   "cell_type": "markdown",
   "id": "993dd69f",
   "metadata": {},
   "source": [
    "1. STIMULI PARAMETERS"
   ]
  },
  {
   "cell_type": "code",
   "execution_count": 3,
   "id": "72234cb1",
   "metadata": {},
   "outputs": [],
   "source": [
    "#Gabor parameters \n",
    "sigma_g= 0.5\n",
    "k = np.pi/(6*sigma_g)\n",
    "\n",
    "#Stimuli parameters\n",
    "ref_ori = 55\n",
    "offset = 5\n",
    "\n",
    "#Assemble parameters in dictionary\n",
    "general_pars = dict(k=k , edge_deg=3.2,  degree_per_pixel=0.05)\n",
    "stimuli_pars = dict(outer_radius=3, inner_radius=2.5, grating_contrast=0.8, std = 15, jitter_val = 5)\n",
    "stimuli_pars.update(general_pars)"
   ]
  },
  {
   "cell_type": "markdown",
   "id": "8497399e",
   "metadata": {},
   "source": [
    "2. MODEL PARAMETERS"
   ]
  },
  {
   "cell_type": "code",
   "execution_count": 49,
   "id": "3969cb36",
   "metadata": {},
   "outputs": [
    {
     "data": {
      "text/plain": [
       "DeviceArray([ 0.13090494,  0.13547112,  0.14075193, -0.18025118,\n",
       "             -0.25224406,  0.26071823, -0.1096585 ,  0.19759898,\n",
       "              0.2974039 , -0.16135022, -0.11772232,  0.15354997,\n",
       "              0.09150219,  0.03208088,  0.06232032,  0.32166034,\n",
       "             -0.28211826, -0.04244804, -0.23714714, -0.05412053,\n",
       "              0.15811461, -0.10206179, -0.14679141,  0.60737455,\n",
       "             -0.0387231 ], dtype=float32)"
      ]
     },
     "execution_count": 49,
     "metadata": {},
     "output_type": "execute_result"
    }
   ],
   "source": [
    "#Network parameters\n",
    "class ssn_pars():\n",
    "    n = 2\n",
    "    k = 0.04\n",
    "    tauE = 30 # in ms\n",
    "    tauI = 10 # in ms~\n",
    "    psi = 0.774\n",
    "    tau_s = np.array([5, 7, 100]) #in ms, AMPA, GABA, NMDA current decay time constants\n",
    "    \n",
    "\n",
    "#Grid parameters\n",
    "class grid_pars():\n",
    "    gridsize_Nx = 9 # grid-points across each edge # gives rise to dx = 0.8 mm\n",
    "    gridsize_deg = 2 * 1.6 # edge length in degrees\n",
    "    magnif_factor = 2  # mm/deg\n",
    "    hyper_col = 0.8 # mm   \n",
    "    sigma_RF = 0.4 # deg (visual angle)\n",
    "\n",
    "# Caleb's params for the full (with local) model:\n",
    "Js0 = [1.82650658, 0.68194475, 2.06815311, 0.5106321]\n",
    "gE, gI = 0.57328625, 0.26144141\n",
    "\n",
    "sigEE, sigIE = 0.2, 0.40\n",
    "sigEI, sigII = .09, .09\n",
    "#sigEI, sigII = .2, .2\n",
    "conn_pars = dict(\n",
    "    PERIODIC = False,\n",
    "    p_local = [.4, 0.7], # [p_local_EE, p_local_IE],\n",
    "    sigma_oris = 1000) # sigma_oris\n",
    "\n",
    "\n",
    "make_J2x2 = lambda Jee, Jei, Jie, Jii: np.array([[Jee, -Jei], [Jie,  -Jii]]) * np.pi * ssn_pars.psi\n",
    "J_2x2 = make_J2x2(*Js0)\n",
    "s_2x2 = np.array([[sigEE, sigEI],[sigIE, sigII]])\n",
    "\n",
    "#Parameters exclusive to Gabor filters\n",
    "filter_pars = dict(sigma_g = sigma_g, conv_factor = grid_pars.magnif_factor)\n",
    "filter_pars.update(general_pars) \n",
    "\n",
    "\n",
    "#Positive reparameterization\n",
    "signs=np.array([[1, -1], [1, -1]])\n",
    "logJ_2x2 =np.log(J_2x2*signs)\n",
    "logs_2x2 = np.log(s_2x2)\n",
    "\n",
    "\n",
    "#Excitatory and inhibitory constants for extra synaptic GABA\n",
    "ssn=SSN2DTopoV1_AMPAGABA_ONOFF(ssn_pars=ssn_pars, grid_pars=grid_pars, conn_pars=conn_pars, filter_pars=filter_pars, J_2x2=J_2x2, s_2x2=s_2x2)\n",
    "c_E = 5.0\n",
    "c_I = 5.0\n",
    "\n",
    "#Sigmoid parameters\n",
    "N_neurons = 25\n",
    "\n",
    "#key, _ = random.split(key)\n",
    "#w_sig = random.normal(key, shape = (N_neurons,)) / np.sqrt(N_neurons)\n",
    "w_sig = numpy.random.normal(size=(N_neurons,)) / np.sqrt(N_neurons)\n",
    "#w_sig = np.zeros((N_neurons))\n",
    "b_sig = 0.0\n",
    "\n",
    "#Optimization pars\n",
    "opt_pars = dict(logJ_2x2 = logJ_2x2, logs_2x2 = logs_2x2, w_sig = w_sig, b_sig=b_sig, c_E = c_E, c_I = c_I)\n",
    "\n",
    "#Convergence parameters\n",
    "conv_pars=dict(dt = 1, xtol = 1e-5, Tmax = 400, verbose=False, silent=True)\n",
    "w_sig"
   ]
  },
  {
   "cell_type": "code",
   "execution_count": 5,
   "id": "bd1b4227",
   "metadata": {},
   "outputs": [],
   "source": [
    "opt_pars['w_sig'] = np.asarray([-0.22677548,  0.14835903,  0.23774771, -0.2809642 ,\n",
    "             -0.2382864 ,  0.02087653,  0.03211895,  0.02203457,\n",
    "             -0.32399544, -0.155516  , -0.04755862, -0.10674761,\n",
    "             -0.15507194,  0.0880091 , -0.31969675,  0.26859832,\n",
    "              0.14288603,  0.07046083,  0.00828944, -0.09122247,\n",
    "              0.11211646,  0.17740835, -0.0380225 ,  0.01610596,\n",
    "             -0.24633582])"
   ]
  },
  {
   "cell_type": "code",
   "execution_count": 50,
   "id": "e9e26de7",
   "metadata": {},
   "outputs": [
    {
     "data": {
      "text/plain": [
       "DeviceArray([ 0.13090494,  0.13547112,  0.14075193, -0.18025118,\n",
       "             -0.25224406,  0.26071823, -0.1096585 ,  0.19759898,\n",
       "              0.2974039 , -0.16135022, -0.11772232,  0.15354997,\n",
       "              0.09150219,  0.03208088,  0.06232032,  0.32166034,\n",
       "             -0.28211826, -0.04244804, -0.23714714, -0.05412053,\n",
       "              0.15811461, -0.10206179, -0.14679141,  0.60737455,\n",
       "             -0.0387231 ], dtype=float32)"
      ]
     },
     "execution_count": 50,
     "metadata": {},
     "output_type": "execute_result"
    }
   ],
   "source": [
    "opt_pars['w_sig']"
   ]
  },
  {
   "cell_type": "markdown",
   "id": "ccde2f80",
   "metadata": {},
   "source": [
    "3. TRAINING PARAMETERS"
   ]
  },
  {
   "cell_type": "code",
   "execution_count": 87,
   "id": "cec589e9",
   "metadata": {},
   "outputs": [],
   "source": [
    "#Name of results csv\n",
    "home_dir = os.getcwd()\n",
    "#Create directory for results\n",
    "results_dir = os.path.join(home_dir, 'results')\n",
    "if os.path.exists(results_dir) == False:\n",
    "        os.makedirs(results_dir)\n",
    "        \n",
    "        \n",
    "results_name = 'test_batch.csv' #SPECIFY NAME OF RESULTS FILE\n",
    "if results_name == None:\n",
    "    results_name = 'results.csv'\n",
    "\n",
    "results_filename = os.path.join(results_dir, results_name)\n",
    "\n"
   ]
  },
  {
   "cell_type": "code",
   "execution_count": 7,
   "id": "52b18bc5",
   "metadata": {},
   "outputs": [],
   "source": [
    "#Number of epochs\n",
    "epochs = 100\n",
    "num_epochs_to_save = 21\n",
    "epochs_to_save = np.linspace(1 ,epochs, num_epochs_to_save).astype(int)\n"
   ]
  },
  {
   "cell_type": "markdown",
   "id": "4e78af46",
   "metadata": {},
   "source": [
    "## TRAINING"
   ]
  },
  {
   "cell_type": "code",
   "execution_count": 8,
   "id": "95fed975",
   "metadata": {},
   "outputs": [],
   "source": [
    "def create_data(stimuli_pars, number=100, offset = 5, ref_ori=55):\n",
    "    \n",
    "    '''\n",
    "    Create data for given jitter and noise value for testing (not dataloader)\n",
    "    '''\n",
    "    data = create_gratings(ref_ori=ref_ori, number=number, offset=offset, **stimuli_pars)\n",
    "    train_data = next(iter(DataLoader(data, batch_size=len(data), shuffle=False)))\n",
    "    train_data['ref'] = train_data['ref'].numpy()\n",
    "    train_data['target'] = train_data['target'].numpy()\n",
    "    train_data['label'] = train_data['label'].numpy()\n",
    "    \n",
    "    return train_data\n",
    "\n",
    "\n",
    "def save_params_dict(opt_pars, accuracy, epoch ):\n",
    "    J_2x2, s_2x2 = exponentiate(opt_pars)\n",
    "     \n",
    "    save_params= dict(val_accuracy= accuracy, \n",
    "                J_EE= J_2x2[0,0], J_EI = J_2x2[0,1], \n",
    "                              J_IE = J_2x2[1,0], J_II = J_2x2[1,1], \n",
    "                s_EE= s_2x2[0,0], s_EI = s_2x2[0,1], \n",
    "                              s_IE = s_2x2[1,0], s_II = s_2x2[1,1],\n",
    "                c_E = opt_pars['c_E'], c_I = opt_pars['c_I'], \n",
    "                 epoch = epoch, w_sig = opt_pars['w_sig'], b_sig=opt_pars['b_sig'])\n",
    "    \n",
    "    return save_params\n",
    "\n",
    "def constant_to_vec(c_E, c_I):\n",
    "    \n",
    "    matrix_E = np.zeros((9,9))\n",
    "    matrix_E = matrix_E.at[2:7, 2:7].set(c_E)\n",
    "    vec_E = np.ravel(matrix_E)\n",
    "    \n",
    "    matrix_I = np.zeros((9,9))\n",
    "    matrix_I = matrix_I.at[2:7, 2:7].set(c_I)\n",
    "    vec_I = np.ravel(matrix_I)\n",
    "    \n",
    "    constant_vec = np.hstack((vec_E, vec_E, vec_I, vec_I))\n",
    "    return constant_vec\n",
    "\n",
    "def sigmoid(x):\n",
    "    return 1/(1+np.exp(x))\n",
    "\n",
    "def binary_loss(n, x):\n",
    "    return - (n*np.log(x) + (1-n)*np.log(1-x))\n",
    "\n",
    "def exponentiate(opt_pars):\n",
    "    signs=np.array([[1, -1], [1, -1]]) \n",
    "    \n",
    "    J_2x2 =np.exp(opt_pars['logJ_2x2'])*signs\n",
    "    s_2x2 = np.exp(opt_pars['logs_2x2'])\n",
    "    \n",
    "    return J_2x2, s_2x2\n",
    "\n",
    "def our_max(x, beta=1):\n",
    "    max_val = np.log(np.sum(np.exp(x*beta)))/beta\n",
    "    return max_val\n",
    "\n",
    "def model(opt_pars, ssn_pars, grid_pars, conn_pars, train_data, filter_pars,  conv_pars, Rmax_E = 50, Rmax_I = 100, lam_1=1, lam_2=1):\n",
    "    \n",
    "    J_2x2, s_2x2 = exponentiate(opt_pars)\n",
    "    \n",
    "    #Initialise network\n",
    "    ssn=SSN2DTopoV1_AMPAGABA_ONOFF(ssn_pars=ssn_pars, grid_pars=grid_pars, conn_pars=conn_pars, filter_pars=filter_pars, J_2x2=J_2x2, s_2x2=s_2x2)\n",
    "    \n",
    "    #Create vector using extrasynaptic constants\n",
    "    constant_vector = constant_to_vec(opt_pars['c_E'], opt_pars['c_I'])\n",
    "    \n",
    "    #Apply Gabor filters to stimuli\n",
    "    output_ref=np.matmul(ssn.gabor_filters, train_data['ref']) + constant_vector\n",
    "    output_target=np.matmul(ssn.gabor_filters, train_data['target']) + constant_vector\n",
    "    \n",
    "    #Rectify output\n",
    "    SSN_input_ref=np.maximum(0, output_ref)\n",
    "    SSN_input_target=np.maximum(0, output_target)\n",
    "\n",
    "    #Input to SSN\n",
    "    r_init = np.zeros(SSN_input_ref.shape[0])\n",
    "    \n",
    "    #Find fixed point response + select centre neurons\n",
    "    fp_ref, _, avg_dx_ref = ssn.fixed_point_r(SSN_input_ref, r_init=r_init, **conv_pars)\n",
    "    x_ref = ssn.apply_bounding_box(fp_ref, size=3.2)\n",
    "    r_max_ref = np.maximum(0, (our_max(fp_ref[:ssn.Ne])/Rmax_E - 1)) + np.maximum(0, (our_max(fp_ref[ssn.Ne:-1])/Rmax_I - 1))\n",
    "    \n",
    "    fp_target, _, avg_dx_target = ssn.fixed_point_r(SSN_input_target, r_init=r_init, **conv_pars)\n",
    "    x_target = ssn.apply_bounding_box(fp_target, size=3.2)\n",
    "    r_max_target = our_max(fp_target[:ssn.Ne])/Rmax_E  + our_max(fp_target[ssn.Ne:-1])/Rmax_I\n",
    "\n",
    "    #Apply sigmoid function - combine ref and target\n",
    "    x = sigmoid( np.dot(opt_pars['w_sig'], (x_ref.ravel() - x_target.ravel())) + opt_pars['b_sig'])\n",
    "\n",
    "    #Calculate binary cross entropy loss\n",
    "    loss=binary_loss(train_data['label'], x)\n",
    "    \n",
    "    #Combine loss with maximum rate and dx value\n",
    "    mag=np.abs(loss)\n",
    "    loss = loss + (lam_1*(avg_dx_ref + avg_dx_target)/2 + lam_2*(r_max_ref + r_max_target)/2)*mag\n",
    "   \n",
    "    return loss\n",
    "\n",
    "\n",
    "def loss(opt_pars, ssn_pars, grid_pars, conn_pars, train_data, filter_pars,  conv_pars):\n",
    "    '''\n",
    "    Calculate parallelized loss for batch of data through vmap.\n",
    "    Output:\n",
    "        mean loss of all the input images\n",
    "    '''\n",
    "    \n",
    "    vmap_model = vmap(model, in_axes = ({'b_sig': None, 'c_E':None, 'c_I': None, 'logJ_2x2': None, 'logs_2x2': None, 'w_sig': None}, None, None, {'PERIODIC': None, 'p_local': [None, None], 'sigma_oris': None},  {'ref':0, 'target':0, 'label':0}, {'conv_factor': None, 'degree_per_pixel': None, 'edge_deg': None, 'k': None, 'sigma_g': None}, {'Tmax': None, 'dt': None, 'silent': None, 'verbose': None, 'xtol': None}) )                   \n",
    "    loss = np.sum(vmap_model(opt_pars, ssn_pars, grid_pars, conn_pars, train_data, filter_pars,  conv_pars))\n",
    "\n",
    "    return loss\n",
    "\n",
    "\n",
    "\n",
    "\n",
    "def eval_model(opt_pars, ssn_pars, grid_pars, conn_pars, test_data, filter_pars,  conv_pars):\n",
    "    \n",
    "    J_2x2, s_2x2 = exponentiate(opt_pars)\n",
    "    #Create vector using extrasynaptic constants\n",
    "    constant_vector = constant_to_vec(opt_pars['c_E'], opt_pars['c_I'])\n",
    "    \n",
    "    #Initialise network\n",
    "    ssn=SSN2DTopoV1_AMPAGABA_ONOFF(ssn_pars=ssn_pars, grid_pars=grid_pars, conn_pars=conn_pars, filter_pars=filter_pars, J_2x2=J_2x2, s_2x2=s_2x2)\n",
    "\n",
    "    #Apply Gabor filters to stimuli\n",
    "    output_ref=np.matmul(ssn.gabor_filters, test_data['ref']) + constant_vector\n",
    "    \n",
    "    output_target=np.matmul(ssn.gabor_filters, test_data['target']) + constant_vector\n",
    "\n",
    "    #Rectify output\n",
    "    SSN_input_ref=np.maximum(0, output_ref)\n",
    "    SSN_input_target=np.maximum(0, output_target)\n",
    "\n",
    "    #Input to SSN\n",
    "    r_init = np.zeros(SSN_input_ref.shape[0])\n",
    "\n",
    "    fp_ref, _, avg_dx_ref = ssn.fixed_point_r(SSN_input_ref, r_init=r_init, **conv_pars)\n",
    "    x_ref = ssn.apply_bounding_box(fp_ref, size=3.2)\n",
    "\n",
    "    fp_target, _, avg_dx_target = ssn.fixed_point_r(SSN_input_target, r_init=r_init, **conv_pars)\n",
    "    x_target = ssn.apply_bounding_box(fp_target, size=3.2)\n",
    "    \n",
    "    dot= np.dot(opt_pars['w_sig'], (x_ref.ravel() - x_target.ravel()))\n",
    "\n",
    "    #Apply sigmoid function - combine ref and target\n",
    "    x = sigmoid( np.dot(opt_pars['w_sig'], (x_ref.ravel() - x_target.ravel())) + opt_pars['b_sig'])\n",
    "    \n",
    "    #compare prediction to label\n",
    "    pred_label = np.round(x)\n",
    "\n",
    "    #Calculate binary cross entropy loss\n",
    "    loss=binary_loss(test_data['label'], x)\n",
    "    \n",
    "    return loss, pred_label, x\n",
    "\n",
    "\n",
    "def vmap_eval(opt_pars, ssn_pars, grid_pars, conn_pars, test_data, filter_pars,  conv_pars):\n",
    "    \n",
    "    eval_vmap = vmap(eval_model, in_axes = ({'b_sig': None,  'c_E':None, 'c_I': None,  'logJ_2x2': None, 'logs_2x2': None, 'w_sig': None}, None, None, {'PERIODIC': None, 'p_local': [None, None], 'sigma_oris': None},  {'ref':0, 'target':0, 'label':0}, {'conv_factor': None, 'degree_per_pixel': None, 'edge_deg': None, 'k': None, 'sigma_g': None}, {'Tmax': None, 'dt': None, 'silent': None, 'verbose': None, 'xtol': None}) )\n",
    "    losses, pred_labels, dots = eval_vmap(opt_pars, ssn_pars, grid_pars, conn_pars, test_data, filter_pars,  conv_pars)\n",
    "    \n",
    "    accuracy = np.sum(test_data['label'] == pred_labels)/len(test_data['label']) \n",
    "    \n",
    "    vmap_loss= np.mean(losses)\n",
    "    \n",
    "    return vmap_loss, accuracy, dots\n",
    "\n",
    "\n",
    "def train_SSN_vmap(opt_pars, ssn_pars, grid_pars, conn_pars, stimuli_pars, filter_pars, conv_pars, epochs_to_save, results_filename = None, batch_size=20, ref_ori = 55, offset = 5, epochs=1, eta=10e-4):\n",
    "    \n",
    "    #Initialize loss\n",
    "    val_loss_per_epoch = []\n",
    "    training_losses=[]\n",
    "    \n",
    "        \n",
    "    #Initialise optimizer\n",
    "    optimizer = optax.adam(eta)\n",
    "    opt_state = optimizer.init(opt_pars)\n",
    "    \n",
    "    #Define test data - no need to iterate\n",
    "    test_data = create_data(stimuli_pars, number = batch_size, offset = offset, ref_ori = ref_ori)\n",
    "    val_loss, accuracy, _= vmap_eval(opt_pars, ssn_pars, grid_pars, conn_pars, test_data, filter_pars,  conv_pars)\n",
    "    print('Before training  -- loss: {}, accuracy: {} '.format(val_loss, accuracy))\n",
    "    val_loss_per_epoch.append(val_loss)\n",
    "    \n",
    "    #Save initial parameters\n",
    "    save_params = save_params_dict(opt_pars=opt_pars, accuracy=accuracy, epoch=0 )\n",
    "    \n",
    "    #Initialise csv file\n",
    "    if results_filename:\n",
    "        #AVOID OVERWRITING FILES? \n",
    "        results_handle = open(results_filename, 'w')\n",
    "        results_writer=None\n",
    "        results_writer = csv.DictWriter(results_handle, fieldnames=save_params.keys())\n",
    "        results_writer.writeheader()\n",
    "        results_writer.writerow(save_params)\n",
    "        print('Saving results to csv ', results_filename)\n",
    "    \n",
    "    for epoch in range(1, epochs+1):\n",
    "        start_time = time.time()\n",
    "        epoch_loss = 0 \n",
    "           \n",
    "        #load next batch of data and convert\n",
    "        train_data = create_data(stimuli_pars, number = batch_size, offset = offset, ref_ori = ref_ori)\n",
    "\n",
    "        #Compute loss and gradient\n",
    "        epoch_loss, grad =jax.value_and_grad(loss)(opt_pars, ssn_pars, grid_pars, conn_pars, train_data, filter_pars,  conv_pars)\n",
    "\n",
    "        #Apply SGD through Adam optimizer per batch\n",
    "        updates, opt_state = optimizer.update(grad, opt_state)\n",
    "        opt_pars = optax.apply_updates(opt_pars, updates)\n",
    "        training_losses.append(epoch_loss)\n",
    "        \n",
    "        epoch_time = time.time() - start_time\n",
    "\n",
    "        #Save the parameters given a number of epochs\n",
    "        if epoch in epochs_to_save:\n",
    "            \n",
    "            #Evaluate model \n",
    "            test_data = create_data(stimuli_pars, number = batch_size, offset = offset, ref_ori = ref_ori)\n",
    "            val_loss, accuracy, _= vmap_eval(opt_pars, ssn_pars, grid_pars, conn_pars, test_data, filter_pars,  conv_pars)\n",
    "            print('Training loss: {} ¦ Validation -- loss: {}, accuracy: {} at epoch {}, (time {})'.format(epoch_loss, val_loss, accuracy, epoch, epoch_time))\n",
    "            val_loss_per_epoch.append(val_loss)\n",
    "            \n",
    "            #Create dictionary of parameters to save\n",
    "            save_params = save_params_dict(opt_pars, accuracy, epoch)\n",
    "            \n",
    "            #Write results in csv file\n",
    "            if results_filename:\n",
    "                results_writer.writerow(save_params)\n",
    "\n",
    "    #Reparametize parameters\n",
    "    signs=np.array([[1, -1], [1, -1]])    \n",
    "    opt_pars['logJ_2x2'] = np.exp(opt_pars['logJ_2x2'])*signs\n",
    "    opt_pars['logs_2x2'] = np.exp(opt_pars['logs_2x2'])\n",
    "    \n",
    "   \n",
    "    return opt_pars, val_loss_per_epoch, training_losses"
   ]
  },
  {
   "cell_type": "code",
   "execution_count": 35,
   "id": "c7568a79",
   "metadata": {
    "scrolled": true
   },
   "outputs": [
    {
     "name": "stdout",
     "output_type": "stream",
     "text": [
      "Before training  -- loss: 1.5786465406417847, accuracy: 0.0 \n",
      "Saving results to csv  /mnt/d/temp/ssn_modelling/ssn-simulator/results/different_w/results_batch100_offset10_w1.csv\n",
      "Training loss: 3379.73974609375 ¦ Validation -- loss: 1.5140100717544556, accuracy: 0.009999999776482582 at epoch 1, (time 14.221882104873657)\n",
      "Training loss: 2784.22607421875 ¦ Validation -- loss: 1.3139019012451172, accuracy: 0.019999999552965164 at epoch 5, (time 14.30864691734314)\n",
      "Training loss: 1924.487060546875 ¦ Validation -- loss: 1.218933343887329, accuracy: 0.029999999329447746 at epoch 10, (time 14.266588687896729)\n",
      "Training loss: 1633.9920654296875 ¦ Validation -- loss: 1.1886407136917114, accuracy: 0.019999999552965164 at epoch 15, (time 13.740522146224976)\n",
      "Training loss: 1232.2857666015625 ¦ Validation -- loss: 1.0432209968566895, accuracy: 0.05000000074505806 at epoch 20, (time 13.976412057876587)\n",
      "Training loss: 1076.865234375 ¦ Validation -- loss: 1.034369945526123, accuracy: 0.05999999865889549 at epoch 25, (time 13.79433798789978)\n",
      "Training loss: 957.4837646484375 ¦ Validation -- loss: 0.9859397411346436, accuracy: 0.14000000059604645 at epoch 30, (time 14.15278935432434)\n",
      "Training loss: 828.3006591796875 ¦ Validation -- loss: 0.9439547657966614, accuracy: 0.11999999731779099 at epoch 35, (time 14.666597366333008)\n",
      "Training loss: 752.9247436523438 ¦ Validation -- loss: 0.8915483951568604, accuracy: 0.1599999964237213 at epoch 40, (time 14.619056701660156)\n",
      "Training loss: 744.0736083984375 ¦ Validation -- loss: 0.8860244750976562, accuracy: 0.18000000715255737 at epoch 45, (time 14.57647705078125)\n",
      "Training loss: 650.3516845703125 ¦ Validation -- loss: 0.9086089730262756, accuracy: 0.12999999523162842 at epoch 50, (time 14.796205282211304)\n",
      "Training loss: 652.9815063476562 ¦ Validation -- loss: 0.8805046081542969, accuracy: 0.14000000059604645 at epoch 55, (time 14.173012971878052)\n",
      "Training loss: 603.1474609375 ¦ Validation -- loss: 0.8714706897735596, accuracy: 0.11999999731779099 at epoch 60, (time 14.280731439590454)\n",
      "Training loss: 546.4237060546875 ¦ Validation -- loss: 0.8429534435272217, accuracy: 0.2800000011920929 at epoch 65, (time 14.286483764648438)\n",
      "Training loss: 525.060791015625 ¦ Validation -- loss: 0.8190524578094482, accuracy: 0.3199999928474426 at epoch 70, (time 14.495715618133545)\n",
      "Training loss: 527.7344970703125 ¦ Validation -- loss: 0.850078284740448, accuracy: 0.23000000417232513 at epoch 75, (time 13.960265159606934)\n",
      "Training loss: 510.1710205078125 ¦ Validation -- loss: 0.80031818151474, accuracy: 0.2800000011920929 at epoch 80, (time 14.226195573806763)\n",
      "Training loss: 481.157470703125 ¦ Validation -- loss: 0.8047166466712952, accuracy: 0.3199999928474426 at epoch 85, (time 14.07033920288086)\n",
      "Training loss: 447.7567138671875 ¦ Validation -- loss: 0.759092390537262, accuracy: 0.3100000023841858 at epoch 90, (time 15.0527822971344)\n",
      "Training loss: 453.9534912109375 ¦ Validation -- loss: 0.7892584204673767, accuracy: 0.3400000035762787 at epoch 95, (time 14.51934289932251)\n",
      "Training loss: 433.57501220703125 ¦ Validation -- loss: 0.7721585035324097, accuracy: 0.3700000047683716 at epoch 100, (time 13.936386585235596)\n"
     ]
    }
   ],
   "source": [
    "results_batch100_offset10_w1 = '/mnt/d/temp/ssn_modelling/ssn-simulator/results/different_w/results_batch100_offset10_w1.csv' # RUN FOR 0.5 DEGREE OFFSET\n",
    "final_pars_test, val_loss_test, training_los_test= train_SSN_vmap(opt_pars, ssn_pars, grid_pars, conn_pars, stimuli_pars, filter_pars,  conv_pars, epochs_to_save = epochs_to_save, results_filename=results_batch100_offset10_w1, ref_ori = 55, offset = 10, batch_size = 100, epochs = epochs)"
   ]
  },
  {
   "cell_type": "code",
   "execution_count": 51,
   "id": "622844e6",
   "metadata": {},
   "outputs": [
    {
     "name": "stdout",
     "output_type": "stream",
     "text": [
      "Before training  -- loss: 1.292130708694458, accuracy: 0.36000001430511475 \n",
      "Saving results to csv  /mnt/d/temp/ssn_modelling/ssn-simulator/results/different_w/results_batch100_offset10_w4.csv\n",
      "Training loss: 3054.514404296875 ¦ Validation -- loss: 1.429229736328125, accuracy: 0.3100000023841858 at epoch 1, (time 13.633445501327515)\n",
      "Training loss: 2707.091552734375 ¦ Validation -- loss: 1.1694085597991943, accuracy: 0.3499999940395355 at epoch 5, (time 13.83331298828125)\n",
      "Training loss: 1516.025634765625 ¦ Validation -- loss: 0.9682086110115051, accuracy: 0.4699999988079071 at epoch 10, (time 14.57904863357544)\n",
      "Training loss: 1288.8924560546875 ¦ Validation -- loss: 1.1229718923568726, accuracy: 0.33000001311302185 at epoch 15, (time 15.399530172348022)\n",
      "Training loss: 1118.524658203125 ¦ Validation -- loss: 0.9766084551811218, accuracy: 0.41999998688697815 at epoch 20, (time 14.225153923034668)\n",
      "Training loss: 910.5751342773438 ¦ Validation -- loss: 0.9919933080673218, accuracy: 0.3100000023841858 at epoch 25, (time 13.983268737792969)\n",
      "Training loss: 855.023193359375 ¦ Validation -- loss: 0.9051265716552734, accuracy: 0.4000000059604645 at epoch 30, (time 13.86263656616211)\n",
      "Training loss: 801.8406372070312 ¦ Validation -- loss: 0.852349042892456, accuracy: 0.4000000059604645 at epoch 35, (time 14.359217405319214)\n",
      "Training loss: 676.885498046875 ¦ Validation -- loss: 0.866601288318634, accuracy: 0.38999998569488525 at epoch 40, (time 14.530667781829834)\n",
      "Training loss: 661.839599609375 ¦ Validation -- loss: 0.8446886539459229, accuracy: 0.3799999952316284 at epoch 45, (time 14.303382396697998)\n",
      "Training loss: 622.131103515625 ¦ Validation -- loss: 0.8452849984169006, accuracy: 0.3400000035762787 at epoch 50, (time 14.396740198135376)\n",
      "Training loss: 511.0581970214844 ¦ Validation -- loss: 0.7819726467132568, accuracy: 0.4000000059604645 at epoch 55, (time 14.37585735321045)\n",
      "Training loss: 586.338623046875 ¦ Validation -- loss: 0.7996018528938293, accuracy: 0.3700000047683716 at epoch 60, (time 14.089664697647095)\n",
      "Training loss: 536.6761474609375 ¦ Validation -- loss: 0.7648643851280212, accuracy: 0.36000001430511475 at epoch 65, (time 14.083116292953491)\n",
      "Training loss: 482.899658203125 ¦ Validation -- loss: 0.7754147052764893, accuracy: 0.4000000059604645 at epoch 70, (time 14.653331279754639)\n",
      "Training loss: 513.7486572265625 ¦ Validation -- loss: 0.7112168669700623, accuracy: 0.4399999976158142 at epoch 75, (time 14.153454542160034)\n",
      "Training loss: 422.5587158203125 ¦ Validation -- loss: 0.6956692934036255, accuracy: 0.47999998927116394 at epoch 80, (time 14.307830572128296)\n",
      "Training loss: 406.42108154296875 ¦ Validation -- loss: 0.7343974113464355, accuracy: 0.4099999964237213 at epoch 85, (time 14.218234300613403)\n",
      "Training loss: 402.6876220703125 ¦ Validation -- loss: 0.790894091129303, accuracy: 0.3100000023841858 at epoch 90, (time 14.202052354812622)\n",
      "Training loss: 392.2906188964844 ¦ Validation -- loss: 0.7334812879562378, accuracy: 0.3499999940395355 at epoch 95, (time 14.530121326446533)\n",
      "Training loss: 392.5966796875 ¦ Validation -- loss: 0.6913502216339111, accuracy: 0.4699999988079071 at epoch 100, (time 14.190752506256104)\n"
     ]
    }
   ],
   "source": [
    "results_batch100_offset10_w4 = '/mnt/d/temp/ssn_modelling/ssn-simulator/results/different_w/results_batch100_offset10_w4.csv' # RUN FOR 0.5 DEGREE OFFSET\n",
    "final_pars_test, val_loss_test, training_los_test= train_SSN_vmap(opt_pars, ssn_pars, grid_pars, conn_pars, stimuli_pars, filter_pars,  conv_pars, epochs_to_save = epochs_to_save, results_filename=results_batch100_offset10_w4, ref_ori = 55, offset = 10, batch_size = 100, epochs = epochs)"
   ]
  },
  {
   "cell_type": "markdown",
   "id": "61be315e",
   "metadata": {},
   "source": [
    "## INITIALIZATION HISTOGRAM"
   ]
  },
  {
   "cell_type": "code",
   "execution_count": null,
   "id": "3f2426c1",
   "metadata": {},
   "outputs": [],
   "source": [
    "from util import initial_acc\n",
    "all_acc, low_acc = initial_acc( opt_pars, ssn_pars, grid_pars, conn_pars, filter_pars,  conv_pars, stimuli_pars, jitter_max = 5,  std_max = 80)"
   ]
  },
  {
   "cell_type": "markdown",
   "id": "a614a803",
   "metadata": {},
   "source": [
    "## PLOT RESULTS"
   ]
  },
  {
   "cell_type": "code",
   "execution_count": 25,
   "id": "6ff3da7a",
   "metadata": {},
   "outputs": [],
   "source": [
    "def plot_results(results_file, title=None):\n",
    "    \n",
    "    results = pd.read_csv(results_file, header = 0)\n",
    "    fig, axes = plt.subplots(nrows=2, ncols=2, figsize=(12,8))\n",
    "\n",
    "    results.plot(x='epoch', y=[\"J_EE\", \"J_EI\", \"J_IE\", \"J_II\"], ax=axes[0,0])\n",
    "    results.plot(x='epoch', y=[\"s_EE\", \"s_EI\", \"s_IE\", \"s_II\"], ax = axes[0,1])\n",
    "    results.plot(x='epoch', y=[\"c_E\", \"c_I\"], ax = axes[1,0])\n",
    "    results.plot(x='epoch', y = 'val_accuracy', ax = axes[1,1])\n",
    "    \n",
    "    if title:\n",
    "        fig.suptitle(title)\n",
    "    fig.show()"
   ]
  },
  {
   "cell_type": "code",
   "execution_count": 12,
   "id": "0723dd90",
   "metadata": {},
   "outputs": [],
   "source": [
    "def param_ratios(results_file):\n",
    "    results = pd.read_csv(results_file, header = 0)\n",
    "    res = results.to_numpy()\n",
    "    Js=res[:,1:5]\n",
    "    ss = res[:,5:9]\n",
    "    #print(Js.type())\n",
    "    print(results.columns[1:5])\n",
    "    print(\"J ratios = \", np.array((Js[-1,:]/Js[0,:] -1)*100, dtype=int))\n",
    "    print(results.columns[5:9])\n",
    "    print(ss[-1,:]/ss[0,:])\n",
    "    print(\"s ratios = \", np.array((ss[-1,:]/ss[0,:] -1)*100, dtype=int))"
   ]
  },
  {
   "cell_type": "code",
   "execution_count": 13,
   "id": "6763b87b",
   "metadata": {},
   "outputs": [],
   "source": [
    "results_filename = '/mnt/d/temp/ssn_modelling/ssn-simulator/results/constant_set_5.csv'\n",
    "results_filename2 = '/mnt/d/temp/ssn_modelling/ssn-simulator/results/constant_set_0.csv'\n",
    "results_filename3 = '/mnt/d/temp/ssn_modelling/ssn-simulator/results/constant_set_0_Tmax200.csv'\n",
    "results_filename4 = '/mnt/d/temp/ssn_modelling/ssn-simulator/results/constant_set_5_Tmax200.csv'\n",
    "results_new_loss='/mnt/d/temp/ssn_modelling/ssn-simulator/results/test_new_loss.csv'\n",
    "results_batch50 = '/mnt/d/temp/ssn_modelling/ssn-simulator/results/batch50_c_5_T400.csv'\n",
    "new_results = '/mnt/d/temp/ssn_modelling/ssn-simulator/results/batch50_c_0_T200.csv'"
   ]
  },
  {
   "cell_type": "code",
   "execution_count": 27,
   "id": "5d51371c",
   "metadata": {},
   "outputs": [],
   "source": [
    "results_batch100_offset10 = '/mnt/d/temp/ssn_modelling/ssn-simulator/results/BATCH_100_offset10.csv'"
   ]
  },
  {
   "cell_type": "code",
   "execution_count": 28,
   "id": "69532670",
   "metadata": {},
   "outputs": [
    {
     "name": "stdout",
     "output_type": "stream",
     "text": [
      "Index(['J_EE', 'J_EI', 'J_IE', 'J_II'], dtype='object')\n",
      "J ratios =  [-4  4  4 -3]\n",
      "Index(['s_EE', 's_EI', 's_IE', 's_II'], dtype='object')\n",
      "[1.0497657524882877 1.0 0.95957785 1.0]\n",
      "s ratios =  [ 4  0 -4  0]\n"
     ]
    }
   ],
   "source": [
    "param_ratios(results_batch100_offset10)"
   ]
  },
  {
   "cell_type": "code",
   "execution_count": 29,
   "id": "7b41de47",
   "metadata": {},
   "outputs": [
    {
     "name": "stdout",
     "output_type": "stream",
     "text": [
      "Index(['J_EE', 'J_EI', 'J_IE', 'J_II'], dtype='object')\n",
      "J ratios =  [-4  4  4 -3]\n",
      "Index(['s_EE', 's_EI', 's_IE', 's_II'], dtype='object')\n",
      "[1.0492175524608776 1.0 0.96032515 1.0]\n",
      "s ratios =  [ 4  0 -3  0]\n"
     ]
    }
   ],
   "source": [
    "param_ratios(results_batch100_offset10_2)"
   ]
  },
  {
   "cell_type": "code",
   "execution_count": 30,
   "id": "33879ea2",
   "metadata": {},
   "outputs": [
    {
     "name": "stdout",
     "output_type": "stream",
     "text": [
      "Index(['J_EE', 'J_EI', 'J_IE', 'J_II'], dtype='object')\n",
      "J ratios =  [-5  5  5 -4]\n",
      "Index(['s_EE', 's_EI', 's_IE', 's_II'], dtype='object')\n",
      "[1.0479497023974853 1.0 0.96093 1.0]\n",
      "s ratios =  [ 4  0 -3  0]\n"
     ]
    }
   ],
   "source": [
    "param_ratios(results_batch100_offset05)"
   ]
  },
  {
   "cell_type": "code",
   "execution_count": 15,
   "id": "ef94fb34",
   "metadata": {},
   "outputs": [
    {
     "name": "stdout",
     "output_type": "stream",
     "text": [
      "Index(['J_EE', 'J_EI', 'J_IE', 'J_II'], dtype='object')\n",
      "J ratios =  [-5  5  5 -4]\n",
      "Index(['s_EE', 's_EI', 's_IE', 's_II'], dtype='object')\n",
      "[1.0493373024668653 1.0 0.957607325 1.0]\n",
      "s ratios =  [ 4  0 -4  0]\n"
     ]
    }
   ],
   "source": [
    "param_ratios(results_batch100_offset05_2)"
   ]
  },
  {
   "cell_type": "code",
   "execution_count": 17,
   "id": "80b732d5",
   "metadata": {},
   "outputs": [
    {
     "name": "stdout",
     "output_type": "stream",
     "text": [
      "Index(['J_EE', 'J_EI', 'J_IE', 'J_II'], dtype='object')\n",
      "J ratios =  [-5  5  5 -4]\n",
      "Index(['s_EE', 's_EI', 's_IE', 's_II'], dtype='object')\n",
      "[1.0491333024566651 1.0 0.9598352 1.0]\n",
      "s ratios =  [ 4  0 -4  0]\n"
     ]
    }
   ],
   "source": [
    "param_ratios(results_batch100_offset05_3)"
   ]
  },
  {
   "cell_type": "code",
   "execution_count": 39,
   "id": "6b2625a5",
   "metadata": {},
   "outputs": [
    {
     "name": "stdout",
     "output_type": "stream",
     "text": [
      "Index(['J_EE', 'J_EI', 'J_IE', 'J_II'], dtype='object')\n",
      "J ratios =  [-4  4  4 -4]\n",
      "Index(['s_EE', 's_EI', 's_IE', 's_II'], dtype='object')\n",
      "[1.043989702199485 1.0 0.96159585 1.0]\n",
      "s ratios =  [ 4  0 -3  0]\n"
     ]
    }
   ],
   "source": [
    "param_ratios(results_batch100_offset10_w2)"
   ]
  },
  {
   "cell_type": "code",
   "execution_count": 40,
   "id": "af6dc411",
   "metadata": {},
   "outputs": [
    {
     "name": "stdout",
     "output_type": "stream",
     "text": [
      "Index(['J_EE', 'J_EI', 'J_IE', 'J_II'], dtype='object')\n",
      "J ratios =  [-4  4  4 -3]\n",
      "Index(['s_EE', 's_EI', 's_IE', 's_II'], dtype='object')\n",
      "[1.0475024523751226 1.0 0.9573220499999999 1.0]\n",
      "s ratios =  [ 4  0 -4  0]\n"
     ]
    }
   ],
   "source": [
    "param_ratios(results_batch100_offset10_w1)"
   ]
  },
  {
   "cell_type": "code",
   "execution_count": 52,
   "id": "dd44caaf",
   "metadata": {},
   "outputs": [
    {
     "name": "stdout",
     "output_type": "stream",
     "text": [
      "Index(['J_EE', 'J_EI', 'J_IE', 'J_II'], dtype='object')\n",
      "J ratios =  [-4  4  4 -3]\n",
      "Index(['s_EE', 's_EI', 's_IE', 's_II'], dtype='object')\n",
      "[1.0477585023879252 1.0 0.9585055 1.0]\n",
      "s ratios =  [ 4  0 -4  0]\n"
     ]
    }
   ],
   "source": [
    "param_ratios(results_batch100_offset10_w4)"
   ]
  },
  {
   "cell_type": "code",
   "execution_count": 53,
   "id": "fa8e6af5",
   "metadata": {},
   "outputs": [
    {
     "data": {
      "image/png": "[encoded data removed]",
      "text/plain": [
       "<Figure size 1200x800 with 4 Axes>"
      ]
     },
     "metadata": {},
     "output_type": "display_data"
    }
   ],
   "source": [
    "plot_results(results_batch100_offset10_w4)"
   ]
  },
  {
   "cell_type": "code",
   "execution_count": 48,
   "id": "d1884c25",
   "metadata": {},
   "outputs": [
    {
     "data": {
      "image/png": "[encoded data removed]",
      "text/plain": [
       "<Figure size 1200x800 with 4 Axes>"
      ]
     },
     "metadata": {},
     "output_type": "display_data"
    }
   ],
   "source": [
    "plot_results(results_batch100_offset10_w3)"
   ]
  },
  {
   "cell_type": "markdown",
   "id": "d26830ef",
   "metadata": {},
   "source": [
    "## Proof of concept model"
   ]
  },
  {
   "cell_type": "code",
   "execution_count": null,
   "id": "03e60490",
   "metadata": {},
   "outputs": [],
   "source": [
    "def make_log_J_2x2(Js0):\n",
    "    make_J2x2 = lambda Jee, Jei, Jie, Jii: np.array([[Jee, -Jei], [Jie,  -Jii]]) * np.pi * ssn_pars.psi\n",
    "    J_2x2 = make_J2x2(*Js0)\n",
    "    signs=np.array([[1, -1], [1, -1]])\n",
    "    logJ_2x2 =np.log(J_2x2*signs)\n",
    "    \n",
    "    return logJ_2x2"
   ]
  },
  {
   "cell_type": "code",
   "execution_count": null,
   "id": "a4ffef5a",
   "metadata": {},
   "outputs": [],
   "source": [
    "def create_new_pars(o_Js0, position, value, params):\n",
    "    \n",
    "    Js0 = o_Js0.copy()\n",
    "    Js0[position] = Js0[position]*value\n",
    "    #print(Js0[position])\n",
    "    updated_params = params.copy()\n",
    "    logJ_2x2 = make_log_J_2x2(Js0)\n",
    "    updated_params['logJ_2x2'] = logJ_2x2\n",
    "    \n",
    "    return updated_params"
   ]
  },
  {
   "cell_type": "markdown",
   "id": "e06ead5a",
   "metadata": {},
   "source": [
    "1. Create results file"
   ]
  },
  {
   "cell_type": "code",
   "execution_count": null,
   "id": "9a287bed",
   "metadata": {},
   "outputs": [],
   "source": [
    "#Name of results csv\n",
    "home_dir = os.getcwd()\n",
    "#Create directory for results\n",
    "results_dir = os.path.join(home_dir, 'results')\n",
    "if os.path.exists(results_dir) == False:\n",
    "        os.makedirs(results_dir)\n",
    "        \n",
    "        \n",
    "results_name = 'proof.csv' #SPECIFY NAME OF RESULTS FILE\n",
    "if results_name == None:\n",
    "    results_name = 'results_test2.csv'\n",
    "\n",
    "results_filename = os.path.join(results_dir, results_name)\n",
    "results_handle = open(results_filename, 'w')\n",
    "\n",
    "#results_writer = csv.DictWriter(results_handle, fieldnames=save_params.keys())\n",
    "#results_writer.writeheader()"
   ]
  },
  {
   "cell_type": "code",
   "execution_count": null,
   "id": "e799487b",
   "metadata": {},
   "outputs": [],
   "source": [
    "def save_params(new_pars, test_accuracy, results_handle, header=False):\n",
    "    save_params= dict(val_accuracy= test_accuracy, \n",
    "    J_EE= new_pars['logJ_2x2'][0,0], J_EI = new_pars['logJ_2x2'][0,1], \n",
    "                  J_IE = new_pars['logJ_2x2'][1,0], J_II = new_pars['logJ_2x2'][1,1])\n",
    "    \n",
    "    if header==True:\n",
    "        results_writer = csv.DictWriter(results_handle, fieldnames=save_params.keys())\n",
    "        results_writer.writeheader()\n",
    "    \n",
    "    \n",
    "    results_writer.writerow(save_params)       "
   ]
  },
  {
   "cell_type": "markdown",
   "id": "0c582c9e",
   "metadata": {},
   "source": [
    "1. Redefine parameters"
   ]
  },
  {
   "cell_type": "code",
   "execution_count": null,
   "id": "9ae4d43d",
   "metadata": {},
   "outputs": [],
   "source": [
    "# Caleb's params for the full (with local) model:\n",
    "o_Js0 = [1.82650658, 0.68194475, 2.06815311, 0.5106321]\n",
    "gE, gI = 0.57328625, 0.26144141\n",
    "\n",
    "sigEE, sigIE = 0.2, 0.40\n",
    "sigEI, sigII = .09, .09\n",
    "\n",
    "\n",
    "make_J2x2 = lambda Jee, Jei, Jie, Jii: np.array([[Jee, -Jei], [Jie,  -Jii]]) * np.pi * ssn_pars.psi\n",
    "J_2x2 = make_J2x2(*o_Js0)\n",
    "s_2x2 = np.array([[sigEE, sigEI],[sigIE, sigII]])\n",
    "\n",
    "#Positive reparameterization\n",
    "signs=np.array([[1, -1], [1, -1]])\n",
    "logJ_2x2 =np.log(J_2x2*signs)\n",
    "\n",
    "\n",
    "#Optimization pars\n",
    "opt_pars = dict(logJ_2x2 = logJ_2x2, logs_2x2 = logs_2x2, w_sig = w_sig, b_sig=b_sig, c_E = c_E, c_I = c_I)\n",
    "opt_pars['logJ_2x2']"
   ]
  },
  {
   "cell_type": "markdown",
   "id": "7cc9a182",
   "metadata": {},
   "source": [
    "2. Generate testing data"
   ]
  },
  {
   "cell_type": "code",
   "execution_count": null,
   "id": "74a2db89",
   "metadata": {},
   "outputs": [],
   "source": [
    "ref_ori = 55\n",
    "offset = 10\n",
    "batch_size = 200\n",
    "test_data = create_data(stimuli_pars, number = batch_size, offset = offset, ref_ori = ref_ori)"
   ]
  },
  {
   "cell_type": "markdown",
   "id": "d1156deb",
   "metadata": {},
   "source": [
    "3. Evaluate original model"
   ]
  },
  {
   "cell_type": "code",
   "execution_count": null,
   "id": "d80297e4",
   "metadata": {},
   "outputs": [],
   "source": [
    "_, test_accuracy, _ = vmap_eval(opt_pars, ssn_pars, grid_pars, conn_pars, test_data, filter_pars,  conv_pars)\n",
    "test_accuracy"
   ]
  },
  {
   "cell_type": "markdown",
   "id": "1065583b",
   "metadata": {},
   "source": [
    "--> Edit parameters"
   ]
  },
  {
   "cell_type": "markdown",
   "id": "8501afac",
   "metadata": {},
   "source": [
    "J_EE"
   ]
  },
  {
   "cell_type": "code",
   "execution_count": null,
   "id": "1af97475",
   "metadata": {},
   "outputs": [],
   "source": [
    "new_pars = create_new_pars(o_Js0, 0, 0.8, opt_pars)\n",
    "_, test_accuracy, _ = vmap_eval(new_pars, ssn_pars, grid_pars, conn_pars, test_data, filter_pars,  conv_pars)\n",
    "print(test_accuracy)\n",
    "\n",
    "#save_params(new_pars, test_accuracy, results_handle, header = True)\n",
    "new_pars = create_new_pars(o_Js0, 0, 1.2, opt_pars)\n",
    "_, test_accuracy, _ = vmap_eval(new_pars, ssn_pars, grid_pars, conn_pars, test_data, filter_pars,  conv_pars)\n",
    "print(test_accuracy)"
   ]
  },
  {
   "cell_type": "markdown",
   "id": "435bf143",
   "metadata": {},
   "source": [
    "J_EI"
   ]
  },
  {
   "cell_type": "code",
   "execution_count": null,
   "id": "e52ebc8b",
   "metadata": {},
   "outputs": [],
   "source": [
    "new_pars = create_new_pars(o_Js0, 1, 0.8, opt_pars)\n",
    "_, test_accuracy_1, _ = vmap_eval(new_pars, ssn_pars, grid_pars, conn_pars, test_data, filter_pars,  conv_pars)\n",
    "print(test_accuracy_1)\n",
    "\n",
    "new_pars = create_new_pars(o_Js0, 1, 1.2, opt_pars)\n",
    "_, test_accuracy_2, _ = vmap_eval(new_pars, ssn_pars, grid_pars, conn_pars, test_data, filter_pars,  conv_pars)\n",
    "print(test_accuracy_2)"
   ]
  },
  {
   "cell_type": "markdown",
   "id": "04fad2b2",
   "metadata": {},
   "source": [
    "J_IE"
   ]
  },
  {
   "cell_type": "code",
   "execution_count": null,
   "id": "5feb9c76",
   "metadata": {},
   "outputs": [],
   "source": [
    "new_pars = create_new_pars(o_Js0, 2, 0.8, opt_pars)\n",
    "_, test_accuracy_1, _ = vmap_eval(new_pars, ssn_pars, grid_pars, conn_pars, test_data, filter_pars,  conv_pars)\n",
    "print(test_accuracy_1)\n",
    "\n",
    "new_pars = create_new_pars(o_Js0, 2, 1.2, opt_pars)\n",
    "_, test_accuracy_2, _ = vmap_eval(new_pars, ssn_pars, grid_pars, conn_pars, test_data, filter_pars,  conv_pars)\n",
    "print(test_accuracy_2)"
   ]
  },
  {
   "cell_type": "markdown",
   "id": "bac0c7f6",
   "metadata": {},
   "source": [
    "J_II"
   ]
  },
  {
   "cell_type": "code",
   "execution_count": null,
   "id": "e64bbc67",
   "metadata": {},
   "outputs": [],
   "source": [
    "new_pars = create_new_pars(o_Js0, 3, 0.8, opt_pars)\n",
    "_, test_accuracy_1, _ = vmap_eval(new_pars, ssn_pars, grid_pars, conn_pars, test_data, filter_pars,  conv_pars)\n",
    "print(test_accuracy_1)\n",
    "\n",
    "new_pars = create_new_pars(o_Js0, 3, 1.2, opt_pars)\n",
    "_, test_accuracy_2, _ = vmap_eval(new_pars, ssn_pars, grid_pars, conn_pars, test_data, filter_pars,  conv_pars)\n",
    "print(test_accuracy_2)"
   ]
  },
  {
   "cell_type": "code",
   "execution_count": null,
   "id": "fc95ad13",
   "metadata": {},
   "outputs": [],
   "source": []
  }
 ],
 "metadata": {
  "kernelspec": {
   "display_name": "Python 3",
   "language": "python",
   "name": "python3"
  },
  "language_info": {
   "codemirror_mode": {
    "name": "ipython",
    "version": 3
   },
   "file_extension": ".py",
   "mimetype": "text/x-python",
   "name": "python",
   "nbconvert_exporter": "python",
   "pygments_lexer": "ipython3",
   "version": "3.8.10"
  }
 },
 "nbformat": 4,
 "nbformat_minor": 5
}
