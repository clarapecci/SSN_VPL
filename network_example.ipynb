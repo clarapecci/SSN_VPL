{
 "cells": [
  {
   "cell_type": "code",
   "execution_count": 2,
   "id": "ec31851a-3b4e-4db0-bdad-e2be13979bc0",
   "metadata": {
    "tags": []
   },
   "outputs": [],
   "source": [
    "from SSN_classes_middle import SSN2DTopoV1_ONOFF_local\n",
    "from SSN_classes_superficial import SSN2DTopoV1\n",
    "import jax.numpy as np\n",
    "from util import init_set_func\n",
    "from parameters import *\n",
    "############################## PARAMETERS ############################\n",
    "\n",
    "#Specify initialisation\n",
    "init_set_m ='C' #middle layer parameters\n",
    "init_set_s=1   #superficial layer parameters\n",
    "J_2x2_s, s_2x2_s, gE_s, gI_s, conn_pars_s  = init_set_func(init_set_s, conn_pars_s, ssn_pars)\n",
    "J_2x2_m, _, gE_m, gI_m, conn_pars_m  = init_set_func(init_set_m, conn_pars_m, ssn_pars, middle = True)\n",
    "\n",
    "#Additional superficial layer pars\n",
    "sigma_oris = np.asarray([90.0, 90.0])\n",
    "kappa_pre = np.asarray([0.0, 0.0])\n",
    "kappa_post = np.asarray([0.0, 0.0])\n",
    "\n",
    "#Intialise SSNs \n",
    "ssn_mid=SSN2DTopoV1_ONOFF_local(ssn_pars=ssn_pars, grid_pars=grid_pars, conn_pars=conn_pars_m, filter_pars=filter_pars, J_2x2=J_2x2_m, gE = gE_m, gI=gI_m)\n",
    "ssn_sup=SSN2DTopoV1(ssn_pars=ssn_pars, grid_pars=grid_pars, conn_pars=conn_pars_s, J_2x2=J_2x2_s, s_2x2=s_2x2_s, sigma_oris = sigma_oris, kappa_pre = kappa_pre, kappa_post = kappa_post, ori_map = ssn_mid.ori_map, train_ori = stimuli_pars.ref_ori)\n"
   ]
  },
  {
   "cell_type": "code",
   "execution_count": 4,
   "id": "b263d9f7-4d79-4dee-b81c-318e439028d1",
   "metadata": {},
   "outputs": [
    {
     "data": {
      "text/plain": [
       "DeviceArray([[ 1.935    , -1.0062   ,  0.       , -0.       ,  0.       ,\n",
       "              -0.       ,  0.       , -0.       ],\n",
       "             [ 3.6377997, -1.7028   ,  0.       , -0.       ,  0.       ,\n",
       "              -0.       ,  0.       , -0.       ],\n",
       "             [ 0.       , -0.       ,  1.935    , -1.0062   ,  0.       ,\n",
       "              -0.       ,  0.       , -0.       ],\n",
       "             [ 0.       , -0.       ,  3.6377997, -1.7028   ,  0.       ,\n",
       "              -0.       ,  0.       , -0.       ],\n",
       "             [ 0.       , -0.       ,  0.       , -0.       ,  1.935    ,\n",
       "              -1.0062   ,  0.       , -0.       ],\n",
       "             [ 0.       , -0.       ,  0.       , -0.       ,  3.6377997,\n",
       "              -1.7028   ,  0.       , -0.       ],\n",
       "             [ 0.       , -0.       ,  0.       , -0.       ,  0.       ,\n",
       "              -0.       ,  1.935    , -1.0062   ],\n",
       "             [ 0.       , -0.       ,  0.       , -0.       ,  0.       ,\n",
       "              -0.       ,  3.6377997, -1.7028   ]], dtype=float32)"
      ]
     },
     "execution_count": 4,
     "metadata": {},
     "output_type": "execute_result"
    }
   ],
   "source": []
  },
  {
   "cell_type": "code",
   "execution_count": null,
   "id": "0c876944-2041-4477-b574-9389a20ef1a5",
   "metadata": {},
   "outputs": [],
   "source": []
  }
 ],
 "metadata": {
  "kernelspec": {
   "display_name": "Python 3 (ipykernel)",
   "language": "python",
   "name": "python3"
  },
  "language_info": {
   "codemirror_mode": {
    "name": "ipython",
    "version": 3
   },
   "file_extension": ".py",
   "mimetype": "text/x-python",
   "name": "python",
   "nbconvert_exporter": "python",
   "pygments_lexer": "ipython3",
   "version": "3.8.10"
  }
 },
 "nbformat": 4,
 "nbformat_minor": 5
}
