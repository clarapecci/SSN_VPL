{
 "cells": [
  {
   "cell_type": "code",
   "execution_count": 1,
   "id": "6276d3f6",
   "metadata": {},
   "outputs": [],
   "source": [
    "\"\"\"\n",
    "Author: Samuel Bell (sjb326@cam.ac.uk) \n",
    "jia_grating.py Copyright (c) 2020. All rights reserved.\n",
    "This file may not be used or modified without the author's explicit written permission.\n",
    "These files are hosted at https://gitlab.com/samueljamesbell/vpl-modelling. All other locations are mirrors of the original repository.\n",
    "\n",
    "This file is a Python port of stimuli developed by Ke Jia.\n",
    "\"\"\"\n",
    "\n",
    "import math\n",
    "\n",
    "import numpy as np\n",
    "from PIL import Image\n",
    "\n",
    "from random import random\n",
    "from scipy.stats import norm\n",
    "from numpy.random import binomial\n",
    "\n",
    "from numpy import pi\n",
    "\n",
    "\n",
    "_BLACK = 0\n",
    "_WHITE = 255\n",
    "_GRAY = round((_WHITE + _BLACK) / 2)\n",
    "\n",
    "\n",
    "class JiaGrating:\n",
    "\n",
    "    def __init__(self, ori_deg, size, outer_radius, inner_radius, pixel_per_degree, grating_contrast, phase, jitter=0, snr=1.0, spatial_frequency=None):\n",
    "        self.ori_deg = ori_deg\n",
    "        self.size = size\n",
    "\n",
    "        self.outer_radius = outer_radius\n",
    "        self.inner_radius = inner_radius\n",
    "        self.pixel_per_degree = pixel_per_degree\n",
    "        self.grating_contrast = grating_contrast\n",
    "        self.phase = phase\n",
    "        self.jitter = jitter\n",
    "        self.snr = snr\n",
    "\n",
    "        self.smooth_sd = self.pixel_per_degree / 6\n",
    "        self.spatial_freq = spatial_frequency or (1 / self.pixel_per_degree)\n",
    "        self.grating_size = round(self.outer_radius * self.pixel_per_degree)\n",
    "        self.angle = ((self.ori_deg + self.jitter) - 90) / 180 * math.pi\n",
    "\n",
    "    def image(self):\n",
    "        x, y = np.mgrid[-self.grating_size:self.grating_size+1., -self.grating_size:self.grating_size+1.]\n",
    "\n",
    "        d = self.grating_size * 2 + 1\n",
    "        annulus = np.ones((d, d))\n",
    "\n",
    "        edge_control = np.divide(np.sqrt(np.power(x, 2) + np.power(y, 2)), self.pixel_per_degree)\n",
    "\n",
    "        overrado = np.nonzero(edge_control > self.inner_radius)\n",
    "\n",
    "        for idx_x, idx_y in zip(*overrado):\n",
    "            annulus[idx_x, idx_y] = annulus[idx_x, idx_y] * np.exp(-1 * ((((edge_control[idx_x, idx_y] - self.inner_radius) * self.pixel_per_degree) ** 2) / (2 * (self.smooth_sd ** 2))))    \n",
    "\n",
    "        gabor_sti = _GRAY * (1 + self.grating_contrast * np.cos(2 * math.pi * self.spatial_freq * (y * np.sin(self.angle) + x * np.cos(self.angle)) + self.phase))\n",
    "\n",
    "        gabor_sti[np.sqrt(np.power(x, 2) + np.power(y, 2)) > self.grating_size] = _GRAY\n",
    "\n",
    "        # Noise\n",
    "        noise = np.floor(np.sin(norm.rvs(size=(d, d))) * _GRAY) + _GRAY\n",
    "\n",
    "        noise_mask = binomial(1, 1-self.snr, size=(d, d)).astype(int)\n",
    "        masked_noise = noise * noise_mask\n",
    "\n",
    "        signal_mask = 1 - noise_mask\n",
    "        masked_gabor_sti = signal_mask * gabor_sti\n",
    "\n",
    "        noisy_gabor_sti = masked_gabor_sti + masked_noise\n",
    "        # End noise\n",
    "\n",
    "        gabor_sti_final = np.repeat(noisy_gabor_sti[:, :, np.newaxis], 3, axis=-1)\n",
    "        alpha_channel = annulus * _WHITE\n",
    "        gabor_sti_final_with_alpha = np.concatenate((gabor_sti_final, alpha_channel[:, :, np.newaxis]), axis=-1)\n",
    "        gabor_sti_final_with_alpha_image = Image.fromarray(gabor_sti_final_with_alpha.astype(np.uint8))\n",
    "\n",
    "        center_x = int(self.size / 2)\n",
    "        center_y = int(self.size / 2)\n",
    "        bounding_box = (center_x - self.grating_size, center_y - self.grating_size)\n",
    "\n",
    "        background = np.full((self.size, self.size, 3), _GRAY, dtype=np.uint8)\n",
    "        final_image = Image.fromarray(background)\n",
    "\n",
    "        final_image.paste(gabor_sti_final_with_alpha_image, box=bounding_box, mask=gabor_sti_final_with_alpha_image)\n",
    "\n",
    "        return final_image\n",
    "\n"
   ]
  },
  {
   "cell_type": "code",
   "execution_count": 36,
   "id": "1b29569b",
   "metadata": {},
   "outputs": [],
   "source": [
    "test_grating=JiaGrating(ori_deg=0, size=227, outer_radius=20, inner_radius=5, pixel_per_degree=19.19, grating_contrast=0.8, phase=0, spatial_freq=None)"
   ]
  },
  {
   "cell_type": "code",
   "execution_count": 39,
   "id": "02b1f7ce",
   "metadata": {},
   "outputs": [
    {
     "data": {
      "image/png": "[encoded data removed]",
      "text/plain": [
       "<PIL.Image.Image image mode=RGB size=227x227>"
      ]
     },
     "execution_count": 39,
     "metadata": {},
     "output_type": "execute_result"
    }
   ],
   "source": [
    "test_grating.image()"
   ]
  }
 ],
 "metadata": {
  "kernelspec": {
   "display_name": "Python 3 (ipykernel)",
   "language": "python",
   "name": "python3"
  },
  "language_info": {
   "codemirror_mode": {
    "name": "ipython",
    "version": 3
   },
   "file_extension": ".py",
   "mimetype": "text/x-python",
   "name": "python",
   "nbconvert_exporter": "python",
   "pygments_lexer": "ipython3",
   "version": "3.8.10"
  }
 },
 "nbformat": 4,
 "nbformat_minor": 5
}
