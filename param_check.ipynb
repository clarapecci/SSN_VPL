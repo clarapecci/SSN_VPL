{
 "cells": [
  {
   "cell_type": "markdown",
   "id": "deec9c95-8be1-4a7e-9861-97386a755cda",
   "metadata": {},
   "source": [
    "https://www.geeksforgeeks.org/add-error-bars-to-a-matplotlib-bar-plot/"
   ]
  },
  {
   "cell_type": "code",
   "execution_count": 35,
   "id": "19ec0e65-52a2-41c9-b14a-e3b3660508f8",
   "metadata": {
    "tags": []
   },
   "outputs": [
    {
     "name": "stdout",
     "output_type": "stream",
     "text": [
      "685 Int64Index([70], dtype='int64')\n",
      "J_m ratios =  [[-9.891468   7.7758894  4.9652514 -0.8028483]]\n",
      "J_s ratios =  [[-17.443659    7.2647657 -15.216442   34.408695 ]]\n",
      "c ratios =  [[-14.290046  13.74206 ]]\n",
      "f ratios =  [[-11.664972 -16.699606]]\n"
     ]
    }
   ],
   "source": [
    "from analysis import param_ratios_two_layer\n",
    "import pandas as pd\n",
    "import numpy as np\n",
    "results_file = '/mnt/d/ABG_Projects_Backup/ssn_modelling/ssn-simulator/results/11-12/noise200.0gE0.3_5/set_C_N_readout_125_results.csv'\n",
    "\n",
    "param_ratios_two_layer(results_file, percent_acc=0.9)"
   ]
  },
  {
   "cell_type": "code",
   "execution_count": 36,
   "id": "856d53ec-7201-42f6-bc60-057d63edc620",
   "metadata": {
    "tags": []
   },
   "outputs": [],
   "source": [
    "results = pd.read_csv(results_file, header = 0)\n",
    "Js = results[['J_EE_s', 'J_EI_s', 'J_IE_s', 'J_II_s']]\n",
    "Js = Js.to_numpy()\n",
    "J_s_ratios = np.array((Js[10,:]/Js[0,:] -1)*100)"
   ]
  },
  {
   "cell_type": "code",
   "execution_count": 37,
   "id": "b93e006c-e14e-4d8b-a140-821b4dd444fc",
   "metadata": {
    "tags": []
   },
   "outputs": [
    {
     "data": {
      "text/plain": [
       "<BarContainer object of 4 artists>"
      ]
     },
     "execution_count": 37,
     "metadata": {},
     "output_type": "execute_result"
    },
    {
     "data": {
      "image/png": "[encoded data removed]",
      "text/plain": [
       "<Figure size 640x480 with 1 Axes>"
      ]
     },
     "metadata": {},
     "output_type": "display_data"
    }
   ],
   "source": [
    "from matplotlib import pyplot as plt\n",
    "labels = ['J_EE_m', 'J_EI_m', 'J_IE_m', 'J_II_m']\n",
    "plt.bar(labels, J_s_ratios)"
   ]
  },
  {
   "cell_type": "code",
   "execution_count": null,
   "id": "e2198340-cf1a-4dd4-8095-a278f87c93f3",
   "metadata": {},
   "outputs": [],
   "source": []
  }
 ],
 "metadata": {
  "kernelspec": {
   "display_name": "Python 3 (ipykernel)",
   "language": "python",
   "name": "python3"
  },
  "language_info": {
   "codemirror_mode": {
    "name": "ipython",
    "version": 3
   },
   "file_extension": ".py",
   "mimetype": "text/x-python",
   "name": "python",
   "nbconvert_exporter": "python",
   "pygments_lexer": "ipython3",
   "version": "3.8.10"
  }
 },
 "nbformat": 4,
 "nbformat_minor": 5
}
