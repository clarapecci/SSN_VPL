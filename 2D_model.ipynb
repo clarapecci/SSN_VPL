{
 "cells": [
  {
   "cell_type": "markdown",
   "id": "5d354ebc",
   "metadata": {},
   "source": [
    "# 2D SSN Model"
   ]
  },
  {
   "cell_type": "markdown",
   "id": "c74304b9",
   "metadata": {},
   "source": [
    "Information on training vmap:\n",
    "- https://jax.readthedocs.io/en/latest/_autosummary/jax.vmap.html\n",
    "- https://jax.readthedocs.io/en/latest/notebooks/Neural_Network_and_Data_Loading.html"
   ]
  },
  {
   "cell_type": "markdown",
   "id": "8adb6de8",
   "metadata": {},
   "source": [
    "Imports"
   ]
  },
  {
   "cell_type": "code",
   "execution_count": 1,
   "id": "4d27bfd4",
   "metadata": {},
   "outputs": [],
   "source": [
    "import matplotlib.pyplot as plt\n",
    "import time, os, json\n",
    "import pandas as pd\n",
    "from scipy import stats \n",
    "from tqdm import tqdm\n",
    "import seaborn as sns\n",
    "import jax\n",
    "from jax import random\n",
    "from jax.config import config \n",
    "import jax.numpy as np\n",
    "from jax import vmap\n",
    "import pdb\n",
    "import optax\n",
    "import time\n",
    "from sklearn.model_selection import train_test_split\n",
    "from torch.utils.data import DataLoader\n",
    "\n",
    "\n",
    "#config.update('jax_debug_nans', True)\n",
    "from SSN_classes_jax import SSN2DTopoV1_AMPAGABA_ONOFF\n",
    "from util import GaborFilter, BW_Grating, find_A, create_gabor_filters, create_gratings"
   ]
  },
  {
   "cell_type": "markdown",
   "id": "993dd69f",
   "metadata": {},
   "source": [
    "## GENERATE DATA"
   ]
  },
  {
   "cell_type": "code",
   "execution_count": 4,
   "id": "2bbddbd8",
   "metadata": {},
   "outputs": [
    {
     "data": {
      "text/plain": [
       "(120, 30)"
      ]
     },
     "execution_count": 4,
     "metadata": {},
     "output_type": "execute_result"
    }
   ],
   "source": [
    "#Gabor parameters \n",
    "sigma_g= 0.5\n",
    "k = np.pi/(6*sigma_g)\n",
    "\n",
    "#Parameters shared with stimuli\n",
    "general_pars = dict(k=k , edge_deg=3.2,  degree_per_pixel=0.05)\n",
    "\n",
    "#Stimuli parameters\n",
    "stimuli_pars = dict(outer_radius=3, inner_radius=2.5, grating_contrast=0.99, snr = 0.9)\n",
    "stimuli_pars.update(general_pars)\n",
    "\n",
    "#Create gratings at given orientation and list of labels\n",
    "data = create_gratings(ref_ori=55, number=150, offset= 1, jitter_val=0, **stimuli_pars)\n",
    "train, test = train_test_split(data, test_size = 0.2)\n",
    "len(train), len(test)"
   ]
  },
  {
   "cell_type": "code",
   "execution_count": 6,
   "id": "ff46f16e",
   "metadata": {},
   "outputs": [],
   "source": [
    "#batch params \n",
    "batch_size= 20"
   ]
  },
  {
   "cell_type": "code",
   "execution_count": 7,
   "id": "b5da6b4e",
   "metadata": {},
   "outputs": [],
   "source": [
    "train_dataloader =DataLoader(train, batch_size=batch_size, shuffle=False)\n",
    "test_dataloader = DataLoader(test, batch_size=len(test), shuffle=False)\n",
    "number_batches= int(len(train) / batch_size)"
   ]
  },
  {
   "cell_type": "markdown",
   "id": "844906d1",
   "metadata": {},
   "source": [
    "# MODEL TRAINING"
   ]
  },
  {
   "cell_type": "markdown",
   "id": "8497399e",
   "metadata": {},
   "source": [
    "1. Define parameters"
   ]
  },
  {
   "cell_type": "code",
   "execution_count": 13,
   "id": "3969cb36",
   "metadata": {},
   "outputs": [],
   "source": [
    "#Network parameters\n",
    "class ssn_pars():\n",
    "    n = 2\n",
    "    k = 0.04\n",
    "    tauE = 30 # in ms\n",
    "    tauI = 10 # in ms\n",
    "    psi = 0.774\n",
    "    tau_s = np.array([5, 7, 100]) #in ms, AMPA, GABA, NMDA current decay time constants\n",
    "    \n",
    "\n",
    "#Grid parameters\n",
    "class grid_pars():\n",
    "    gridsize_Nx = 9 # grid-points across each edge # gives rise to dx = 0.8 mm\n",
    "    gridsize_deg = 2 * 1.6 # edge length in degrees\n",
    "    magnif_factor = 2  # mm/deg\n",
    "    hyper_col = 0.8 # mm   \n",
    "    sigma_RF = 0.4 # deg (visual angle)\n",
    "\n",
    "# Caleb's params for the full (with local) model:\n",
    "Js0 = [1.82650658, 0.68194475, 2.06815311, 0.5106321]\n",
    "gE, gI = 0.57328625, 0.26144141\n",
    "\n",
    "sigEE, sigIE = 0.2, 0.40\n",
    "sigEI, sigII = .09, .09\n",
    "conn_pars = dict(\n",
    "    PERIODIC = False,\n",
    "    p_local = [.4, 0.7], # [p_local_EE, p_local_IE],\n",
    "    sigma_oris = 1000) # sigma_oris\n",
    "\n",
    "\n",
    "make_J2x2 = lambda Jee, Jei, Jie, Jii: np.array([[Jee, -Jei], [Jie,  -Jii]]) * np.pi * ssn_pars.psi\n",
    "J_2x2 = make_J2x2(*Js0)\n",
    "s_2x2 = np.array([[sigEE, sigEI],[sigIE, sigII]])\n",
    "\n",
    "#Positive reparameterization\n",
    "signs=np.array([[1, -1], [1, -1]])\n",
    "logJ_2x2 =np.log(J_2x2*signs)\n",
    "logs_2x2 = np.log(s_2x2)\n",
    "\n",
    "\n",
    "#Sigmoid parameters\n",
    "N_neurons = 25\n",
    "key = random.PRNGKey(10)\n",
    "w_sig = random.normal(key, shape = (N_neurons,)) / np.sqrt(N_neurons)\n",
    "b_sig = 0.0\n",
    "\n",
    "\n",
    "#Optimization pars\n",
    "opt_pars = dict(logJ_2x2 = logJ_2x2, logs_2x2 = logs_2x2, w_sig = w_sig, b_sig=b_sig)\n",
    "\n",
    "\n",
    "#Parameters exclusive to Gabor filters\n",
    "filter_pars = dict(sigma_g = sigma_g, conv_factor = grid_pars.magnif_factor)\n",
    "filter_pars.update(general_pars) \n",
    "\n",
    "#Convergence parameters\n",
    "conv_pars=dict(dt = 1, xtol = 1e-5, Tmax = 200, verbose=False, silent=True)"
   ]
  },
  {
   "cell_type": "markdown",
   "id": "ccde2f80",
   "metadata": {},
   "source": [
    "3. TRAINING!"
   ]
  },
  {
   "cell_type": "code",
   "execution_count": 6,
   "id": "329c7d8d",
   "metadata": {},
   "outputs": [],
   "source": [
    "def sigmoid(x):\n",
    "    return 1/(1+np.exp(x))\n",
    "\n",
    "def binary_loss(n, x):\n",
    "    return - (n*np.log(x) + (1-n)*np.log(1-x))\n",
    "\n",
    "def model(opt_pars, ssn_pars, grid_pars, conn_pars, data, filter_pars,  conv_pars):\n",
    "    \n",
    "    signs=np.array([[1, -1], [1, -1]])\n",
    "    \n",
    "    J_2x2 =np.exp(opt_pars['logJ_2x2'])*signs\n",
    "    s_2x2 = np.exp(opt_pars['logs_2x2'])\n",
    "    \n",
    "    total_loss=0\n",
    "    \n",
    "    for i in range(len(data['ref'])):\n",
    "        #Initialise network\n",
    "        ssn=SSN2DTopoV1_AMPAGABA_ONOFF(ssn_pars=ssn_pars, grid_pars=grid_pars, conn_pars=conn_pars, filter_pars=filter_pars, J_2x2=J_2x2, s_2x2=s_2x2)\n",
    "                                                   \n",
    "        #Apply Gabor filters to stimuli\n",
    "        output_ref=np.matmul(ssn.gabor_filters, data['ref'][i])*ssn.A\n",
    "        output_target=np.matmul(ssn.gabor_filters, data['target'][i])*ssn.A\n",
    "\n",
    "        #Rectify output\n",
    "        SSN_input_ref=np.maximum(0, output_ref)\n",
    "        SSN_input_target=np.maximum(0, output_target)\n",
    "        \n",
    "        #Input to SSN\n",
    "        r_init = np.zeros(SSN_input_ref.shape[0])\n",
    "        \n",
    "        fp_ref, _ = ssn.fixed_point_r(SSN_input_ref, r_init=r_init, **conv_pars)\n",
    "        x_ref = ssn.apply_bounding_box(fp_ref, size=3.2)\n",
    "\n",
    "        fp_target, _ = ssn.fixed_point_r(SSN_input_target, r_init=r_init, **conv_pars)\n",
    "        x_target = ssn.apply_bounding_box(fp_target, size=3.2)\n",
    "\n",
    "        #Apply sigmoid function - combine ref and target\n",
    "        x = sigmoid( np.dot(opt_pars['w_sig'], (x_ref.ravel() - x_target.ravel())) + opt_pars['b_sig'])\n",
    "\n",
    "        #Calculate binary cross entropy loss\n",
    "        total_loss+=np.sum(binary_loss(data['label'][i], x))\n",
    "        \n",
    "   \n",
    "    return total_loss\n",
    "    \n",
    "\n",
    "def train_SSN(opt_pars, ssn_pars, grid_pars, conn_pars, train_dataloader, test_dataloader, filter_pars, conv_pars, batches=batches, epochs=1, eta=10e-4):\n",
    "    \n",
    "    #Initialize loss\n",
    "    val_loss_per_epoch = []\n",
    "    \n",
    "    #Initialise optimizer\n",
    "    optimizer = optax.adam(eta)\n",
    "    opt_state = optimizer.init(opt_pars)\n",
    "    \n",
    "    for epoch in range(epochs):\n",
    "        start_time = time.time()\n",
    "        train_iterator = iter(train_dataloader)\n",
    "        test_iterator = iter(test_dataloader)\n",
    "        \n",
    "        for batch in batches \n",
    "            train_data = next(train_iterator)\n",
    "            \n",
    "\n",
    "            train_data['ref'] = train_data['ref'].numpy()\n",
    "            train_data['target'] = train_data['target'].numpy()\n",
    "            train_data['label'] = train_data['label'].numpy()\n",
    "\n",
    "\n",
    "            test_data['ref'] = test_data['ref'].numpy()\n",
    "            test_data['target'] = test_data['target'].numpy()\n",
    "            test_data['label'] = test_data['label'].numpy()\n",
    "\n",
    "            #compute loss and gradient \n",
    "            grad =jax.grad(model)(opt_pars, ssn_pars, grid_pars, conn_pars, train_data, filter_pars,  conv_pars)\n",
    "\n",
    "            #Apply SGD through Adam optimizer\n",
    "            updates, opt_state = optimizer.update(grad, opt_state)\n",
    "            opt_pars = optax.apply_updates(opt_pars, updates)\n",
    "        \n",
    "        epoch_time =time.time() - start_time\n",
    "    \n",
    "        #Evaluate model\n",
    "        test_data = next(test_iterator)\n",
    "        val_loss = model(opt_pars, ssn_pars, grid_pars, conn_pars, test_data, filter_pars,  conv_pars )\n",
    "        print('Validation -- loss: {}, at epoch {}, (time {})'.format(val_loss, epoch+1, epoch_time))\n",
    "        val_loss_per_epoch.append(val_loss)\n",
    "    \n",
    "    \n",
    "    #reparametize parameters\n",
    "    signs=np.array([[1, -1], [1, -1]])    \n",
    "    opt_pars['logJ_2x2'] = np.exp(opt_pars['logJ_2x2'])*signs\n",
    "    opt_pars['logs_2x2'] = np.exp(opt_pars['logs_2x2'])\n",
    "    opt_pars['J_2x2'] = opt_pars['logJ_2x2']\n",
    "    opt_pars['s_2x2'] = opt_pars['logs_2x2']\n",
    "    del opt_pars['logJ_2x2'], opt_pars['logs_2x2']\n",
    "    \n",
    "    return opt_pars, val_loss_per_epoch"
   ]
  },
  {
   "cell_type": "code",
   "execution_count": 7,
   "id": "f598922e",
   "metadata": {},
   "outputs": [
    {
     "name": "stdout",
     "output_type": "stream",
     "text": [
      "Validation -- loss: 1.6899077892303467, at epoch 1, (time 28.36716365814209)\n"
     ]
    }
   ],
   "source": [
    "#model_test = model(opt_pars, ssn_pars, grid_pars, conn_pars, gratings, labels, filter_pars,  **conv_pars)\n",
    "new_pars, offset_5_loss= train_SSN(opt_pars, ssn_pars, grid_pars, conn_pars, train_dataloader, test_dataloader, filter_pars, conv_pars, batches = number_batches epochs=1)"
   ]
  },
  {
   "cell_type": "code",
   "execution_count": 18,
   "id": "b93e96e5",
   "metadata": {},
   "outputs": [
    {
     "data": {
      "image/png": "[encoded data removed]",
      "text/plain": [
       "<Figure size 640x480 with 1 Axes>"
      ]
     },
     "metadata": {},
     "output_type": "display_data"
    }
   ],
   "source": [
    "plt.plot(offset_5_loss)\n",
    "plt.title('Offset = 5 degrees')\n",
    "plt.xlabel('Epoch')\n",
    "plt.ylabel('Validation loss')\n",
    "plt.show()"
   ]
  },
  {
   "cell_type": "code",
   "execution_count": 15,
   "id": "93e4989e",
   "metadata": {},
   "outputs": [
    {
     "name": "stdout",
     "output_type": "stream",
     "text": [
      "Validation loss: 2.7332763671875, at epoch 1\n",
      "Validation loss: 2.731945037841797, at epoch 2\n",
      "Validation loss: 2.730693817138672, at epoch 3\n",
      "Validation loss: 2.729520559310913, at epoch 4\n",
      "Validation loss: 2.728422164916992, at epoch 5\n",
      "Validation loss: 2.727391004562378, at epoch 6\n",
      "Validation loss: 2.7264206409454346, at epoch 7\n",
      "Validation loss: 2.7255051136016846, at epoch 8\n",
      "Validation loss: 2.724634885787964, at epoch 9\n",
      "Validation loss: 2.723804473876953, at epoch 10\n"
     ]
    }
   ],
   "source": [
    "new_pars, offset_05_loss= train_SSN(opt_pars, ssn_pars, grid_pars, conn_pars, train_dataloader, test_dataloader, filter_pars, conv_pars, epochs=10)"
   ]
  },
  {
   "cell_type": "code",
   "execution_count": 20,
   "id": "ed93b330",
   "metadata": {},
   "outputs": [
    {
     "data": {
      "image/png": "[encoded data removed]",
      "text/plain": [
       "<Figure size 640x480 with 1 Axes>"
      ]
     },
     "metadata": {},
     "output_type": "display_data"
    }
   ],
   "source": [
    "plt.plot(offset_05_loss)\n",
    "plt.title('Offset = 0.5 degrees')\n",
    "plt.xlabel('Epoch')\n",
    "plt.ylabel('Validation loss')\n",
    "plt.show()"
   ]
  },
  {
   "cell_type": "markdown",
   "id": "84d896f6",
   "metadata": {},
   "source": [
    "# Vmap implementation"
   ]
  },
  {
   "cell_type": "markdown",
   "id": "d17652a4",
   "metadata": {},
   "source": [
    "Vmap implementation"
   ]
  },
  {
   "cell_type": "code",
   "execution_count": 36,
   "id": "18245873",
   "metadata": {},
   "outputs": [],
   "source": [
    "def sigmoid(x):\n",
    "    return 1/(1+np.exp(x))\n",
    "\n",
    "def binary_loss(n, x):\n",
    "    return - (n*np.log(x) + (1-n)*np.log(1-x))\n",
    "\n",
    "def test_model(opt_pars, ssn_pars, grid_pars, conn_pars, train_data, filter_pars,  conv_pars):\n",
    "    \n",
    "    signs=np.array([[1, -1], [1, -1]])\n",
    "    \n",
    "    J_2x2 =np.exp(opt_pars['logJ_2x2'])*signs\n",
    "    s_2x2 = np.exp(opt_pars['logs_2x2'])\n",
    "    \n",
    "    #Initialise network\n",
    "    ssn=SSN2DTopoV1_AMPAGABA_ONOFF(ssn_pars=ssn_pars, grid_pars=grid_pars, conn_pars=conn_pars, filter_pars=filter_pars, J_2x2=J_2x2, s_2x2=s_2x2)\n",
    "\n",
    "    #Apply Gabor filters to stimuli\n",
    "    output_ref=np.matmul(ssn.gabor_filters, train_data['ref'])*ssn.A\n",
    "    output_target=np.matmul(ssn.gabor_filters, train_data['target'])*ssn.A\n",
    "\n",
    "    #Rectify output\n",
    "    SSN_input_ref=np.maximum(0, output_ref)\n",
    "    SSN_input_target=np.maximum(0, output_target)\n",
    "\n",
    "    #Input to SSN\n",
    "    r_init = np.zeros(SSN_input_ref.shape[0])\n",
    "\n",
    "    fp_ref, _ = ssn.fixed_point_r(SSN_input_ref, r_init=r_init, **conv_pars)\n",
    "    x_ref = ssn.apply_bounding_box(fp_ref, size=3.2)\n",
    "\n",
    "    fp_target, _ = ssn.fixed_point_r(SSN_input_target, r_init=r_init, **conv_pars)\n",
    "    x_target = ssn.apply_bounding_box(fp_target, size=3.2)\n",
    "\n",
    "    #Apply sigmoid function - combine ref and target\n",
    "    x = sigmoid( np.dot(opt_pars['w_sig'], (x_ref.ravel() - x_target.ravel())) + opt_pars['b_sig'])\n",
    "\n",
    "    #Calculate binary cross entropy loss\n",
    "    loss=binary_loss(train_data['label'], x)\n",
    "   \n",
    "    return loss\n",
    "\n",
    "\n",
    "def loss(opt_pars, ssn_pars, grid_pars, conn_pars, train_data, filter_pars,  conv_pars):\n",
    "    '''\n",
    "    Calculate parallelized loss for batch of data through vmap.\n",
    "    Output:\n",
    "        mean loss of all the input images\n",
    "    '''\n",
    "    \n",
    "    vmap_model = vmap(test_model, in_axes = ({'b_sig': None, 'logJ_2x2': None, 'logs_2x2': None, 'w_sig': None}, None, None, {'PERIODIC': None, 'p_local': [None, None], 'sigma_oris': None},  {'ref':0, 'target':0, 'label':0}, {'conv_factor': None, 'degree_per_pixel': None, 'edge_deg': None, 'k': None, 'sigma_g': None}, {'Tmax': None, 'dt': None, 'silent': None, 'verbose': None, 'xtol': None}) )                   \n",
    "    loss = np.sum(vmap_model(opt_pars, ssn_pars, grid_pars, conn_pars, train_data, filter_pars,  conv_pars))\n",
    "\n",
    "    return loss\n",
    "\n",
    "\n",
    "def train_SSN_vmap(opt_pars, ssn_pars, grid_pars, conn_pars, train_dataloader, test_dataloader, filter_pars, conv_pars, batches, epochs=1, eta=10e-4):\n",
    "    \n",
    "    #Initialize loss\n",
    "    val_loss_per_epoch = []\n",
    "    accuracies=[]\n",
    "    \n",
    "    #Initialise optimizer\n",
    "    optimizer = optax.adam(eta)\n",
    "    opt_state = optimizer.init(opt_pars)\n",
    "    \n",
    "    #Define test data - no need to iterate\n",
    "    test_iterator = iter(test_dataloader)\n",
    "    test_data = next(test_iterator)\n",
    "    test_data['ref'] = test_data['ref'].numpy()\n",
    "    test_data['target'] = test_data['target'].numpy()\n",
    "    test_data['label'] = test_data['label'].numpy()\n",
    "\n",
    "    \n",
    "    for epoch in range(epochs):\n",
    "        start_time = time.time()\n",
    "        train_iterator = iter(train_dataloader)\n",
    "\n",
    "        #record loss and accuracy before training\n",
    "        if epoch == 0:\n",
    "\n",
    "            val_loss, accuracy= vmap_eval(opt_pars, ssn_pars, grid_pars, conn_pars, test_data, filter_pars,  conv_pars)\n",
    "\n",
    "            print('Before training  -- loss: {}, accuracy: {} '.format(val_loss, accuracy))\n",
    "            val_loss_per_epoch.append(val_loss)\n",
    "            accuracies.append(accuracy)\n",
    "    \n",
    "        \n",
    "        #Iterate through data in batches\n",
    "        for batch in range(batches): \n",
    "\n",
    "        \n",
    "            #load next batch of data and convert\n",
    "            train_data = next(train_iterator)\n",
    "            #convert tensors to numpy\n",
    "            train_data['ref'] = train_data['ref'].numpy()\n",
    "            train_data['target'] = train_data['target'].numpy()\n",
    "            train_data['label'] = train_data['label'].numpy()\n",
    "            \n",
    "            #Compute gradient\n",
    "            grad =jax.grad(loss)(opt_pars, ssn_pars, grid_pars, conn_pars, train_data, filter_pars,  conv_pars)\n",
    "            \n",
    "            #Apply SGD through Adam optimizer per batch\n",
    "            updates, opt_state = optimizer.update(grad, opt_state)\n",
    "            opt_pars = optax.apply_updates(opt_pars, updates)\n",
    "        \n",
    "        \n",
    "        epoch_time = time.time() - start_time\n",
    "        \n",
    "        \n",
    "        #Evaluate model at the end of each epoch\n",
    "        val_loss, accuracy= vmap_eval(opt_pars, ssn_pars, grid_pars, conn_pars, test_data, filter_pars,  conv_pars)\n",
    "        print('Validation -- loss: {}, accuracy: {} at epoch {}, (time {})'.format(val_loss, accuracy, epoch+1, epoch_time))\n",
    "        val_loss_per_epoch.append(val_loss)\n",
    "        accuracies.append(accuracy)\n",
    "    \n",
    "    #reparametize parameters\n",
    "    signs=np.array([[1, -1], [1, -1]])    \n",
    "    opt_pars['logJ_2x2'] = np.exp(opt_pars['logJ_2x2'])*signs\n",
    "    opt_pars['logs_2x2'] = np.exp(opt_pars['logs_2x2'])\n",
    "    \n",
    "    return opt_pars, val_loss_per_epoch, accuracies"
   ]
  },
  {
   "cell_type": "code",
   "execution_count": 37,
   "id": "38d735a1",
   "metadata": {},
   "outputs": [
    {
     "name": "stdout",
     "output_type": "stream",
     "text": [
      "Before training  -- loss: 21.70427131652832, accuracy: 0.5 \n",
      "Validation -- loss: 21.13054656982422, accuracy: 0.5 at epoch 1, (time 35.48745560646057)\n",
      "Validation -- loss: 20.61007308959961, accuracy: 0.5333333611488342 at epoch 2, (time 31.74259901046753)\n",
      "Validation -- loss: 20.12142562866211, accuracy: 0.5666666626930237 at epoch 3, (time 31.57243800163269)\n",
      "Validation -- loss: 19.64699935913086, accuracy: 0.5666666626930237 at epoch 4, (time 31.341127634048462)\n",
      "Validation -- loss: 19.16714859008789, accuracy: 0.6000000238418579 at epoch 5, (time 31.507070779800415)\n",
      "Validation -- loss: 18.65840721130371, accuracy: 0.6333333253860474 at epoch 6, (time 32.29159641265869)\n",
      "Validation -- loss: 18.089797973632812, accuracy: 0.6666666865348816 at epoch 7, (time 31.93056344985962)\n",
      "Validation -- loss: 17.433761596679688, accuracy: 0.699999988079071 at epoch 8, (time 32.138190269470215)\n",
      "Validation -- loss: 16.633277893066406, accuracy: 0.800000011920929 at epoch 9, (time 32.23539876937866)\n",
      "Validation -- loss: 15.656428337097168, accuracy: 0.800000011920929 at epoch 10, (time 32.26493740081787)\n",
      "Validation -- loss: 14.549727439880371, accuracy: 0.8333333134651184 at epoch 11, (time 32.300647020339966)\n",
      "Validation -- loss: 12.787388801574707, accuracy: 0.8999999761581421 at epoch 12, (time 32.33082842826843)\n",
      "Validation -- loss: 7.094709396362305, accuracy: 1.0 at epoch 13, (time 31.968324422836304)\n",
      "Validation -- loss: 0.05170278623700142, accuracy: 1.0 at epoch 14, (time 32.57423520088196)\n",
      "Validation -- loss: nan, accuracy: 0.0 at epoch 15, (time 31.726792573928833)\n",
      "Validation -- loss: nan, accuracy: 0.0 at epoch 16, (time 32.49675464630127)\n"
     ]
    },
    {
     "name": "stderr",
     "output_type": "stream",
     "text": [
      "\n",
      "KeyboardInterrupt\n",
      "\n"
     ]
    }
   ],
   "source": [
    "vmap_pars, vmap_val_loss, acc = train_SSN_vmap(opt_pars, ssn_pars, grid_pars, conn_pars, train_dataloader, test_dataloader, filter_pars,  conv_pars, batches = number_batches, epochs = 20)"
   ]
  },
  {
   "cell_type": "code",
   "execution_count": 11,
   "id": "6a4a7aac",
   "metadata": {},
   "outputs": [],
   "source": [
    "def eval_model(opt_pars, ssn_pars, grid_pars, conn_pars, test_data, filter_pars,  conv_pars):\n",
    "    signs=np.array([[1, -1], [1, -1]])\n",
    "    \n",
    "    J_2x2 =np.exp(opt_pars['logJ_2x2'])*signs\n",
    "    s_2x2 = np.exp(opt_pars['logs_2x2'])\n",
    "    \n",
    "    #Initialise network\n",
    "    ssn=SSN2DTopoV1_AMPAGABA_ONOFF(ssn_pars=ssn_pars, grid_pars=grid_pars, conn_pars=conn_pars, filter_pars=filter_pars, J_2x2=J_2x2, s_2x2=s_2x2)\n",
    "\n",
    "    #Apply Gabor filters to stimuli\n",
    "    output_ref=np.matmul(ssn.gabor_filters, test_data['ref'])*ssn.A\n",
    "    output_target=np.matmul(ssn.gabor_filters, test_data['target'])*ssn.A\n",
    "\n",
    "    #Rectify output\n",
    "    SSN_input_ref=np.maximum(0, output_ref)\n",
    "    SSN_input_target=np.maximum(0, output_target)\n",
    "\n",
    "    #Input to SSN\n",
    "    r_init = np.zeros(SSN_input_ref.shape[0])\n",
    "\n",
    "    fp_ref, _ = ssn.fixed_point_r(SSN_input_ref, r_init=r_init, **conv_pars)\n",
    "    x_ref = ssn.apply_bounding_box(fp_ref, size=3.2)\n",
    "\n",
    "    fp_target, _ = ssn.fixed_point_r(SSN_input_target, r_init=r_init, **conv_pars)\n",
    "    x_target = ssn.apply_bounding_box(fp_target, size=3.2)\n",
    "\n",
    "    #Apply sigmoid function - combine ref and target\n",
    "    x = sigmoid( np.dot(opt_pars['w_sig'], (x_ref.ravel() - x_target.ravel())) + opt_pars['b_sig'])\n",
    "    \n",
    "    #compare prediction to label\n",
    "    pred_label = np.round(x)\n",
    "\n",
    "    #Calculate binary cross entropy loss\n",
    "    loss=binary_loss(test_data['label'], x)\n",
    "    \n",
    "    return loss, pred_label\n",
    "\n",
    "def vmap_eval(opt_pars, ssn_pars, grid_pars, conn_pars, test_data, filter_pars,  conv_pars):\n",
    "    \n",
    "    eval_vmap = vmap(eval_model, in_axes = ({'b_sig': None, 'logJ_2x2': None, 'logs_2x2': None, 'w_sig': None}, None, None, {'PERIODIC': None, 'p_local': [None, None], 'sigma_oris': None},  {'ref':0, 'target':0, 'label':0}, {'conv_factor': None, 'degree_per_pixel': None, 'edge_deg': None, 'k': None, 'sigma_g': None}, {'Tmax': None, 'dt': None, 'silent': None, 'verbose': None, 'xtol': None}) )\n",
    "    losses, labels = eval_vmap(opt_pars, ssn_pars, grid_pars, conn_pars, test_data, filter_pars,  conv_pars)\n",
    "    \n",
    "    accuracy = np.sum(test_data['label'] == labels)/len(test_data['label'])\n",
    "    \n",
    "    return np.mean(losses), accuracy"
   ]
  },
  {
   "cell_type": "code",
   "execution_count": null,
   "id": "b6e13410",
   "metadata": {},
   "outputs": [],
   "source": []
  }
 ],
 "metadata": {
  "kernelspec": {
   "display_name": "Python 3 (ipykernel)",
   "language": "python",
   "name": "python3"
  },
  "language_info": {
   "codemirror_mode": {
    "name": "ipython",
    "version": 3
   },
   "file_extension": ".py",
   "mimetype": "text/x-python",
   "name": "python",
   "nbconvert_exporter": "python",
   "pygments_lexer": "ipython3",
   "version": "3.8.10"
  }
 },
 "nbformat": 4,
 "nbformat_minor": 5
}
