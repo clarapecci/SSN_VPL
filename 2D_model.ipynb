{
 "cells": [
  {
   "cell_type": "markdown",
   "id": "5d354ebc",
   "metadata": {},
   "source": [
    "# 2D SSN Model"
   ]
  },
  {
   "cell_type": "markdown",
   "id": "8adb6de8",
   "metadata": {},
   "source": [
    "1. Imports"
   ]
  },
  {
   "cell_type": "code",
   "execution_count": 1,
   "id": "4d27bfd4",
   "metadata": {},
   "outputs": [],
   "source": [
    "import jax.numpy as np\n",
    "import jax\n",
    "import matplotlib.pyplot as plt\n",
    "import time, os, json\n",
    "import pandas as pd\n",
    "from scipy import stats \n",
    "from tqdm import tqdm\n",
    "import seaborn as sns\n",
    "from jax import random\n",
    "from jax.config import config \n",
    "\n",
    "config.update('jax_debug_nans', True)\n",
    "from SSN_classes_jax import SSN2DTopoV1_AMPAGABA_ONOFF\n",
    "from util import GaborFilter, BW_Grating, find_A, create_gabor_filters, create_gratings"
   ]
  },
  {
   "cell_type": "markdown",
   "id": "844906d1",
   "metadata": {},
   "source": [
    "# MODEL TRAINING"
   ]
  },
  {
   "cell_type": "markdown",
   "id": "ed4b73aa",
   "metadata": {},
   "source": [
    "## --> INCLUDE NUMBER OF TRIALS"
   ]
  },
  {
   "cell_type": "markdown",
   "id": "8497399e",
   "metadata": {},
   "source": [
    "1. Define parameters"
   ]
  },
  {
   "cell_type": "code",
   "execution_count": 7,
   "id": "3969cb36",
   "metadata": {},
   "outputs": [],
   "source": [
    "#Convergence parameters\n",
    "\n",
    "#Network parameters\n",
    "class ssn_pars():\n",
    "    n = 2\n",
    "    k = 0.04\n",
    "    tauE = 30 # in ms\n",
    "    tauI = 10 # in ms\n",
    "    psi = 0.774\n",
    "    tau_s = np.array([5, 7, 100]) #in ms, AMPA, GABA, NMDA current decay time constants\n",
    "    \n",
    "\n",
    "#Grid parameters\n",
    "class grid_pars():\n",
    "    gridsize_Nx = 9 # grid-points across each edge # gives rise to dx = 0.8 mm\n",
    "    gridsize_deg = 2 * 1.6 # edge length in degrees\n",
    "    magnif_factor = 2  # mm/deg\n",
    "    hyper_col = 0.8 # mm   \n",
    "    sigma_RF = 0.4 # deg (visual angle)\n",
    "\n",
    "# Caleb's params for the full (with local) model:\n",
    "Js0 = [1.82650658, 0.68194475, 2.06815311, 0.5106321]\n",
    "gE, gI = 0.57328625, 0.26144141\n",
    "\n",
    "sigEE, sigIE = 0.2, 0.40\n",
    "sigEI, sigII = .09, .09\n",
    "conn_pars = dict(\n",
    "    PERIODIC = False,\n",
    "    p_local = [.4, 0.7], # [p_local_EE, p_local_IE],\n",
    "    sigma_oris = 1000) # sigma_oris\n",
    "\n",
    "\n",
    "make_J2x2 = lambda Jee, Jei, Jie, Jii: np.array([[Jee, -Jei], [Jie,  -Jii]]) * np.pi * ssn_pars.psi\n",
    "J_2x2 = make_J2x2(*Js0)\n",
    "s_2x2 = np.array([[sigEE, sigEI],[sigIE, sigII]])\n",
    "\n",
    "#Positive reparameterization\n",
    "signs=np.array([[1, -1], [1, -1]])\n",
    "logJ_2x2 =np.log(J_2x2*signs)\n",
    "logs_2x2 = np.log(s_2x2)\n",
    "\n",
    "\n",
    "#Sigmoid parameters\n",
    "N_neurons = 25\n",
    "key = random.PRNGKey(10)\n",
    "w_sig = random.normal(key, shape = (N_neurons,)) / np.sqrt(N_neurons)\n",
    "b_sig = 0.0\n",
    "\n",
    "#Gabor parameters \n",
    "sigma_g= 0.5\n",
    "k = np.pi/(6*sigma_g)\n",
    "\n",
    "#Parameters shared with stimuli\n",
    "general_pars = dict(k=k , edge_deg=3.2,  degree_per_pixel=0.05)\n",
    "\n",
    "#Parameters exclusive to Gabor filters\n",
    "filter_pars = dict(sigma_g = sigma_g, conv_factor = grid_pars.magnif_factor)\n",
    "\n",
    "#Concatenate all parameters\n",
    "filter_pars.update(general_pars) "
   ]
  },
  {
   "cell_type": "markdown",
   "id": "805ee79b",
   "metadata": {},
   "source": [
    "2. Create training data"
   ]
  },
  {
   "cell_type": "code",
   "execution_count": 3,
   "id": "5ce70270",
   "metadata": {},
   "outputs": [],
   "source": [
    "#Stimuli parameters\n",
    "    \n",
    "#Add jitter to reference and target\n",
    "key = random.PRNGKey(86)\n",
    "jitter_val = 5\n",
    "jitter =random.uniform(key, minval=- jitter_val , maxval= jitter_val)\n",
    "\n",
    "stimuli_pars = dict(outer_radius=3, inner_radius=2.5, grating_contrast=0.99, snr = 0)\n",
    "stimuli_pars.update(general_pars)\n",
    "\n",
    "\n",
    "#Create training data\n",
    "training_data=np.array(([55, 50], [55,60], [55, 50], [55,60], [55, 50]))\n",
    "#training_data=np.array(([55,50]))\n",
    "gratings, labels = create_gratings(training_data, jitter_val= 5, **stimuli_pars)"
   ]
  },
  {
   "cell_type": "markdown",
   "id": "ccde2f80",
   "metadata": {},
   "source": [
    "3. TRAINING!"
   ]
  },
  {
   "cell_type": "code",
   "execution_count": 4,
   "id": "4b6924f7",
   "metadata": {},
   "outputs": [],
   "source": [
    "def sigmoid(x):\n",
    "    return 1/(1+np.exp(x))\n",
    "\n",
    "def binary_loss(n, x):\n",
    "    return - n*np.log(x) - (1-n)*np.log(1-x)\n",
    "\n",
    "def model(logJ_2x2, logs_2x2, w_sig, b_sig, ssn_pars, grid_pars, conn_pars, train_data, labels, filter_pars,  **conv_pars):\n",
    "    \n",
    "    signs=np.array([[1, -1], [1, -1]])\n",
    "    \n",
    "    J_2x2 =np.exp(logJ_2x2)*signs\n",
    "    s_2x2 = np.exp(logs_2x2)\n",
    "    \n",
    "    total_loss=0\n",
    "    \n",
    "    for i in range(len(train_data)):\n",
    "        \n",
    "        #Initialise network\n",
    "        ssn=SSN2DTopoV1_AMPAGABA_ONOFF(ssn_pars=ssn_pars, grid_pars=grid_pars, conn_pars=conn_pars, filter_pars=filter_pars, J_2x2=J_2x2, s_2x2=s_2x2)\n",
    "                                           \n",
    "        \n",
    "        #Apply Gabor filters to stimuli\n",
    "        output_ref=np.matmul(ssn.gabor_filters, train_data[i, 0].ravel())*ssn.A\n",
    "        output_target=np.matmul(ssn.gabor_filters, train_data[i,1].ravel())*ssn.A\n",
    "\n",
    "        #Rectify output\n",
    "        SSN_input_ref=np.maximum(0, output_ref)\n",
    "        SSN_input_target=np.maximum(0, output_target)\n",
    "        \n",
    "        #Input to SSN\n",
    "        r_init = np.zeros(SSN_input_ref.shape[0])\n",
    "        \n",
    "        fp_ref, _ = ssn.fixed_point_r(SSN_input_ref, r_init=r_init, **conv_pars)\n",
    "        x_ref = ssn.apply_bounding_box(fp_ref, size=3.2)\n",
    "        #print('x_ref:{}'.format(fp_ref))\n",
    "\n",
    "        fp_target, _ = ssn.fixed_point_r(SSN_input_target, r_init=r_init, **conv_pars)\n",
    "        x_target = ssn.apply_bounding_box(fp_target, size=3.2)\n",
    "        #print('x_target:{}'.format(fp_target))\n",
    "\n",
    "        #Combine reference and target \n",
    "        #x = fp_ref + fp_target\n",
    "\n",
    "        #Apply sigmoid function\n",
    "        x = sigmoid( np.dot(w_sig, (x_ref.ravel() - x_target.ravel())) + b_sig)\n",
    "        print('x = ', x)\n",
    "\n",
    "        #Calculate binary cross entropy loss\n",
    "        total_loss+=np.sum(binary_loss(labels[i], x))\n",
    "        \n",
    "    print('Loss {}'.format(total_loss))\n",
    "   \n",
    "    #check what indices are nan\n",
    "    #indices = np.argwhere(np.isnan(loss))\n",
    "    \n",
    "    return total_loss\n",
    "    \n",
    "\n",
    "def train_SSN(logJ_2x2, logs_2x2, w_sig, b_sig, ssn_pars, grid_pars, conn_pars, train_data, labels, filter_pars, conv_pars, epochs=6, eta=10e-4):\n",
    "    \n",
    "    #Initialize loss\n",
    "    #total_loss = 0\n",
    "    \n",
    "    #define grad function with respect to params to differentiate\n",
    "    \n",
    "    grad_loss=jax.grad(model, argnums=(0,1,2,3))\n",
    "    \n",
    "    for i in range(epochs):\n",
    "        \n",
    "        \n",
    "        dJ, ds, dw_sig, db_sig =grad_loss(logJ_2x2, logs_2x2,  w_sig, b_sig, ssn_pars, grid_pars, conn_pars, train_data, labels, filter_pars,  **conv_pars)\n",
    "\n",
    "        #compute loss\n",
    "        #model_out=model(J_2x2, s_2x2,  w_sig, b_sig, ssn_pars, grid_pars, conn_pars, train_data, labels, filter_pars,  **conv_pars)\n",
    "\n",
    "        #update parameters using gradient descent\n",
    "        logJ_2x2 = logJ_2x2 - dJ*eta\n",
    "        \n",
    "        logs_2x2 = logs_2x2 - ds*eta\n",
    "        \n",
    "        w_sig = w_sig - dw_sig*eta\n",
    "        b_sig = b_sig - db_sig*eta\n",
    "        \n",
    "    signs=np.array([[1, -1], [1, -1]])    \n",
    "    J_2x2 = np.exp(logJ_2x2)*signs\n",
    "    s_2x2 = np.exp(logs_2x2)\n",
    "    \n",
    "    return J_2x2, s_2x2, w_sig, b_sig"
   ]
  },
  {
   "cell_type": "code",
   "execution_count": 8,
   "id": "25d1d826",
   "metadata": {},
   "outputs": [
    {
     "name": "stdout",
     "output_type": "stream",
     "text": [
      "x =  0.5062364\n",
      "x =  0.4794171\n",
      "x =  0.5099783\n",
      "x =  0.48206148\n",
      "x =  0.50236434\n",
      "Loss 3.3532731533050537\n"
     ]
    }
   ],
   "source": [
    "conv_pars=dict(dt = 1, xtol = 1e-5, Tmax = 5, verbose=False, silent=True)\n",
    "\n",
    "model_out=model(logJ_2x2, logs_2x2,  w_sig, b_sig, ssn_pars, grid_pars, conn_pars, gratings, labels, filter_pars,  **conv_pars)"
   ]
  },
  {
   "cell_type": "code",
   "execution_count": 5,
   "id": "154d1180",
   "metadata": {},
   "outputs": [
    {
     "data": {
      "text/plain": [
       "float"
      ]
     },
     "execution_count": 5,
     "metadata": {},
     "output_type": "execute_result"
    }
   ],
   "source": [
    "type(b_sig)"
   ]
  },
  {
   "cell_type": "code",
   "execution_count": 9,
   "id": "f598922e",
   "metadata": {},
   "outputs": [
    {
     "name": "stdout",
     "output_type": "stream",
     "text": [
      "x =  Traced<ConcreteArray(0.5062363743782043, dtype=float32)>with<JVPTrace(level=2/0)> with\n",
      "  primal = DeviceArray(0.5062364, dtype=float32)\n",
      "  tangent = Traced<ShapedArray(float32[])>with<JaxprTrace(level=1/0)> with\n",
      "    pval = (ShapedArray(float32[]), None)\n",
      "    recipe = JaxprEqnRecipe(eqn_id=<object object at 0x7f9bf82200e0>, in_tracers=(Traced<ConcreteArray(1.0, dtype=float32):JaxprTrace(level=1/0)>, Traced<ConcreteArray(0.2562752962112427, dtype=float32):JaxprTrace(level=1/0)>, Traced<ShapedArray(float32[]):JaxprTrace(level=1/0)>), out_tracer_refs=[<weakref at 0x7f9bf831f5e0; to 'JaxprTracer' at 0x7f9c00279680>], out_avals=[ShapedArray(float32[])], primitive=xla_call, params={'device': None, 'backend': None, 'name': 'true_divide', 'donated_invars': (False, False, False), 'inline': True, 'keep_unused': False, 'call_jaxpr': { lambda ; a:f32[] b:f32[] c:f32[]. let\n",
      "    d:f32[] = neg c\n",
      "    e:f32[] = mul d a\n",
      "    f:f32[] = mul e b\n",
      "  in (f,) }}, effects=set(), source_info=SourceInfo(traceback=<jaxlib.xla_extension.Traceback object at 0x7f9bf8223f30>, name_stack=NameStack(stack=(Transform(name='jvp'),))))\n",
      "x =  Traced<ConcreteArray(0.479417085647583, dtype=float32)>with<JVPTrace(level=2/0)> with\n",
      "  primal = DeviceArray(0.4794171, dtype=float32)\n",
      "  tangent = Traced<ShapedArray(float32[])>with<JaxprTrace(level=1/0)> with\n",
      "    pval = (ShapedArray(float32[]), None)\n",
      "    recipe = JaxprEqnRecipe(eqn_id=<object object at 0x7f9bf8220d50>, in_tracers=(Traced<ConcreteArray(1.0, dtype=float32):JaxprTrace(level=1/0)>, Traced<ConcreteArray(0.2298407405614853, dtype=float32):JaxprTrace(level=1/0)>, Traced<ShapedArray(float32[]):JaxprTrace(level=1/0)>), out_tracer_refs=[<weakref at 0x7f9bf80f0cc0; to 'JaxprTracer' at 0x7f9bf80f0a40>], out_avals=[ShapedArray(float32[])], primitive=xla_call, params={'device': None, 'backend': None, 'name': 'true_divide', 'donated_invars': (False, False, False), 'inline': True, 'keep_unused': False, 'call_jaxpr': { lambda ; a:f32[] b:f32[] c:f32[]. let\n",
      "    d:f32[] = neg c\n",
      "    e:f32[] = mul d a\n",
      "    f:f32[] = mul e b\n",
      "  in (f,) }}, effects=set(), source_info=SourceInfo(traceback=<jaxlib.xla_extension.Traceback object at 0x7f9bf80f1330>, name_stack=NameStack(stack=(Transform(name='jvp'),))))\n",
      "x =  Traced<ConcreteArray(0.5099782943725586, dtype=float32)>with<JVPTrace(level=2/0)> with\n",
      "  primal = DeviceArray(0.5099783, dtype=float32)\n",
      "  tangent = Traced<ShapedArray(float32[])>with<JaxprTrace(level=1/0)> with\n",
      "    pval = (ShapedArray(float32[]), None)\n",
      "    recipe = JaxprEqnRecipe(eqn_id=<object object at 0x7f9bf8081890>, in_tracers=(Traced<ConcreteArray(1.0, dtype=float32):JaxprTrace(level=1/0)>, Traced<ConcreteArray(0.2600778341293335, dtype=float32):JaxprTrace(level=1/0)>, Traced<ShapedArray(float32[]):JaxprTrace(level=1/0)>), out_tracer_refs=[<weakref at 0x7f9bf8047270; to 'JaxprTracer' at 0x7f9bf80471d0>], out_avals=[ShapedArray(float32[])], primitive=xla_call, params={'device': None, 'backend': None, 'name': 'true_divide', 'donated_invars': (False, False, False), 'inline': True, 'keep_unused': False, 'call_jaxpr': { lambda ; a:f32[] b:f32[] c:f32[]. let\n",
      "    d:f32[] = neg c\n",
      "    e:f32[] = mul d a\n",
      "    f:f32[] = mul e b\n",
      "  in (f,) }}, effects=set(), source_info=SourceInfo(traceback=<jaxlib.xla_extension.Traceback object at 0x7f9bf8043170>, name_stack=NameStack(stack=(Transform(name='jvp'),))))\n",
      "x =  Traced<ConcreteArray(0.4820614755153656, dtype=float32)>with<JVPTrace(level=2/0)> with\n",
      "  primal = DeviceArray(0.48206148, dtype=float32)\n",
      "  tangent = Traced<ShapedArray(float32[])>with<JaxprTrace(level=1/0)> with\n",
      "    pval = (ShapedArray(float32[]), None)\n",
      "    recipe = JaxprEqnRecipe(eqn_id=<object object at 0x7f9bf800f430>, in_tracers=(Traced<ConcreteArray(1.0, dtype=float32):JaxprTrace(level=1/0)>, Traced<ConcreteArray(0.23238325119018555, dtype=float32):JaxprTrace(level=1/0)>, Traced<ShapedArray(float32[]):JaxprTrace(level=1/0)>), out_tracer_refs=[<weakref at 0x7f9bf802b6d0; to 'JaxprTracer' at 0x7f9bf802b450>], out_avals=[ShapedArray(float32[])], primitive=xla_call, params={'device': None, 'backend': None, 'name': 'true_divide', 'donated_invars': (False, False, False), 'inline': True, 'keep_unused': False, 'call_jaxpr': { lambda ; a:f32[] b:f32[] c:f32[]. let\n",
      "    d:f32[] = neg c\n",
      "    e:f32[] = mul d a\n",
      "    f:f32[] = mul e b\n",
      "  in (f,) }}, effects=set(), source_info=SourceInfo(traceback=<jaxlib.xla_extension.Traceback object at 0x7f9bf80292b0>, name_stack=NameStack(stack=(Transform(name='jvp'),))))\n",
      "x =  Traced<ConcreteArray(0.5023643374443054, dtype=float32)>with<JVPTrace(level=2/0)> with\n",
      "  primal = DeviceArray(0.50236434, dtype=float32)\n",
      "  tangent = Traced<ShapedArray(float32[])>with<JaxprTrace(level=1/0)> with\n",
      "    pval = (ShapedArray(float32[]), None)\n",
      "    recipe = JaxprEqnRecipe(eqn_id=<object object at 0x7f9bf800ff00>, in_tracers=(Traced<ConcreteArray(1.0, dtype=float32):JaxprTrace(level=1/0)>, Traced<ConcreteArray(0.2523699104785919, dtype=float32):JaxprTrace(level=1/0)>, Traced<ShapedArray(float32[]):JaxprTrace(level=1/0)>), out_tracer_refs=[<weakref at 0x7f9bc071cb30; to 'JaxprTracer' at 0x7f9bc071c8b0>], out_avals=[ShapedArray(float32[])], primitive=xla_call, params={'device': None, 'backend': None, 'name': 'true_divide', 'donated_invars': (False, False, False), 'inline': True, 'keep_unused': False, 'call_jaxpr': { lambda ; a:f32[] b:f32[] c:f32[]. let\n",
      "    d:f32[] = neg c\n",
      "    e:f32[] = mul d a\n",
      "    f:f32[] = mul e b\n",
      "  in (f,) }}, effects=set(), source_info=SourceInfo(traceback=<jaxlib.xla_extension.Traceback object at 0x7f9bc0719570>, name_stack=NameStack(stack=(Transform(name='jvp'),))))\n",
      "Loss Traced<ConcreteArray(3.3532731533050537, dtype=float32)>with<JVPTrace(level=2/0)> with\n",
      "  primal = DeviceArray(3.3532732, dtype=float32)\n",
      "  tangent = Traced<ShapedArray(float32[])>with<JaxprTrace(level=1/0)> with\n",
      "    pval = (ShapedArray(float32[]), None)\n",
      "    recipe = JaxprEqnRecipe(eqn_id=<object object at 0x7f9bf800ff30>, in_tracers=(Traced<ShapedArray(float32[]):JaxprTrace(level=1/0)>, Traced<ShapedArray(float32[]):JaxprTrace(level=1/0)>), out_tracer_refs=[<weakref at 0x7f9bc07209f0; to 'JaxprTracer' at 0x7f9bc07209a0>], out_avals=[ShapedArray(float32[])], primitive=xla_call, params={'device': None, 'backend': None, 'name': 'fn', 'donated_invars': (False, False), 'inline': True, 'keep_unused': False, 'call_jaxpr': { lambda ; a:f32[] b:f32[]. let c:f32[] = add a b in (c,) }}, effects=set(), source_info=SourceInfo(traceback=<jaxlib.xla_extension.Traceback object at 0x7f9bc07232b0>, name_stack=NameStack(stack=(Transform(name='jvp'),))))\n"
     ]
    }
   ],
   "source": [
    "J, s, w, b= train_SSN(logJ_2x2, logs_2x2, w_sig, b_sig, ssn_pars, grid_pars, conn_pars, gratings, labels, filter_pars, conv_pars, epochs=1)"
   ]
  },
  {
   "cell_type": "code",
   "execution_count": 7,
   "id": "c62a388c",
   "metadata": {},
   "outputs": [
    {
     "name": "stdout",
     "output_type": "stream",
     "text": [
      "Did not reach fixed point.\n"
     ]
    }
   ],
   "source": [
    "ssn=SSN2DTopoV1_AMPAGABA_ONOFF(ssn_pars=ssn_pars, grid_pars=grid_pars, conn_pars=conn_pars, filter_pars=filter_pars, J_2x2=J_2x2, s_2x2=s_2x2)\n",
    "\n",
    "#Apply Gabor filters to stimuli\n",
    "output_ref=np.matmul(ssn.gabor_filters, gratings[1, 0].ravel())*ssn.A\n",
    "output_target=np.matmul(ssn.gabor_filters, gratings[1,1].ravel())*ssn.A\n",
    "\n",
    "#Rectify output\n",
    "SSN_input_ref=np.maximum(0, output_ref)\n",
    "SSN_input_target=np.maximum(0, output_target)\n",
    "\n",
    "#Input to SSN\n",
    "r_init = np.zeros(SSN_input_ref.shape[0])\n",
    "\n",
    "fp_ref, _ = ssn.fixed_point_r(SSN_input_ref, r_init=r_init, **conv_pars)\n",
    "\n",
    "#fp_target, _ = ssn.fixed_point_r(SSN_input_target, r_init=r_init, **conv_pars)"
   ]
  },
  {
   "cell_type": "code",
   "execution_count": 8,
   "id": "6732e1c9",
   "metadata": {},
   "outputs": [
    {
     "data": {
      "text/plain": [
       "DeviceArray(2128.79824252, dtype=float64)"
      ]
     },
     "execution_count": 8,
     "metadata": {},
     "output_type": "execute_result"
    }
   ],
   "source": [
    "np.sum(ssn.W)"
   ]
  },
  {
   "cell_type": "code",
   "execution_count": null,
   "id": "c1a77d05",
   "metadata": {},
   "outputs": [],
   "source": []
  }
 ],
 "metadata": {
  "kernelspec": {
   "display_name": "Python 3 (ipykernel)",
   "language": "python",
   "name": "python3"
  },
  "language_info": {
   "codemirror_mode": {
    "name": "ipython",
    "version": 3
   },
   "file_extension": ".py",
   "mimetype": "text/x-python",
   "name": "python",
   "nbconvert_exporter": "python",
   "pygments_lexer": "ipython3",
   "version": "3.8.10"
  }
 },
 "nbformat": 4,
 "nbformat_minor": 5
}
