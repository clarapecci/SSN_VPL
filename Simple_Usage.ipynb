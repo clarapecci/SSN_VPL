{
 "cells": [
  {
   "cell_type": "code",
   "execution_count": null,
   "id": "d99aa445",
   "metadata": {},
   "outputs": [],
   "source": [
    "import jax.numpy as np\n",
    "import matplotlib.pyplot as plt\n",
    "\n",
    "import SSN_classes"
   ]
  },
  {
   "cell_type": "code",
   "execution_count": 2,
   "id": "7317cf40",
   "metadata": {},
   "outputs": [
    {
     "name": "stderr",
     "output_type": "stream",
     "text": [
      "WARNING:absl:No GPU/TPU found, falling back to CPU. (Set TF_CPP_MIN_LOG_LEVEL=0 and rerun for more info.)\n"
     ]
    },
    {
     "ename": "TypeError",
     "evalue": "JAX arrays do not support boolean scalar indices",
     "output_type": "error",
     "traceback": [
      "\u001b[0;31m---------------------------------------------------------------------------\u001b[0m",
      "\u001b[0;31mTypeError\u001b[0m                                 Traceback (most recent call last)",
      "Cell \u001b[0;32mIn [2], line 11\u001b[0m\n\u001b[1;32m      8\u001b[0m s_2x2 \u001b[38;5;241m=\u001b[39m np\u001b[38;5;241m.\u001b[39mones((\u001b[38;5;241m2\u001b[39m,\u001b[38;5;241m2\u001b[39m)) \u001b[38;5;241m*\u001b[39m sig_rec\n\u001b[1;32m     10\u001b[0m \u001b[38;5;66;03m# make SSN object\u001b[39;00m\n\u001b[0;32m---> 11\u001b[0m ssn \u001b[38;5;241m=\u001b[39m SSN_classes\u001b[38;5;241m.\u001b[39mSSNHomogRing(n\u001b[38;5;241m=\u001b[39m\u001b[38;5;241m2\u001b[39m, k\u001b[38;5;241m=\u001b[39m\u001b[38;5;241m0.04\u001b[39m, tauE\u001b[38;5;241m=\u001b[39m\u001b[38;5;241m20\u001b[39m, tauI\u001b[38;5;241m=\u001b[39m\u001b[38;5;241m10\u001b[39m, \n\u001b[1;32m     12\u001b[0m                     J_2x2\u001b[38;5;241m=\u001b[39mJ_2x2, s_2x2\u001b[38;5;241m=\u001b[39ms_2x2, Ne\u001b[38;5;241m=\u001b[39mM, L\u001b[38;5;241m=\u001b[39mL)\n\u001b[1;32m     14\u001b[0m \u001b[38;5;66;03m# make external input vector\u001b[39;00m\n\u001b[1;32m     15\u001b[0m sig_ffw \u001b[38;5;241m=\u001b[39m \u001b[38;5;241m30\u001b[39m \u001b[38;5;66;03m# in degres, tuning width of external input \u001b[39;00m\n",
      "File \u001b[0;32m~/code/ssn-simulator/SSN_classes.py:417\u001b[0m, in \u001b[0;36mSSNHomogRing.__init__\u001b[0;34m(self, n, k, tauE, tauI, J_2x2, s_2x2, Ne, L, dist, L1normalize, **kwargs)\u001b[0m\n\u001b[1;32m    415\u001b[0m \u001b[38;5;28mself\u001b[39m\u001b[38;5;241m.\u001b[39mdist \u001b[38;5;241m=\u001b[39m dist\n\u001b[1;32m    416\u001b[0m \u001b[38;5;28mself\u001b[39m\u001b[38;5;241m.\u001b[39mori_vec \u001b[38;5;241m=\u001b[39m np\u001b[38;5;241m.\u001b[39mtile(np\u001b[38;5;241m.\u001b[39mlinspace(\u001b[38;5;241m0\u001b[39m, L, Ne\u001b[38;5;241m+\u001b[39m\u001b[38;5;241m1\u001b[39m)[:\u001b[38;5;241m-\u001b[39m\u001b[38;5;241m1\u001b[39m], (\u001b[38;5;241m2\u001b[39m,))\n\u001b[0;32m--> 417\u001b[0m \u001b[38;5;28;43mself\u001b[39;49m\u001b[38;5;241;43m.\u001b[39;49m\u001b[43mmake_W\u001b[49m\u001b[43m(\u001b[49m\u001b[43mJ_2x2\u001b[49m\u001b[43m,\u001b[49m\u001b[43m \u001b[49m\u001b[43ms_2x2\u001b[49m\u001b[43m,\u001b[49m\u001b[43m \u001b[49m\u001b[43mL1normalize\u001b[49m\u001b[38;5;241;43m=\u001b[39;49m\u001b[43mL1normalize\u001b[49m\u001b[43m)\u001b[49m\n",
      "File \u001b[0;32m~/code/ssn-simulator/SSN_classes.py:461\u001b[0m, in \u001b[0;36mSSNHomogRing.make_W\u001b[0;34m(self, J_2x2, s_2x2, L, dist, Ne, Ni, L1normalize)\u001b[0m\n\u001b[1;32m    459\u001b[0m     normalize \u001b[38;5;241m=\u001b[39m \u001b[38;5;28;01mlambda\u001b[39;00m vec: vec        \n\u001b[1;32m    460\u001b[0m blk \u001b[38;5;241m=\u001b[39m \u001b[38;5;28;01mlambda\u001b[39;00m i, j: toeplitz(normalize(np\u001b[38;5;241m.\u001b[39mexp(\u001b[38;5;241m-\u001b[39mdistsq(\u001b[38;5;28mself\u001b[39m\u001b[38;5;241m.\u001b[39mori_vec_E)\u001b[38;5;241m/\u001b[39m\u001b[38;5;241m2\u001b[39m\u001b[38;5;241m/\u001b[39ms_2x2[i,j]\u001b[38;5;241m*\u001b[39m\u001b[38;5;241m*\u001b[39m\u001b[38;5;241m2\u001b[39m) \u001b[38;5;241m/\u001b[39m Ns[j]))\n\u001b[0;32m--> 461\u001b[0m W \u001b[38;5;241m=\u001b[39m np\u001b[38;5;241m.\u001b[39mvstack([np\u001b[38;5;241m.\u001b[39mhstack([J_2x2[i,j] \u001b[38;5;241m*\u001b[39m blk(i,j) \u001b[38;5;28;01mfor\u001b[39;00m j \u001b[38;5;129;01min\u001b[39;00m \u001b[38;5;28mrange\u001b[39m(\u001b[38;5;241m2\u001b[39m)])\n\u001b[1;32m    462\u001b[0m                                                 \u001b[38;5;28;01mfor\u001b[39;00m i \u001b[38;5;129;01min\u001b[39;00m \u001b[38;5;28mrange\u001b[39m(\u001b[38;5;241m2\u001b[39m)])\n\u001b[1;32m    464\u001b[0m \u001b[38;5;28mself\u001b[39m\u001b[38;5;241m.\u001b[39mW \u001b[38;5;241m=\u001b[39m W\n\u001b[1;32m    465\u001b[0m \u001b[38;5;28mself\u001b[39m\u001b[38;5;241m.\u001b[39mL1normalize \u001b[38;5;241m=\u001b[39m L1normalize\n",
      "File \u001b[0;32m~/code/ssn-simulator/SSN_classes.py:461\u001b[0m, in \u001b[0;36m<listcomp>\u001b[0;34m(.0)\u001b[0m\n\u001b[1;32m    459\u001b[0m     normalize \u001b[38;5;241m=\u001b[39m \u001b[38;5;28;01mlambda\u001b[39;00m vec: vec        \n\u001b[1;32m    460\u001b[0m blk \u001b[38;5;241m=\u001b[39m \u001b[38;5;28;01mlambda\u001b[39;00m i, j: toeplitz(normalize(np\u001b[38;5;241m.\u001b[39mexp(\u001b[38;5;241m-\u001b[39mdistsq(\u001b[38;5;28mself\u001b[39m\u001b[38;5;241m.\u001b[39mori_vec_E)\u001b[38;5;241m/\u001b[39m\u001b[38;5;241m2\u001b[39m\u001b[38;5;241m/\u001b[39ms_2x2[i,j]\u001b[38;5;241m*\u001b[39m\u001b[38;5;241m*\u001b[39m\u001b[38;5;241m2\u001b[39m) \u001b[38;5;241m/\u001b[39m Ns[j]))\n\u001b[0;32m--> 461\u001b[0m W \u001b[38;5;241m=\u001b[39m np\u001b[38;5;241m.\u001b[39mvstack([np\u001b[38;5;241m.\u001b[39mhstack([J_2x2[i,j] \u001b[38;5;241m*\u001b[39m blk(i,j) \u001b[38;5;28;01mfor\u001b[39;00m j \u001b[38;5;129;01min\u001b[39;00m \u001b[38;5;28mrange\u001b[39m(\u001b[38;5;241m2\u001b[39m)])\n\u001b[1;32m    462\u001b[0m                                                 \u001b[38;5;28;01mfor\u001b[39;00m i \u001b[38;5;129;01min\u001b[39;00m \u001b[38;5;28mrange\u001b[39m(\u001b[38;5;241m2\u001b[39m)])\n\u001b[1;32m    464\u001b[0m \u001b[38;5;28mself\u001b[39m\u001b[38;5;241m.\u001b[39mW \u001b[38;5;241m=\u001b[39m W\n\u001b[1;32m    465\u001b[0m \u001b[38;5;28mself\u001b[39m\u001b[38;5;241m.\u001b[39mL1normalize \u001b[38;5;241m=\u001b[39m L1normalize\n",
      "File \u001b[0;32m~/code/ssn-simulator/SSN_classes.py:461\u001b[0m, in \u001b[0;36m<listcomp>\u001b[0;34m(.0)\u001b[0m\n\u001b[1;32m    459\u001b[0m     normalize \u001b[38;5;241m=\u001b[39m \u001b[38;5;28;01mlambda\u001b[39;00m vec: vec        \n\u001b[1;32m    460\u001b[0m blk \u001b[38;5;241m=\u001b[39m \u001b[38;5;28;01mlambda\u001b[39;00m i, j: toeplitz(normalize(np\u001b[38;5;241m.\u001b[39mexp(\u001b[38;5;241m-\u001b[39mdistsq(\u001b[38;5;28mself\u001b[39m\u001b[38;5;241m.\u001b[39mori_vec_E)\u001b[38;5;241m/\u001b[39m\u001b[38;5;241m2\u001b[39m\u001b[38;5;241m/\u001b[39ms_2x2[i,j]\u001b[38;5;241m*\u001b[39m\u001b[38;5;241m*\u001b[39m\u001b[38;5;241m2\u001b[39m) \u001b[38;5;241m/\u001b[39m Ns[j]))\n\u001b[0;32m--> 461\u001b[0m W \u001b[38;5;241m=\u001b[39m np\u001b[38;5;241m.\u001b[39mvstack([np\u001b[38;5;241m.\u001b[39mhstack([J_2x2[i,j] \u001b[38;5;241m*\u001b[39m \u001b[43mblk\u001b[49m\u001b[43m(\u001b[49m\u001b[43mi\u001b[49m\u001b[43m,\u001b[49m\u001b[43mj\u001b[49m\u001b[43m)\u001b[49m \u001b[38;5;28;01mfor\u001b[39;00m j \u001b[38;5;129;01min\u001b[39;00m \u001b[38;5;28mrange\u001b[39m(\u001b[38;5;241m2\u001b[39m)])\n\u001b[1;32m    462\u001b[0m                                                 \u001b[38;5;28;01mfor\u001b[39;00m i \u001b[38;5;129;01min\u001b[39;00m \u001b[38;5;28mrange\u001b[39m(\u001b[38;5;241m2\u001b[39m)])\n\u001b[1;32m    464\u001b[0m \u001b[38;5;28mself\u001b[39m\u001b[38;5;241m.\u001b[39mW \u001b[38;5;241m=\u001b[39m W\n\u001b[1;32m    465\u001b[0m \u001b[38;5;28mself\u001b[39m\u001b[38;5;241m.\u001b[39mL1normalize \u001b[38;5;241m=\u001b[39m L1normalize\n",
      "File \u001b[0;32m~/code/ssn-simulator/SSN_classes.py:460\u001b[0m, in \u001b[0;36mSSNHomogRing.make_W.<locals>.<lambda>\u001b[0;34m(i, j)\u001b[0m\n\u001b[1;32m    458\u001b[0m \u001b[38;5;28;01melse\u001b[39;00m:\n\u001b[1;32m    459\u001b[0m     normalize \u001b[38;5;241m=\u001b[39m \u001b[38;5;28;01mlambda\u001b[39;00m vec: vec        \n\u001b[0;32m--> 460\u001b[0m blk \u001b[38;5;241m=\u001b[39m \u001b[38;5;28;01mlambda\u001b[39;00m i, j: toeplitz(normalize(np\u001b[38;5;241m.\u001b[39mexp(\u001b[38;5;241m-\u001b[39mdistsq(\u001b[38;5;28;43mself\u001b[39;49m\u001b[38;5;241;43m.\u001b[39;49m\u001b[43mori_vec_E\u001b[49m)\u001b[38;5;241m/\u001b[39m\u001b[38;5;241m2\u001b[39m\u001b[38;5;241m/\u001b[39ms_2x2[i,j]\u001b[38;5;241m*\u001b[39m\u001b[38;5;241m*\u001b[39m\u001b[38;5;241m2\u001b[39m) \u001b[38;5;241m/\u001b[39m Ns[j]))\n\u001b[1;32m    461\u001b[0m W \u001b[38;5;241m=\u001b[39m np\u001b[38;5;241m.\u001b[39mvstack([np\u001b[38;5;241m.\u001b[39mhstack([J_2x2[i,j] \u001b[38;5;241m*\u001b[39m blk(i,j) \u001b[38;5;28;01mfor\u001b[39;00m j \u001b[38;5;129;01min\u001b[39;00m \u001b[38;5;28mrange\u001b[39m(\u001b[38;5;241m2\u001b[39m)])\n\u001b[1;32m    462\u001b[0m                                                 \u001b[38;5;28;01mfor\u001b[39;00m i \u001b[38;5;129;01min\u001b[39;00m \u001b[38;5;28mrange\u001b[39m(\u001b[38;5;241m2\u001b[39m)])\n\u001b[1;32m    464\u001b[0m \u001b[38;5;28mself\u001b[39m\u001b[38;5;241m.\u001b[39mW \u001b[38;5;241m=\u001b[39m W\n",
      "File \u001b[0;32m~/code/ssn-simulator/SSN_classes.py:430\u001b[0m, in \u001b[0;36mSSNHomogRing.ori_vec_E\u001b[0;34m(self)\u001b[0m\n\u001b[1;32m    428\u001b[0m \u001b[38;5;129m@property\u001b[39m\n\u001b[1;32m    429\u001b[0m \u001b[38;5;28;01mdef\u001b[39;00m \u001b[38;5;21mori_vec_E\u001b[39m(\u001b[38;5;28mself\u001b[39m):\n\u001b[0;32m--> 430\u001b[0m     \u001b[38;5;28;01mreturn\u001b[39;00m \u001b[38;5;28;43mself\u001b[39;49m\u001b[38;5;241;43m.\u001b[39;49m\u001b[43mori_vec\u001b[49m\u001b[43m[\u001b[49m\u001b[38;5;28;43mself\u001b[39;49m\u001b[38;5;241;43m.\u001b[39;49m\u001b[43mEI\u001b[49m\u001b[43m \u001b[49m\u001b[38;5;241;43m==\u001b[39;49m\u001b[43m \u001b[49m\u001b[38;5;124;43mb\u001b[39;49m\u001b[38;5;124;43m\"\u001b[39;49m\u001b[38;5;124;43mE\u001b[39;49m\u001b[38;5;124;43m\"\u001b[39;49m\u001b[43m]\u001b[49m\n",
      "File \u001b[0;32m~/code/env/lib/python3.8/site-packages/jax/_src/numpy/lax_numpy.py:3670\u001b[0m, in \u001b[0;36m_rewriting_take\u001b[0;34m(arr, idx, indices_are_sorted, unique_indices, mode, fill_value)\u001b[0m\n\u001b[1;32m   3664\u001b[0m     \u001b[38;5;28;01mif\u001b[39;00m (\u001b[38;5;28misinstance\u001b[39m(aval, core\u001b[38;5;241m.\u001b[39mDShapedArray) \u001b[38;5;129;01mand\u001b[39;00m aval\u001b[38;5;241m.\u001b[39mshape \u001b[38;5;241m==\u001b[39m () \u001b[38;5;129;01mand\u001b[39;00m\n\u001b[1;32m   3665\u001b[0m         dtypes\u001b[38;5;241m.\u001b[39missubdtype(aval\u001b[38;5;241m.\u001b[39mdtype, np\u001b[38;5;241m.\u001b[39minteger) \u001b[38;5;129;01mand\u001b[39;00m\n\u001b[1;32m   3666\u001b[0m         \u001b[38;5;129;01mnot\u001b[39;00m dtypes\u001b[38;5;241m.\u001b[39missubdtype(aval\u001b[38;5;241m.\u001b[39mdtype, dtypes\u001b[38;5;241m.\u001b[39mbool_) \u001b[38;5;129;01mand\u001b[39;00m\n\u001b[1;32m   3667\u001b[0m         \u001b[38;5;28misinstance\u001b[39m(arr\u001b[38;5;241m.\u001b[39mshape[\u001b[38;5;241m0\u001b[39m], \u001b[38;5;28mint\u001b[39m)):\n\u001b[1;32m   3668\u001b[0m       \u001b[38;5;28;01mreturn\u001b[39;00m lax\u001b[38;5;241m.\u001b[39mdynamic_index_in_dim(arr, idx, keepdims\u001b[38;5;241m=\u001b[39m\u001b[38;5;28;01mFalse\u001b[39;00m)\n\u001b[0;32m-> 3670\u001b[0m treedef, static_idx, dynamic_idx \u001b[38;5;241m=\u001b[39m \u001b[43m_split_index_for_jit\u001b[49m\u001b[43m(\u001b[49m\u001b[43midx\u001b[49m\u001b[43m,\u001b[49m\u001b[43m \u001b[49m\u001b[43marr\u001b[49m\u001b[38;5;241;43m.\u001b[39;49m\u001b[43mshape\u001b[49m\u001b[43m)\u001b[49m\n\u001b[1;32m   3671\u001b[0m \u001b[38;5;28;01mreturn\u001b[39;00m _gather(arr, treedef, static_idx, dynamic_idx, indices_are_sorted,\n\u001b[1;32m   3672\u001b[0m                unique_indices, mode, fill_value)\n",
      "File \u001b[0;32m~/code/env/lib/python3.8/site-packages/jax/_src/numpy/lax_numpy.py:3749\u001b[0m, in \u001b[0;36m_split_index_for_jit\u001b[0;34m(idx, shape)\u001b[0m\n\u001b[1;32m   3745\u001b[0m idx \u001b[38;5;241m=\u001b[39m _eliminate_deprecated_list_indexing(idx)\n\u001b[1;32m   3747\u001b[0m \u001b[38;5;66;03m# Expand any (concrete) boolean indices. We can then use advanced integer\u001b[39;00m\n\u001b[1;32m   3748\u001b[0m \u001b[38;5;66;03m# indexing logic to handle them.\u001b[39;00m\n\u001b[0;32m-> 3749\u001b[0m idx \u001b[38;5;241m=\u001b[39m \u001b[43m_expand_bool_indices\u001b[49m\u001b[43m(\u001b[49m\u001b[43midx\u001b[49m\u001b[43m,\u001b[49m\u001b[43m \u001b[49m\u001b[43mshape\u001b[49m\u001b[43m)\u001b[49m\n\u001b[1;32m   3751\u001b[0m leaves, treedef \u001b[38;5;241m=\u001b[39m tree_flatten(idx)\n\u001b[1;32m   3752\u001b[0m dynamic \u001b[38;5;241m=\u001b[39m [\u001b[38;5;28;01mNone\u001b[39;00m] \u001b[38;5;241m*\u001b[39m \u001b[38;5;28mlen\u001b[39m(leaves)\n",
      "File \u001b[0;32m~/code/env/lib/python3.8/site-packages/jax/_src/numpy/lax_numpy.py:4064\u001b[0m, in \u001b[0;36m_expand_bool_indices\u001b[0;34m(idx, shape)\u001b[0m\n\u001b[1;32m   4062\u001b[0m   \u001b[38;5;28;01mraise\u001b[39;00m errors\u001b[38;5;241m.\u001b[39mNonConcreteBooleanIndexError(abstract_i)\n\u001b[1;32m   4063\u001b[0m \u001b[38;5;28;01melif\u001b[39;00m _ndim(i) \u001b[38;5;241m==\u001b[39m \u001b[38;5;241m0\u001b[39m:\n\u001b[0;32m-> 4064\u001b[0m   \u001b[38;5;28;01mraise\u001b[39;00m \u001b[38;5;167;01mTypeError\u001b[39;00m(\u001b[38;5;124m\"\u001b[39m\u001b[38;5;124mJAX arrays do not support boolean scalar indices\u001b[39m\u001b[38;5;124m\"\u001b[39m)\n\u001b[1;32m   4065\u001b[0m \u001b[38;5;28;01melse\u001b[39;00m:\n\u001b[1;32m   4066\u001b[0m   i_shape \u001b[38;5;241m=\u001b[39m _shape(i)\n",
      "\u001b[0;31mTypeError\u001b[0m: JAX arrays do not support boolean scalar indices"
     ]
    }
   ],
   "source": [
    "# all parameters below are those used in Fig 1 and Fig2A of Ahmadian et al. 2013\n",
    "\n",
    "M = 52  # number of neurons in E or I populations (2013 paper had M = 180, but lower (but not too low) is also fine, and wouldn't really affect anything)\n",
    "L = 180  # length of the ring (180 degrees)\n",
    "\n",
    "sig_rec = 32 # in degrees, orientation tuning width of recurrent connections\n",
    "J_2x2 = np.array([[2.5, -1.3],[2.4, -1.0]]) * np.pi \n",
    "s_2x2 = np.ones((2,2)) * sig_rec\n",
    "\n",
    "# make SSN object\n",
    "ssn = SSN_classes.SSNHomogRing(n=2, k=0.04, tauE=20, tauI=10, \n",
    "                    J_2x2=J_2x2, s_2x2=s_2x2, Ne=M, L=L)\n",
    "\n",
    "# make external input vector\n",
    "sig_ffw = 30 # in degres, tuning width of external input \n",
    "thet1, thet2 = 45, 135 # orientations of the two gratings\n",
    "\n",
    "g = ssn.make_grating_input(ori_s=thet1, sig_EF=sig_ffw, gE=1, gI=1)\n",
    "\n",
    "c = 20 # contrast\n",
    "h = c * g\n",
    "\n",
    "# find fixed point\n",
    "r1, convg1 = ssn.fixed_point_r(h, verbose=False)"
   ]
  },
  {
   "cell_type": "code",
   "execution_count": null,
   "id": "2481b9a1",
   "metadata": {},
   "outputs": [],
   "source": [
    "r1"
   ]
  },
  {
   "cell_type": "code",
   "execution_count": null,
   "id": "5e76bd2a",
   "metadata": {},
   "outputs": [],
   "source": []
  }
 ],
 "metadata": {
  "@webio": {
   "lastCommId": null,
   "lastKernelId": null
  },
  "kernelspec": {
   "display_name": "Python 3 (ipykernel)",
   "language": "python",
   "name": "python3"
  },
  "language_info": {
   "codemirror_mode": {
    "name": "ipython",
    "version": 3
   },
   "file_extension": ".py",
   "mimetype": "text/x-python",
   "name": "python",
   "nbconvert_exporter": "python",
   "pygments_lexer": "ipython3",
   "version": "3.8.10"
  }
 },
 "nbformat": 4,
 "nbformat_minor": 5
}
