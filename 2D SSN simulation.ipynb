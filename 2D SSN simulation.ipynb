{
 "cells": [
  {
   "cell_type": "markdown",
   "id": "26134402",
   "metadata": {},
   "source": [
    "## 2D SSN simulation ~  JAX IMPLEMENTATION"
   ]
  },
  {
   "cell_type": "markdown",
   "id": "54e06adf",
   "metadata": {},
   "source": [
    "Changes required by JAX:\n",
    "- jax.random vs numpy.random\n",
    "- introduction of key variables to operate in random **\n",
    "- np.chararray substituted -> created separate boolean array after locating indices in a list because jax doesnt support character arrays"
   ]
  },
  {
   "cell_type": "code",
   "execution_count": null,
   "id": "a4bb989c",
   "metadata": {},
   "outputs": [],
   "source": [
    "#import numpy as np\n",
    "import jax.numpy as np\n",
    "from jax import jit\n",
    "import matplotlib.pyplot as plt\n",
    "import time, os, json\n",
    "import pandas as pd\n",
    "from scipy import stats \n",
    "from tqdm import tqdm\n",
    "import seaborn as sns\n",
    "from jax import random\n",
    "\n",
    "from SSN_classes_jax import SSN2DTopoV1_AMPAGABA\n",
    "from util import GaborFilter, BW_Grating, find_A"
   ]
  },
  {
   "cell_type": "markdown",
   "id": "873aa5cb",
   "metadata": {},
   "source": [
    "## Parameters for network initialisation"
   ]
  },
  {
   "cell_type": "markdown",
   "id": "6d1d25ea",
   "metadata": {},
   "source": [
    "Resolution of SSN grid: 2.8125 pixels / degree"
   ]
  },
  {
   "cell_type": "code",
   "execution_count": 2,
   "id": "905a1aad",
   "metadata": {},
   "outputs": [
    {
     "name": "stderr",
     "output_type": "stream",
     "text": [
      "WARNING:absl:No GPU/TPU found, falling back to CPU. (Set TF_CPP_MIN_LOG_LEVEL=0 and rerun for more info.)\n"
     ]
    }
   ],
   "source": [
    "class ssn_pars():\n",
    "    n = 2\n",
    "    k = 0.04\n",
    "    tauE = 30 # in ms\n",
    "    tauI = 10 # in ms\n",
    "    psi = 0.774\n",
    "    tau_s = np.array([5, 7, 100]) #in ms, AMPA, GABA, NMDA current decay time constants\n",
    "    make_J2x2 = lambda Jee, Jei, Jie, Jii: np.array([[Jee, -Jei], [Jie,  -Jii]]) * np.pi * ssn_pars.psi\n",
    "\n",
    "\n",
    "# with mm_scale=1, The following match \"fixed_params\" of  'Fig4_data-retinoHists-samples1000_TauCorr5_2020-04-11.json'\n",
    "class grid_pars():\n",
    "    gridsize_Nx = 8 + 1 # grid-points across each edge # gives rise to dx = 0.8 mm\n",
    "    gridsize_deg = 2 * 1.6 # edge length in degrees\n",
    "    magnif_factor = 2  # mm/deg\n",
    "    hyper_col = 0.8 # mm   \n",
    "    sigma_RF = 0.4 # deg (visual angle)\n",
    "\n",
    "# Caleb's params for the full (with local) model:\n",
    "Js0 = [1.82650658, 0.68194475, 2.06815311, 0.5106321]\n",
    "gE, gI = 0.57328625, 0.26144141\n",
    "sigEE, sigIE = 0.2, 0.40\n",
    "sigEI, sigII = .09, .09\n",
    "conn_pars = dict(\n",
    "    PERIODIC = False,\n",
    "    J_2x2 = ssn_pars.make_J2x2(*Js0),\n",
    "    s_2x2 = np.array([[sigEE, sigEI],[sigIE, sigII]]), # in mm\n",
    "    p_local = [.4, 0.7], # [p_local_EE, p_local_IE],\n",
    "    sigma_oris = 1000) # sigma_oris\n",
    "\n",
    "conn_pars['J_2x2'] = ssn_pars.make_J2x2(*Js0)\n",
    "\n",
    "#calculate SSN resolution\n",
    "SSN_reso = grid_pars.gridsize_Nx/grid_pars.gridsize_deg #pixels per degree"
   ]
  },
  {
   "cell_type": "markdown",
   "id": "e8a4657c",
   "metadata": {},
   "source": [
    "## Initialise network"
   ]
  },
  {
   "cell_type": "code",
   "execution_count": 6,
   "id": "eb5a4be3",
   "metadata": {},
   "outputs": [],
   "source": [
    "#Create network\n",
    "\n",
    "## SPECIFY 'on_off' PARAMETER TO DOUBLE NUMBER OF NEURONS AT PI PHASE\n",
    "ssn = SSN2DTopoV1_AMPAGABA(ssn_pars.n, ssn_pars.k, ssn_pars.tauE,\n",
    "              ssn_pars.tauI, grid_pars, on_off=True, conn_pars=conn_pars,  tau_s=ssn_pars.tau_s)"
   ]
  },
  {
   "cell_type": "code",
   "execution_count": 7,
   "id": "2ef6459b",
   "metadata": {},
   "outputs": [
    {
     "data": {
      "text/plain": [
       "(324, 324)"
      ]
     },
     "execution_count": 7,
     "metadata": {},
     "output_type": "execute_result"
    }
   ],
   "source": [
    "ssn.W.shape"
   ]
  },
  {
   "cell_type": "markdown",
   "id": "fd852c21",
   "metadata": {},
   "source": [
    "## Gabor function implementation"
   ]
  },
  {
   "cell_type": "markdown",
   "id": "ff54f7b3",
   "metadata": {},
   "source": [
    "Parameters for Gabor filters"
   ]
  },
  {
   "cell_type": "code",
   "execution_count": 10,
   "id": "86b9fef7",
   "metadata": {},
   "outputs": [],
   "source": [
    "#Parameters for Gabor filters\n",
    "edge_length=3.2  #image edge length in degrees\n",
    "dx_i =1/2.8125 #image pixel resolution in degrees (degrees/pixel)\n",
    "N_pixels=int(edge_length*2/dx_i) +1  # can also specify these directly\n",
    "\n",
    "#Reproduce image axis in degrees\n",
    "x_axis=np.linspace(-edge_length,edge_length, N_pixels, endpoint=True)  \n",
    "y_axis=np.linspace(-edge_length,edge_length, N_pixels, endpoint=True)\n",
    "\n",
    "#Sigma_g= edge_length/8 #degree #0.5 - 1degree\n",
    "sigma_g= 0.5\n",
    "k= np.pi/(6*sigma_g) #cycles per degree"
   ]
  },
  {
   "cell_type": "markdown",
   "id": "de7ee6ea",
   "metadata": {},
   "source": [
    "Iterate over neurons in SSN map"
   ]
  },
  {
   "cell_type": "code",
   "execution_count": 11,
   "id": "1f2921d8",
   "metadata": {},
   "outputs": [],
   "source": [
    "#Create empty arrays\n",
    "all_gabors=[] #array of Gabor classes\n",
    "e_filters=[] #array of filters\n",
    "\n",
    "#Iterate over SSN map\n",
    "for i in range(ssn.ori_map.shape[0]):\n",
    "    for j in range(ssn.ori_map.shape[1]):\n",
    "        gabor=GaborFilter(x_i=ssn.x_map[i,j], y_i=ssn.y_map[i,j], k=k, sigma_g=sigma_g, theta=ssn.ori_map[i,j], conv_factor=grid_pars.magnif_factor, x_axis=x_axis, y_axis=y_axis, dx=dx_i, dy=dx_i)\n",
    "        \n",
    "        e_filters.append(gabor.filter.ravel())\n",
    "e_filters=np.array(e_filters)"
   ]
  },
  {
   "cell_type": "code",
   "execution_count": 12,
   "id": "69e10b44",
   "metadata": {},
   "outputs": [
    {
     "data": {
      "text/plain": [
       "<matplotlib.image.AxesImage at 0x7f081c1532b0>"
      ]
     },
     "execution_count": 12,
     "metadata": {},
     "output_type": "execute_result"
    },
    {
     "data": {
      "image/png": "[encoded data removed]",
      "text/plain": [
       "<Figure size 640x480 with 1 Axes>"
      ]
     },
     "metadata": {},
     "output_type": "display_data"
    }
   ],
   "source": [
    "#Plot example filter\n",
    "plt.imshow(e_filters[0].reshape(N_pixels, N_pixels), cmap='Greys')"
   ]
  },
  {
   "cell_type": "markdown",
   "id": "f43a5d89",
   "metadata": {},
   "source": [
    "Create inhibitory Gabor filters"
   ]
  },
  {
   "cell_type": "code",
   "execution_count": 13,
   "id": "fd555cfe",
   "metadata": {},
   "outputs": [],
   "source": [
    "i_constant= 1\n",
    "i_filters=np.multiply(i_constant, e_filters)\n",
    "all_filters=np.vstack([e_filters, i_filters]) #shape - (n_neurons, n_pixels in image(n_pixels_x_axis*n_pixels_y_axis))"
   ]
  },
  {
   "cell_type": "markdown",
   "id": "96f9e647",
   "metadata": {},
   "source": [
    "## Jia stimuli"
   ]
  },
  {
   "cell_type": "markdown",
   "id": "bfdb7564",
   "metadata": {},
   "source": [
    "Import stimuli. Parameters to specify:\n",
    "- orientation -  in degrees from vertical (anti clockwise) - HAD TO ROTATE CREATION OF GABOR FILTERS!\n",
    "- size - in pixels 227*227\n",
    "- outer radius + inner radius\n",
    "- pixels per degree\n",
    "- grating contrast - up to 1 (*100 in SSN code)\n",
    "- snr - 0<= snr <= 1\n",
    "- phase - in degrees\n",
    "- spatial frequency - in 1/pixels (need to multiply k* dx_i - dx_i in degrees/pixel)"
   ]
  },
  {
   "cell_type": "code",
   "execution_count": 14,
   "id": "89d8851e",
   "metadata": {},
   "outputs": [
    {
     "data": {
      "text/plain": [
       "19"
      ]
     },
     "execution_count": 14,
     "metadata": {},
     "output_type": "execute_result"
    }
   ],
   "source": [
    "#Stimulus parameters\n",
    "ori_deg=90\n",
    "edge_deg=3.2\n",
    "phase = 0 #uses random\n",
    "outer_radius = 3\n",
    "inner_radius = 2.5\n",
    "pixel_per_degree=2.8125 #19.19\n",
    "grating_contrast = 0.99\n",
    "\n",
    "size=int(edge_deg*2 *pixel_per_degree) + 1\n",
    "size"
   ]
  },
  {
   "cell_type": "code",
   "execution_count": 15,
   "id": "98141bb8",
   "metadata": {},
   "outputs": [],
   "source": [
    "test_grating=BW_Grating(ori_deg=ori_deg, size=size, outer_radius=outer_radius, inner_radius=inner_radius, pixel_per_degree=pixel_per_degree, grating_contrast=grating_contrast, snr=1, phase=phase, spatial_frequency=k*dx_i)\n",
    "test_stimuli=test_grating.BW_image()#shape - (n_pixels in image(n_pixels_x_axis*n_pixels_y_axis, 1)"
   ]
  },
  {
   "cell_type": "code",
   "execution_count": 16,
   "id": "5db1e1c4",
   "metadata": {},
   "outputs": [
    {
     "data": {
      "text/plain": [
       "<matplotlib.image.AxesImage at 0x7f081c13af70>"
      ]
     },
     "execution_count": 16,
     "metadata": {},
     "output_type": "execute_result"
    },
    {
     "data": {
      "image/png": "[encoded data removed]",
      "text/plain": [
       "<Figure size 640x480 with 1 Axes>"
      ]
     },
     "metadata": {},
     "output_type": "display_data"
    }
   ],
   "source": [
    "plt.imshow(test_stimuli, cmap='Greys')"
   ]
  },
  {
   "cell_type": "markdown",
   "id": "9006182c",
   "metadata": {},
   "source": [
    "### Apply filters to stimulus"
   ]
  },
  {
   "cell_type": "markdown",
   "id": "178eca71",
   "metadata": {},
   "source": [
    "Multiply flattened filters by flattened image"
   ]
  },
  {
   "cell_type": "code",
   "execution_count": null,
   "id": "929e6dc8",
   "metadata": {},
   "outputs": [],
   "source": [
    "#multiply filters my image\n",
    "output_gabor=np.matmul(all_filters, test_stimuli.ravel())*A \n",
    "\n",
    "#check maximum response is obtained at orientation of stimulus\n",
    "ssn.ori_map.ravel()[np.argmax(output_gabor)]"
   ]
  },
  {
   "cell_type": "markdown",
   "id": "b37be0d6",
   "metadata": {},
   "source": [
    "### --->Finding average value of constant A over different Gabor filters"
   ]
  },
  {
   "cell_type": "markdown",
   "id": "a99599f0",
   "metadata": {},
   "source": [
    "1. Select list of indices "
   ]
  },
  {
   "cell_type": "code",
   "execution_count": 17,
   "id": "39284879",
   "metadata": {},
   "outputs": [],
   "source": [
    "#OPTION 1 - choose random values for the orientation \n",
    "key = random.PRNGKey(90)\n",
    "random_nums=random.choice(key, a=ssn.ori_map)\n",
    "#indices=random_nums\n",
    "\n",
    "#OPTION 2 - select angles in spread out range - selects every given number of angles\n",
    "indices=np.sort(ssn.ori_map.ravel())"
   ]
  },
  {
   "cell_type": "markdown",
   "id": "701d3a80",
   "metadata": {},
   "source": [
    "2. Run loop for different orientations - must centre Gabors at 0"
   ]
  },
  {
   "cell_type": "code",
   "execution_count": 18,
   "id": "5733a37a",
   "metadata": {},
   "outputs": [
    {
     "name": "stdout",
     "output_type": "stream",
     "text": [
      "Average A is 0.04553933353469378\n"
     ]
    }
   ],
   "source": [
    "#parameters for Gabor filters\n",
    "gabor_pars = dict(k=k, sigma_g=sigma_g, conv_factor=grid_pars.magnif_factor, \n",
    "                  x_axis=x_axis, y_axis=y_axis, dx=dx_i, dy=dx_i )\n",
    "\n",
    "\n",
    "#parameters for stimuli\n",
    "stimuli_pars = dict(size=N_pixels, outer_radius=10, inner_radius=10,\n",
    "                    pixel_per_degree=1/dx_i, grating_contrast=0.9, snr=1, phase=0, spatial_frequency=k*dx_i)\n",
    "\n",
    "\n",
    "\n",
    "A, all_gabors, all_test_stimuli = find_A(gabor_pars, stimuli_pars, indices, return_all=True)"
   ]
  },
  {
   "cell_type": "code",
   "execution_count": null,
   "id": "b528c2b9",
   "metadata": {},
   "outputs": [],
   "source": [
    "#check average value \n",
    "output_test=0\n",
    "for i in range (len(all_gabors)):\n",
    "    output_test+=np.matmul(all_gabors[i].ravel(), all_test_stimuli[i].ravel())*A\n",
    "print(output_test/len(all_gabors))"
   ]
  },
  {
   "cell_type": "markdown",
   "id": "be7edbba",
   "metadata": {},
   "source": [
    "## Extend filters to pi phase"
   ]
  },
  {
   "cell_type": "code",
   "execution_count": 19,
   "id": "b4a344cb",
   "metadata": {},
   "outputs": [],
   "source": [
    "#create filters with phase equal to pi\n",
    "off_all_filters=all_filters*(-1)\n",
    "SSN_filters=np.vstack([all_filters, off_all_filters])\n",
    "\n",
    "#find response to the stimulus of filters with phase pi\n",
    "output_gabor_off=np.matmul(SSN_filters, test_stimuli.ravel())*A\n",
    "\n",
    "#Rectigy input\n",
    "SSN_input=np.maximum(0, output_gabor_off)"
   ]
  },
  {
   "cell_type": "markdown",
   "id": "5453bdd7",
   "metadata": {},
   "source": [
    "## Input to network"
   ]
  },
  {
   "cell_type": "code",
   "execution_count": 23,
   "id": "81b0514e",
   "metadata": {},
   "outputs": [
    {
     "name": "stdout",
     "output_type": "stream",
     "text": [
      "\n",
      " Warning 1: reached Tmax=200, before convergence to fixed point.\n",
      "       max(abs(dx./max(abs(xvec), 1.0))) = 0.0009526073699817061,   xtol=1e-05.\n",
      "\n",
      "Did not reach fixed point.\n"
     ]
    }
   ],
   "source": [
    "#Convergence parameters\n",
    "dt = 1\n",
    "xtol = 1e-5\n",
    "Tmax = 200\n",
    "\n",
    "#Find fixed point using input\n",
    "r_init = np.zeros(SSN_input.shape[0])\n",
    "r_fps, CONVG = ssn.fixed_point_r(SSN_input, r_init=r_init, Tmax=Tmax, dt=dt, xtol=xtol)"
   ]
  }
 ],
 "metadata": {
  "kernelspec": {
   "display_name": "Python 3 (ipykernel)",
   "language": "python",
   "name": "python3"
  },
  "language_info": {
   "codemirror_mode": {
    "name": "ipython",
    "version": 3
   },
   "file_extension": ".py",
   "mimetype": "text/x-python",
   "name": "python",
   "nbconvert_exporter": "python",
   "pygments_lexer": "ipython3",
   "version": "3.8.10"
  }
 },
 "nbformat": 4,
 "nbformat_minor": 5
}
