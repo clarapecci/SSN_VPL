{
 "cells": [
  {
   "cell_type": "markdown",
   "id": "26134402",
   "metadata": {},
   "source": [
    "## 2D SSN simulation ~  JAX IMPLEMENTATION"
   ]
  },
  {
   "cell_type": "markdown",
   "id": "54e06adf",
   "metadata": {},
   "source": [
    "Changes required by JAX:\n",
    "- jax.random vs numpy.random\n",
    "- introduction of key variables to operate in random **\n",
    "- np.chararray substituted -> created separate boolean array after locating indices in a list because jax doesnt support character arrays"
   ]
  },
  {
   "cell_type": "code",
   "execution_count": null,
   "id": "a4bb989c",
   "metadata": {},
   "outputs": [],
   "source": [
    "#import numpy as np\n",
    "import jax.numpy as np\n",
    "from jax import jit\n",
    "import matplotlib.pyplot as plt\n",
    "from scipy.linalg import circulant, toeplitz\n",
    "import time, os, json\n",
    "import pandas as pd\n",
    "from scipy import stats \n",
    "from tqdm import tqdm\n",
    "import seaborn as sns\n",
    "from jax import random\n",
    "\n",
    "from SSN_classes_jax import SSN2DTopoV1_AMPAGABA\n",
    "\n",
    "from util import GaborFilter, BW_Grating"
   ]
  },
  {
   "cell_type": "markdown",
   "id": "873aa5cb",
   "metadata": {},
   "source": [
    "## Parameters for network initialisation"
   ]
  },
  {
   "cell_type": "code",
   "execution_count": 2,
   "id": "905a1aad",
   "metadata": {},
   "outputs": [
    {
     "name": "stderr",
     "output_type": "stream",
     "text": [
      "WARNING:absl:No GPU/TPU found, falling back to CPU. (Set TF_CPP_MIN_LOG_LEVEL=0 and rerun for more info.)\n"
     ]
    }
   ],
   "source": [
    "class ssn_pars():\n",
    "    n = 2\n",
    "    k = 0.04\n",
    "    tauE = 30 # in ms\n",
    "    tauI = 10 # in ms\n",
    "    psi = 0.774\n",
    "    tau_s = np.array([5, 7, 100]) #in ms, AMPA, GABA, NMDA current decay time constants\n",
    "    make_J2x2 = lambda Jee, Jei, Jie, Jii: np.array([[Jee, -Jei], [Jie,  -Jii]]) * np.pi * ssn_pars.psi\n",
    "\n",
    "# with mm_scale=1, The following match \"fixed_params\" of  'Fig4_data-retinoHists-samples1000_TauCorr5_2020-04-11.json'\n",
    "class grid_pars():\n",
    "    gridsize_Nx = 8 + 1 # grid-points across each edge # gives rise to dx = 0.8 mm\n",
    "    gridsize_deg = 2 * 1.6 # edge length in degrees\n",
    "    magnif_factor = 2  # mm/deg\n",
    "    hyper_col = 0.8 # mm   \n",
    "    sigma_RF = 0.4 # deg (visual angle)\n",
    "\n",
    "# Caleb's params for the full (with local) model:\n",
    "Js0 = [1.82650658, 0.68194475, 2.06815311, 0.5106321]\n",
    "gE, gI = 0.57328625, 0.26144141\n",
    "sigEE, sigIE = 0.2, 0.40\n",
    "sigEI, sigII = .09, .09\n",
    "conn_pars = dict(\n",
    "    PERIODIC = False,\n",
    "    J_2x2 = ssn_pars.make_J2x2(*Js0),\n",
    "    s_2x2 = np.array([[sigEE, sigEI],[sigIE, sigII]]), # in mm\n",
    "    p_local = [.4, 0.7], # [p_local_EE, p_local_IE],\n",
    "    sigma_oris = 1000)  # sigma_oris\n",
    "conn_pars['J_2x2'] = ssn_pars.make_J2x2(*Js0)"
   ]
  },
  {
   "cell_type": "markdown",
   "id": "e8a4657c",
   "metadata": {},
   "source": [
    "## Initialise network"
   ]
  },
  {
   "cell_type": "code",
   "execution_count": 3,
   "id": "eb5a4be3",
   "metadata": {},
   "outputs": [],
   "source": [
    "#Create network\n",
    "ssn = SSN2DTopoV1_AMPAGABA(ssn_pars.n, ssn_pars.k, ssn_pars.tauE,\n",
    "              ssn_pars.tauI, grid_pars, conn_pars=conn_pars, tau_s=ssn_pars.tau_s)"
   ]
  },
  {
   "cell_type": "markdown",
   "id": "121d9e18",
   "metadata": {},
   "source": [
    "## Try finding fixed point with input"
   ]
  },
  {
   "cell_type": "markdown",
   "id": "3f3cfa1e",
   "metadata": {},
   "source": [
    "Input parameters - actual inp not valid (remove add noise "
   ]
  },
  {
   "cell_type": "code",
   "execution_count": 4,
   "id": "d8e86384",
   "metadata": {},
   "outputs": [],
   "source": [
    "I2Eexcit = 0;\n",
    "spont_input = np.array([1,1]) * 3\n",
    "\n",
    "contrast = 50\n",
    "grid_pars.sig_ori_EF = 32 # deg (ori)\n",
    "\n",
    "lcorr_noise_grid = 2.6\n",
    "rel_sigma_noise = 0.2\n",
    "sigma_noise = .2 # rel_sigma_noise * contrast\n",
    "I2E_noise = 2\n",
    "\n",
    "dt = 1\n",
    "xtol = 1e-5\n",
    "Tmax = 200"
   ]
  },
  {
   "cell_type": "code",
   "execution_count": 5,
   "id": "cba26e3a",
   "metadata": {},
   "outputs": [
    {
     "name": "stdout",
     "output_type": "stream",
     "text": [
      "\n",
      " Warning 1: reached Tmax=200, before convergence to fixed point.\n",
      "       max(abs(dx./max(abs(xvec), 1.0))) = 0.0006192816072143614,   xtol=1e-05.\n",
      "\n",
      "Did not reach fixed point.\n"
     ]
    }
   ],
   "source": [
    "ssn = SSN2DTopoV1_AMPAGABA(ssn_pars.n, ssn_pars.k, ssn_pars.tauE,\n",
    "              ssn_pars.tauI, grid_pars, conn_pars=conn_pars, tau_s=ssn_pars.tau_s)\n",
    "\n",
    "inp0 = contrast * ssn.make_grating_input(radius_s=grid_pars.gridsize_deg * 5, sigma_RF=grid_pars.sigma_RF,\n",
    "                                sig_ori_EF=grid_pars.sig_ori_EF, gE=gE, gI=gI)\n",
    "\n",
    "r_init = np.zeros(inp0.shape)\n",
    "\n",
    "inp = inp0 + np.kron(spont_input +   np.array([1,I2Eexcit]), np.ones(ssn.Ne))\n",
    "\n",
    "r_fps, CONVG = ssn.fixed_point_r(inp, r_init=r_init, Tmax=Tmax, dt=dt, xtol=xtol)"
   ]
  },
  {
   "cell_type": "code",
   "execution_count": 6,
   "id": "3b9f6a3d",
   "metadata": {},
   "outputs": [
    {
     "ename": "NameError",
     "evalue": "name 'output_gabor' is not defined",
     "output_type": "error",
     "traceback": [
      "\u001b[0;31m---------------------------------------------------------------------------\u001b[0m",
      "\u001b[0;31mNameError\u001b[0m                                 Traceback (most recent call last)",
      "Cell \u001b[0;32mIn [6], line 3\u001b[0m\n\u001b[1;32m      1\u001b[0m \u001b[38;5;66;03m#Test whether output of input layer can go into SSN\u001b[39;00m\n\u001b[0;32m----> 3\u001b[0m r_fps, CONVG \u001b[38;5;241m=\u001b[39m ssn\u001b[38;5;241m.\u001b[39mfixed_point_r(output_gabor, r_init\u001b[38;5;241m=\u001b[39mr_init, Tmax\u001b[38;5;241m=\u001b[39mTmax, dt\u001b[38;5;241m=\u001b[39mdt, xtol\u001b[38;5;241m=\u001b[39mxtol)\n",
      "\u001b[0;31mNameError\u001b[0m: name 'output_gabor' is not defined"
     ]
    }
   ],
   "source": [
    "#Test whether output of input layer can go into SSN\n",
    "\n",
    "r_fps, CONVG = ssn.fixed_point_r(output_gabor, r_init=r_init, Tmax=Tmax, dt=dt, xtol=xtol)\n",
    "#r_fps2, CONVG2 = ssn.fixed_point_r(r_fps, r_init=r_init, Tmax=Tmax, dt=dt, xtol=xtol)"
   ]
  },
  {
   "cell_type": "markdown",
   "id": "fd852c21",
   "metadata": {},
   "source": [
    "## Gabor function implementation"
   ]
  },
  {
   "cell_type": "markdown",
   "id": "ff54f7b3",
   "metadata": {},
   "source": [
    "Parameters for Gabor filters"
   ]
  },
  {
   "cell_type": "code",
   "execution_count": 9,
   "id": "86b9fef7",
   "metadata": {},
   "outputs": [],
   "source": [
    "#parameters for Gabor filters\n",
    "edge_length=5.9  #image edge length in degrees\n",
    "dx_i =1/19.19  #image pixel resolution in degrees (degrees/pixel)\n",
    "N_pixels=int(edge_length*2/dx_i) +1 # can also specify these directly\n",
    "\n",
    "#reproduce image axis in degrees\n",
    "x_axis=np.linspace(-edge_length,edge_length, N_pixels, endpoint=True)  \n",
    "y_axis=np.linspace(-edge_length,edge_length, N_pixels, endpoint=True)\n",
    "\n",
    "#sigma_g= edge_length/8 #degree #0.5 - 1degree\n",
    "sigma_g= 0.5\n",
    "k= np.pi/(6*sigma_g) #cycles per degree"
   ]
  },
  {
   "cell_type": "markdown",
   "id": "de7ee6ea",
   "metadata": {},
   "source": [
    "Iterate over neurons in SSN map"
   ]
  },
  {
   "cell_type": "code",
   "execution_count": 10,
   "id": "1f2921d8",
   "metadata": {},
   "outputs": [],
   "source": [
    "#create empty arrays\n",
    "all_gabors=[] #array of Gabor classes\n",
    "e_filters=[] #array of filters\n",
    "\n",
    "#iterate over SSN map\n",
    "for i in range(ssn.ori_map.shape[0]):\n",
    "    for j in range(ssn.ori_map.shape[1]):\n",
    "        gabor=GaborFilter(x_i=ssn.x_map[i,j], y_i=ssn.y_map[i,j], k=k, sigma_g=sigma_g, theta=ssn.ori_map[i,j], conv_factor=grid_pars.magnif_factor, x_axis=x_axis, y_axis=y_axis, dx=dx_i, dy=dx_i)\n",
    "        \n",
    "        e_filters.append(gabor.filter.ravel())\n",
    "e_filters=np.array(e_filters)"
   ]
  },
  {
   "cell_type": "code",
   "execution_count": 11,
   "id": "c2901aac",
   "metadata": {},
   "outputs": [],
   "source": [
    "def crop(cf, image):\n",
    "    image=image[cf:-cf, cf:-cf]\n",
    "    return image"
   ]
  },
  {
   "cell_type": "code",
   "execution_count": 12,
   "id": "69e10b44",
   "metadata": {},
   "outputs": [
    {
     "data": {
      "text/plain": [
       "<matplotlib.image.AxesImage at 0x7ff434125d60>"
      ]
     },
     "execution_count": 12,
     "metadata": {},
     "output_type": "execute_result"
    },
    {
     "data": {
      "image/png": "[encoded data removed]",
      "text/plain": [
       "<Figure size 640x480 with 1 Axes>"
      ]
     },
     "metadata": {},
     "output_type": "display_data"
    }
   ],
   "source": [
    "#plot example filter\n",
    "plt.imshow(e_filters[0].reshape(N_pixels, N_pixels), cmap='Greys')"
   ]
  },
  {
   "cell_type": "markdown",
   "id": "f43a5d89",
   "metadata": {},
   "source": [
    "Create inhibitory Gabor filters"
   ]
  },
  {
   "cell_type": "code",
   "execution_count": 13,
   "id": "fd555cfe",
   "metadata": {},
   "outputs": [],
   "source": [
    "i_constant= 1\n",
    "i_filters=np.multiply(i_constant, e_filters)\n",
    "all_filters=np.vstack([e_filters, i_filters]) #shape - (n_neurons, n_pixels in image(n_pixels_x_axis*n_pixels_y_axis))"
   ]
  },
  {
   "cell_type": "markdown",
   "id": "96f9e647",
   "metadata": {},
   "source": [
    "## Jia stimuli"
   ]
  },
  {
   "cell_type": "markdown",
   "id": "bfdb7564",
   "metadata": {},
   "source": [
    "Import stimuli. Parameters to specify:\n",
    "- orientation -  in degrees from vertical (anti clockwise) - HAD TO ROTATE CREATION OF GABOR FILTERS!\n",
    "- size - in pixels 227*227\n",
    "- outer radius + inner radius\n",
    "- pixels per degree\n",
    "- grating contrast - up to 1 (*100 in SSN code)\n",
    "- snr - 0<= snr <= 1\n",
    "- phase - in degrees\n",
    "- spatial frequency - in 1/pixels (need to multiply k* dx_i - dx_i in degrees/pixel)"
   ]
  },
  {
   "cell_type": "code",
   "execution_count": 14,
   "id": "89d8851e",
   "metadata": {},
   "outputs": [],
   "source": [
    "#Stimulus parameters\n",
    "ori_deg=90\n",
    "size=N_pixels #227\n",
    "phase = 0 #uses random\n",
    "outer_radius = 3\n",
    "inner_radius = 2.5\n",
    "pixel_per_degree=1/dx_i #19.19\n",
    "grating_contrast = 0.99"
   ]
  },
  {
   "cell_type": "code",
   "execution_count": 20,
   "id": "98141bb8",
   "metadata": {},
   "outputs": [],
   "source": [
    "test_grating=BW_Grating(ori_deg=ori_deg, size=size, outer_radius=outer_radius, inner_radius=inner_radius, pixel_per_degree=pixel_per_degree, grating_contrast=grating_contrast, snr=1, phase=phase, spatial_frequency=k*dx_i)\n",
    "test_stimuli=test_grating.BW_image()#shape - (n_pixels in image(n_pixels_x_axis*n_pixels_y_axis, 1)"
   ]
  },
  {
   "cell_type": "code",
   "execution_count": 22,
   "id": "5db1e1c4",
   "metadata": {},
   "outputs": [
    {
     "data": {
      "text/plain": [
       "<matplotlib.image.AxesImage at 0x7ff40c42a700>"
      ]
     },
     "execution_count": 22,
     "metadata": {},
     "output_type": "execute_result"
    },
    {
     "data": {
      "image/png": "[encoded data removed]",
      "text/plain": [
       "<Figure size 640x480 with 1 Axes>"
      ]
     },
     "metadata": {},
     "output_type": "display_data"
    }
   ],
   "source": [
    "plt.imshow(test_stimuli, cmap='Greys')"
   ]
  },
  {
   "cell_type": "markdown",
   "id": "9006182c",
   "metadata": {},
   "source": [
    "### Apply filters to stimulus"
   ]
  },
  {
   "cell_type": "markdown",
   "id": "178eca71",
   "metadata": {},
   "source": [
    "Multiply flattened filters by flattened image"
   ]
  },
  {
   "cell_type": "code",
   "execution_count": null,
   "id": "929e6dc8",
   "metadata": {},
   "outputs": [],
   "source": [
    "#multiply filters my image\n",
    "output_gabor=np.matmul(all_filters, test_stimuli.ravel())*A \n",
    "\n",
    "#check maximum response is obtained at orientation of stimulus\n",
    "ssn.ori_map.ravel()[np.argmax(output_gabor)]"
   ]
  },
  {
   "cell_type": "markdown",
   "id": "b37be0d6",
   "metadata": {},
   "source": [
    "### --->Finding average value of constant A over different Gabor filters"
   ]
  },
  {
   "cell_type": "markdown",
   "id": "a99599f0",
   "metadata": {},
   "source": [
    "1. Select list of indices "
   ]
  },
  {
   "cell_type": "code",
   "execution_count": 23,
   "id": "39284879",
   "metadata": {},
   "outputs": [],
   "source": [
    "#OPTION 1 - choose random values for the orientation \n",
    "key = random.PRNGKey(90)\n",
    "random_nums=random.choice(key, a=ssn.ori_map)\n",
    "#indices=random_nums\n",
    "\n",
    "#OPTION 2 - select angles in spread out range - selects every given number of angles\n",
    "indices=np.sort(ssn.ori_map.ravel())"
   ]
  },
  {
   "cell_type": "markdown",
   "id": "701d3a80",
   "metadata": {},
   "source": [
    "2. Run loop for different orientations"
   ]
  },
  {
   "cell_type": "code",
   "execution_count": 24,
   "id": "c90475fd",
   "metadata": {
    "scrolled": true
   },
   "outputs": [
    {
     "name": "stdout",
     "output_type": "stream",
     "text": [
      "Average A is 0.00099440838675946\n"
     ]
    }
   ],
   "source": [
    "#loop over different orientations to find average constant\n",
    "A=0\n",
    "\n",
    "gabor_pars = dict(k=2.3, sigma_g=5, ori=20 )\n",
    "#gabor_pars[:]\n",
    "all_A=[]\n",
    "all_gabors=[]\n",
    "all_test_stimuli=[]\n",
    "\n",
    "for ori in indices:\n",
    "    \n",
    "    #generate Gabor filter and stimuli at orientation\n",
    "    gabor=GaborFilter(x_i=0, y_i=0, k=k, sigma_g=sigma_g, theta=ori, conv_factor=grid_pars.magnif_factor, x_axis=x_axis, y_axis=y_axis, dx=dx_i, dy=dx_i)\n",
    "    test_grating=BW_Grating(ori_deg=ori, size=N_pixels, outer_radius=10, inner_radius=10, pixel_per_degree=1/dx_i, grating_contrast=0.9, snr=1, phase=0, spatial_frequency=k*dx_i)\n",
    "    test_stimuli=test_grating.BW_image()\n",
    "    \n",
    "    #multiply filter and stimuli\n",
    "    output_gabor=np.matmul(gabor.filter.ravel(), test_stimuli.ravel())\n",
    "    \n",
    "    all_gabors.append(gabor.filter)\n",
    "    all_test_stimuli.append(test_stimuli)\n",
    "    \n",
    "    \n",
    "    #calculate value of A\n",
    "    A_value=100/(output_gabor) \n",
    "    \n",
    "    #create list of A\n",
    "    all_A.append(A_value)\n",
    "    \n",
    "    \n",
    "\n",
    "#find average value of A\n",
    "all_A=np.array(all_A)\n",
    "A=all_A.mean()\n",
    "all_gabors=np.array(all_gabors)\n",
    "all_test_stimuli=np.array(all_test_stimuli)\n",
    "\n",
    "print('Average A is {}'.format(A))"
   ]
  },
  {
   "cell_type": "markdown",
   "id": "0058f11c",
   "metadata": {},
   "source": [
    "3. Test previous loop"
   ]
  },
  {
   "cell_type": "code",
   "execution_count": 25,
   "id": "e4f7ec23",
   "metadata": {},
   "outputs": [
    {
     "data": {
      "text/plain": [
       "DeviceArray(90.771965, dtype=float32)"
      ]
     },
     "execution_count": 25,
     "metadata": {},
     "output_type": "execute_result"
    }
   ],
   "source": [
    "test_index = 35\n",
    "indices[test_index]"
   ]
  },
  {
   "cell_type": "code",
   "execution_count": 26,
   "id": "97cd727b",
   "metadata": {},
   "outputs": [
    {
     "data": {
      "text/plain": [
       "<matplotlib.image.AxesImage at 0x7ff40c326340>"
      ]
     },
     "execution_count": 26,
     "metadata": {},
     "output_type": "execute_result"
    },
    {
     "data": {
      "image/png": "[encoded data removed]",
      "text/plain": [
       "<Figure size 640x480 with 1 Axes>"
      ]
     },
     "metadata": {},
     "output_type": "display_data"
    }
   ],
   "source": [
    "plt.imshow(all_gabors[test_index], cmap='Greys')"
   ]
  },
  {
   "cell_type": "code",
   "execution_count": 27,
   "id": "126672ed",
   "metadata": {},
   "outputs": [
    {
     "data": {
      "text/plain": [
       "<matplotlib.image.AxesImage at 0x7ff40c1dffd0>"
      ]
     },
     "execution_count": 27,
     "metadata": {},
     "output_type": "execute_result"
    },
    {
     "data": {
      "image/png": "[encoded data removed]",
      "text/plain": [
       "<Figure size 640x480 with 1 Axes>"
      ]
     },
     "metadata": {},
     "output_type": "display_data"
    }
   ],
   "source": [
    "plt.imshow(all_test_stimuli[test_index], cmap='Greys')"
   ]
  },
  {
   "cell_type": "code",
   "execution_count": 28,
   "id": "b528c2b9",
   "metadata": {},
   "outputs": [
    {
     "name": "stdout",
     "output_type": "stream",
     "text": [
      "100.00004\n"
     ]
    }
   ],
   "source": [
    "#check average value \n",
    "output_test=0\n",
    "for i in range (len(all_gabors)):\n",
    "    output_test+=np.matmul(all_gabors[i].ravel(), all_test_stimuli[i].ravel())*A\n",
    "print(output_test/len(all_gabors))"
   ]
  },
  {
   "cell_type": "code",
   "execution_count": null,
   "id": "a87cdb70",
   "metadata": {},
   "outputs": [],
   "source": []
  }
 ],
 "metadata": {
  "kernelspec": {
   "display_name": "Python 3 (ipykernel)",
   "language": "python",
   "name": "python3"
  },
  "language_info": {
   "codemirror_mode": {
    "name": "ipython",
    "version": 3
   },
   "file_extension": ".py",
   "mimetype": "text/x-python",
   "name": "python",
   "nbconvert_exporter": "python",
   "pygments_lexer": "ipython3",
   "version": "3.8.10"
  }
 },
 "nbformat": 4,
 "nbformat_minor": 5
}
